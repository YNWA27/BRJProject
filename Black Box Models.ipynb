{
 "cells": [
  {
   "cell_type": "markdown",
   "metadata": {},
   "source": [
    "# Ideas & Stuff that needs to be done:\n",
    "- Good data splits\n",
    "- Feature Importance\n",
    "- Comparison of uncomplicated vs. complicated\n",
    "- Do result visualization (e.g. ROC/AUC)\n",
    "- Feature Selection comparison\n",
    "- Include recommendations based on predictions"
   ]
  },
  {
   "cell_type": "code",
   "execution_count": 3,
   "metadata": {},
   "outputs": [],
   "source": [
    "import pandas as pd\n",
    "from sklearn.model_selection import train_test_split\n",
    "import seaborn as sns\n",
    "import matplotlib.pyplot as plt\n",
    "import numpy as np"
   ]
  },
  {
   "cell_type": "code",
   "execution_count": 4,
   "metadata": {},
   "outputs": [],
   "source": [
    "features = pd.read_csv('all_uti_features.csv', index_col = 'example_id')\n",
    "prescrip = pd.read_csv('all_prescriptions.csv', index_col = 'example_id')\n",
    "resistance = pd.read_csv('all_uti_resist_labels.csv', index_col = 'example_id')"
   ]
  },
  {
   "cell_type": "markdown",
   "metadata": {},
   "source": [
    "### For us, resistance to SXT and CIP is the target variable to predict!"
   ]
  },
  {
   "cell_type": "markdown",
   "metadata": {},
   "source": [
    "# Data Preprocessing"
   ]
  },
  {
   "cell_type": "code",
   "execution_count": 5,
   "metadata": {},
   "outputs": [
    {
     "data": {
      "text/html": [
       "<div>\n",
       "<style scoped>\n",
       "    .dataframe tbody tr th:only-of-type {\n",
       "        vertical-align: middle;\n",
       "    }\n",
       "\n",
       "    .dataframe tbody tr th {\n",
       "        vertical-align: top;\n",
       "    }\n",
       "\n",
       "    .dataframe thead th {\n",
       "        text-align: right;\n",
       "    }\n",
       "</style>\n",
       "<table border=\"1\" class=\"dataframe\">\n",
       "  <thead>\n",
       "    <tr style=\"text-align: right;\">\n",
       "      <th></th>\n",
       "      <th>NIT</th>\n",
       "      <th>SXT</th>\n",
       "      <th>CIP</th>\n",
       "      <th>LVX</th>\n",
       "      <th>is_train</th>\n",
       "      <th>uncomplicated</th>\n",
       "    </tr>\n",
       "    <tr>\n",
       "      <th>example_id</th>\n",
       "      <th></th>\n",
       "      <th></th>\n",
       "      <th></th>\n",
       "      <th></th>\n",
       "      <th></th>\n",
       "      <th></th>\n",
       "    </tr>\n",
       "  </thead>\n",
       "  <tbody>\n",
       "    <tr>\n",
       "      <th>0</th>\n",
       "      <td>0.0</td>\n",
       "      <td>0.0</td>\n",
       "      <td>0.0</td>\n",
       "      <td>0.0</td>\n",
       "      <td>0</td>\n",
       "      <td>0</td>\n",
       "    </tr>\n",
       "    <tr>\n",
       "      <th>1</th>\n",
       "      <td>0.0</td>\n",
       "      <td>0.0</td>\n",
       "      <td>0.0</td>\n",
       "      <td>0.0</td>\n",
       "      <td>1</td>\n",
       "      <td>0</td>\n",
       "    </tr>\n",
       "    <tr>\n",
       "      <th>2</th>\n",
       "      <td>0.0</td>\n",
       "      <td>0.0</td>\n",
       "      <td>1.0</td>\n",
       "      <td>1.0</td>\n",
       "      <td>1</td>\n",
       "      <td>0</td>\n",
       "    </tr>\n",
       "    <tr>\n",
       "      <th>3</th>\n",
       "      <td>0.0</td>\n",
       "      <td>0.0</td>\n",
       "      <td>0.0</td>\n",
       "      <td>0.0</td>\n",
       "      <td>1</td>\n",
       "      <td>0</td>\n",
       "    </tr>\n",
       "    <tr>\n",
       "      <th>4</th>\n",
       "      <td>0.0</td>\n",
       "      <td>0.0</td>\n",
       "      <td>0.0</td>\n",
       "      <td>0.0</td>\n",
       "      <td>1</td>\n",
       "      <td>1</td>\n",
       "    </tr>\n",
       "    <tr>\n",
       "      <th>...</th>\n",
       "      <td>...</td>\n",
       "      <td>...</td>\n",
       "      <td>...</td>\n",
       "      <td>...</td>\n",
       "      <td>...</td>\n",
       "      <td>...</td>\n",
       "    </tr>\n",
       "    <tr>\n",
       "      <th>116897</th>\n",
       "      <td>1.0</td>\n",
       "      <td>1.0</td>\n",
       "      <td>1.0</td>\n",
       "      <td>1.0</td>\n",
       "      <td>1</td>\n",
       "      <td>0</td>\n",
       "    </tr>\n",
       "    <tr>\n",
       "      <th>116898</th>\n",
       "      <td>NaN</td>\n",
       "      <td>NaN</td>\n",
       "      <td>0.0</td>\n",
       "      <td>0.0</td>\n",
       "      <td>1</td>\n",
       "      <td>0</td>\n",
       "    </tr>\n",
       "    <tr>\n",
       "      <th>116899</th>\n",
       "      <td>0.0</td>\n",
       "      <td>0.0</td>\n",
       "      <td>0.0</td>\n",
       "      <td>0.0</td>\n",
       "      <td>1</td>\n",
       "      <td>1</td>\n",
       "    </tr>\n",
       "    <tr>\n",
       "      <th>116900</th>\n",
       "      <td>0.0</td>\n",
       "      <td>0.0</td>\n",
       "      <td>0.0</td>\n",
       "      <td>0.0</td>\n",
       "      <td>0</td>\n",
       "      <td>0</td>\n",
       "    </tr>\n",
       "    <tr>\n",
       "      <th>116901</th>\n",
       "      <td>0.0</td>\n",
       "      <td>0.0</td>\n",
       "      <td>0.0</td>\n",
       "      <td>0.0</td>\n",
       "      <td>1</td>\n",
       "      <td>0</td>\n",
       "    </tr>\n",
       "  </tbody>\n",
       "</table>\n",
       "<p>116902 rows × 6 columns</p>\n",
       "</div>"
      ],
      "text/plain": [
       "            NIT  SXT  CIP  LVX  is_train  uncomplicated\n",
       "example_id                                             \n",
       "0           0.0  0.0  0.0  0.0         0              0\n",
       "1           0.0  0.0  0.0  0.0         1              0\n",
       "2           0.0  0.0  1.0  1.0         1              0\n",
       "3           0.0  0.0  0.0  0.0         1              0\n",
       "4           0.0  0.0  0.0  0.0         1              1\n",
       "...         ...  ...  ...  ...       ...            ...\n",
       "116897      1.0  1.0  1.0  1.0         1              0\n",
       "116898      NaN  NaN  0.0  0.0         1              0\n",
       "116899      0.0  0.0  0.0  0.0         1              1\n",
       "116900      0.0  0.0  0.0  0.0         0              0\n",
       "116901      0.0  0.0  0.0  0.0         1              0\n",
       "\n",
       "[116902 rows x 6 columns]"
      ]
     },
     "execution_count": 5,
     "metadata": {},
     "output_type": "execute_result"
    }
   ],
   "source": [
    "resistance"
   ]
  },
  {
   "cell_type": "code",
   "execution_count": 6,
   "metadata": {},
   "outputs": [
    {
     "data": {
      "text/plain": [
       "(116902,)"
      ]
     },
     "execution_count": 6,
     "metadata": {},
     "output_type": "execute_result"
    }
   ],
   "source": [
    "resistance['is_train'].shape"
   ]
  },
  {
   "cell_type": "code",
   "execution_count": 7,
   "metadata": {},
   "outputs": [],
   "source": [
    "cip_df = resistance[resistance['CIP'].notna()][['CIP']].join(features)"
   ]
  },
  {
   "cell_type": "code",
   "execution_count": 8,
   "metadata": {},
   "outputs": [
    {
     "data": {
      "text/html": [
       "<div>\n",
       "<style scoped>\n",
       "    .dataframe tbody tr th:only-of-type {\n",
       "        vertical-align: middle;\n",
       "    }\n",
       "\n",
       "    .dataframe tbody tr th {\n",
       "        vertical-align: top;\n",
       "    }\n",
       "\n",
       "    .dataframe thead th {\n",
       "        text-align: right;\n",
       "    }\n",
       "</style>\n",
       "<table border=\"1\" class=\"dataframe\">\n",
       "  <thead>\n",
       "    <tr style=\"text-align: right;\">\n",
       "      <th></th>\n",
       "      <th>SXT</th>\n",
       "      <th>demographics - age</th>\n",
       "      <th>demographics - is_white</th>\n",
       "      <th>demographics - is_veteran</th>\n",
       "      <th>micro - prev resistance LVX 14</th>\n",
       "      <th>micro - prev resistance AMP 14</th>\n",
       "      <th>micro - prev resistance CFZ 14</th>\n",
       "      <th>micro - prev resistance NIT 14</th>\n",
       "      <th>micro - prev resistance GEN 14</th>\n",
       "      <th>micro - prev resistance SXT 14</th>\n",
       "      <th>...</th>\n",
       "      <th>selected micro - colonization pressure NIT 90 - overall</th>\n",
       "      <th>selected micro - colonization pressure OXA 90 - overall</th>\n",
       "      <th>selected micro - colonization pressure PEN 90 - overall</th>\n",
       "      <th>selected micro - colonization pressure SAM 90 - overall</th>\n",
       "      <th>selected micro - colonization pressure SXT 90 - overall</th>\n",
       "      <th>selected micro - colonization pressure TET 90 - overall</th>\n",
       "      <th>selected micro - colonization pressure TZP 90 - overall</th>\n",
       "      <th>selected micro - colonization pressure VAN 90 - overall</th>\n",
       "      <th>is_train</th>\n",
       "      <th>uncomplicated</th>\n",
       "    </tr>\n",
       "    <tr>\n",
       "      <th>example_id</th>\n",
       "      <th></th>\n",
       "      <th></th>\n",
       "      <th></th>\n",
       "      <th></th>\n",
       "      <th></th>\n",
       "      <th></th>\n",
       "      <th></th>\n",
       "      <th></th>\n",
       "      <th></th>\n",
       "      <th></th>\n",
       "      <th></th>\n",
       "      <th></th>\n",
       "      <th></th>\n",
       "      <th></th>\n",
       "      <th></th>\n",
       "      <th></th>\n",
       "      <th></th>\n",
       "      <th></th>\n",
       "      <th></th>\n",
       "      <th></th>\n",
       "      <th></th>\n",
       "    </tr>\n",
       "  </thead>\n",
       "  <tbody>\n",
       "    <tr>\n",
       "      <th>0</th>\n",
       "      <td>0.0</td>\n",
       "      <td>54</td>\n",
       "      <td>1.0</td>\n",
       "      <td>0.0</td>\n",
       "      <td>0.0</td>\n",
       "      <td>0.0</td>\n",
       "      <td>0.0</td>\n",
       "      <td>0.0</td>\n",
       "      <td>0.0</td>\n",
       "      <td>0.0</td>\n",
       "      <td>...</td>\n",
       "      <td>0.24</td>\n",
       "      <td>0.56</td>\n",
       "      <td>0.49</td>\n",
       "      <td>0.38</td>\n",
       "      <td>0.26</td>\n",
       "      <td>0.37</td>\n",
       "      <td>0.06</td>\n",
       "      <td>0.13</td>\n",
       "      <td>0</td>\n",
       "      <td>0</td>\n",
       "    </tr>\n",
       "    <tr>\n",
       "      <th>1</th>\n",
       "      <td>0.0</td>\n",
       "      <td>27</td>\n",
       "      <td>0.0</td>\n",
       "      <td>0.0</td>\n",
       "      <td>0.0</td>\n",
       "      <td>0.0</td>\n",
       "      <td>0.0</td>\n",
       "      <td>0.0</td>\n",
       "      <td>0.0</td>\n",
       "      <td>0.0</td>\n",
       "      <td>...</td>\n",
       "      <td>0.19</td>\n",
       "      <td>0.78</td>\n",
       "      <td>0.83</td>\n",
       "      <td>0.33</td>\n",
       "      <td>0.20</td>\n",
       "      <td>0.35</td>\n",
       "      <td>0.18</td>\n",
       "      <td>0.13</td>\n",
       "      <td>1</td>\n",
       "      <td>0</td>\n",
       "    </tr>\n",
       "    <tr>\n",
       "      <th>2</th>\n",
       "      <td>0.0</td>\n",
       "      <td>89</td>\n",
       "      <td>1.0</td>\n",
       "      <td>0.0</td>\n",
       "      <td>0.0</td>\n",
       "      <td>0.0</td>\n",
       "      <td>0.0</td>\n",
       "      <td>0.0</td>\n",
       "      <td>0.0</td>\n",
       "      <td>0.0</td>\n",
       "      <td>...</td>\n",
       "      <td>0.21</td>\n",
       "      <td>0.66</td>\n",
       "      <td>0.51</td>\n",
       "      <td>0.50</td>\n",
       "      <td>0.25</td>\n",
       "      <td>0.37</td>\n",
       "      <td>0.05</td>\n",
       "      <td>0.12</td>\n",
       "      <td>1</td>\n",
       "      <td>0</td>\n",
       "    </tr>\n",
       "    <tr>\n",
       "      <th>3</th>\n",
       "      <td>0.0</td>\n",
       "      <td>49</td>\n",
       "      <td>1.0</td>\n",
       "      <td>0.0</td>\n",
       "      <td>0.0</td>\n",
       "      <td>0.0</td>\n",
       "      <td>0.0</td>\n",
       "      <td>0.0</td>\n",
       "      <td>0.0</td>\n",
       "      <td>0.0</td>\n",
       "      <td>...</td>\n",
       "      <td>0.23</td>\n",
       "      <td>0.47</td>\n",
       "      <td>0.50</td>\n",
       "      <td>0.25</td>\n",
       "      <td>0.26</td>\n",
       "      <td>0.35</td>\n",
       "      <td>0.06</td>\n",
       "      <td>0.12</td>\n",
       "      <td>1</td>\n",
       "      <td>0</td>\n",
       "    </tr>\n",
       "    <tr>\n",
       "      <th>4</th>\n",
       "      <td>0.0</td>\n",
       "      <td>21</td>\n",
       "      <td>1.0</td>\n",
       "      <td>0.0</td>\n",
       "      <td>0.0</td>\n",
       "      <td>0.0</td>\n",
       "      <td>0.0</td>\n",
       "      <td>0.0</td>\n",
       "      <td>0.0</td>\n",
       "      <td>0.0</td>\n",
       "      <td>...</td>\n",
       "      <td>0.24</td>\n",
       "      <td>0.50</td>\n",
       "      <td>0.49</td>\n",
       "      <td>0.33</td>\n",
       "      <td>0.25</td>\n",
       "      <td>0.37</td>\n",
       "      <td>0.05</td>\n",
       "      <td>0.10</td>\n",
       "      <td>1</td>\n",
       "      <td>1</td>\n",
       "    </tr>\n",
       "    <tr>\n",
       "      <th>...</th>\n",
       "      <td>...</td>\n",
       "      <td>...</td>\n",
       "      <td>...</td>\n",
       "      <td>...</td>\n",
       "      <td>...</td>\n",
       "      <td>...</td>\n",
       "      <td>...</td>\n",
       "      <td>...</td>\n",
       "      <td>...</td>\n",
       "      <td>...</td>\n",
       "      <td>...</td>\n",
       "      <td>...</td>\n",
       "      <td>...</td>\n",
       "      <td>...</td>\n",
       "      <td>...</td>\n",
       "      <td>...</td>\n",
       "      <td>...</td>\n",
       "      <td>...</td>\n",
       "      <td>...</td>\n",
       "      <td>...</td>\n",
       "      <td>...</td>\n",
       "    </tr>\n",
       "    <tr>\n",
       "      <th>116896</th>\n",
       "      <td>1.0</td>\n",
       "      <td>53</td>\n",
       "      <td>0.0</td>\n",
       "      <td>0.0</td>\n",
       "      <td>0.0</td>\n",
       "      <td>0.0</td>\n",
       "      <td>0.0</td>\n",
       "      <td>0.0</td>\n",
       "      <td>0.0</td>\n",
       "      <td>0.0</td>\n",
       "      <td>...</td>\n",
       "      <td>0.22</td>\n",
       "      <td>0.49</td>\n",
       "      <td>0.49</td>\n",
       "      <td>0.30</td>\n",
       "      <td>0.25</td>\n",
       "      <td>0.35</td>\n",
       "      <td>0.07</td>\n",
       "      <td>0.11</td>\n",
       "      <td>1</td>\n",
       "      <td>0</td>\n",
       "    </tr>\n",
       "    <tr>\n",
       "      <th>116897</th>\n",
       "      <td>1.0</td>\n",
       "      <td>66</td>\n",
       "      <td>1.0</td>\n",
       "      <td>0.0</td>\n",
       "      <td>0.0</td>\n",
       "      <td>0.0</td>\n",
       "      <td>0.0</td>\n",
       "      <td>0.0</td>\n",
       "      <td>0.0</td>\n",
       "      <td>0.0</td>\n",
       "      <td>...</td>\n",
       "      <td>0.24</td>\n",
       "      <td>0.49</td>\n",
       "      <td>0.54</td>\n",
       "      <td>0.33</td>\n",
       "      <td>0.25</td>\n",
       "      <td>0.35</td>\n",
       "      <td>0.09</td>\n",
       "      <td>0.10</td>\n",
       "      <td>1</td>\n",
       "      <td>0</td>\n",
       "    </tr>\n",
       "    <tr>\n",
       "      <th>116899</th>\n",
       "      <td>0.0</td>\n",
       "      <td>48</td>\n",
       "      <td>1.0</td>\n",
       "      <td>0.0</td>\n",
       "      <td>0.0</td>\n",
       "      <td>0.0</td>\n",
       "      <td>0.0</td>\n",
       "      <td>0.0</td>\n",
       "      <td>0.0</td>\n",
       "      <td>0.0</td>\n",
       "      <td>...</td>\n",
       "      <td>0.21</td>\n",
       "      <td>0.51</td>\n",
       "      <td>0.51</td>\n",
       "      <td>0.28</td>\n",
       "      <td>0.23</td>\n",
       "      <td>0.34</td>\n",
       "      <td>0.05</td>\n",
       "      <td>0.10</td>\n",
       "      <td>1</td>\n",
       "      <td>1</td>\n",
       "    </tr>\n",
       "    <tr>\n",
       "      <th>116900</th>\n",
       "      <td>0.0</td>\n",
       "      <td>63</td>\n",
       "      <td>1.0</td>\n",
       "      <td>0.0</td>\n",
       "      <td>0.0</td>\n",
       "      <td>0.0</td>\n",
       "      <td>0.0</td>\n",
       "      <td>0.0</td>\n",
       "      <td>0.0</td>\n",
       "      <td>0.0</td>\n",
       "      <td>...</td>\n",
       "      <td>0.18</td>\n",
       "      <td>0.52</td>\n",
       "      <td>0.57</td>\n",
       "      <td>0.38</td>\n",
       "      <td>0.27</td>\n",
       "      <td>0.35</td>\n",
       "      <td>0.06</td>\n",
       "      <td>0.12</td>\n",
       "      <td>0</td>\n",
       "      <td>0</td>\n",
       "    </tr>\n",
       "    <tr>\n",
       "      <th>116901</th>\n",
       "      <td>0.0</td>\n",
       "      <td>84</td>\n",
       "      <td>1.0</td>\n",
       "      <td>0.0</td>\n",
       "      <td>0.0</td>\n",
       "      <td>0.0</td>\n",
       "      <td>0.0</td>\n",
       "      <td>0.0</td>\n",
       "      <td>0.0</td>\n",
       "      <td>0.0</td>\n",
       "      <td>...</td>\n",
       "      <td>0.20</td>\n",
       "      <td>0.62</td>\n",
       "      <td>0.57</td>\n",
       "      <td>0.00</td>\n",
       "      <td>0.23</td>\n",
       "      <td>0.34</td>\n",
       "      <td>0.06</td>\n",
       "      <td>0.08</td>\n",
       "      <td>1</td>\n",
       "      <td>0</td>\n",
       "    </tr>\n",
       "  </tbody>\n",
       "</table>\n",
       "<p>103654 rows × 791 columns</p>\n",
       "</div>"
      ],
      "text/plain": [
       "            SXT  demographics - age  demographics - is_white  \\\n",
       "example_id                                                     \n",
       "0           0.0                  54                      1.0   \n",
       "1           0.0                  27                      0.0   \n",
       "2           0.0                  89                      1.0   \n",
       "3           0.0                  49                      1.0   \n",
       "4           0.0                  21                      1.0   \n",
       "...         ...                 ...                      ...   \n",
       "116896      1.0                  53                      0.0   \n",
       "116897      1.0                  66                      1.0   \n",
       "116899      0.0                  48                      1.0   \n",
       "116900      0.0                  63                      1.0   \n",
       "116901      0.0                  84                      1.0   \n",
       "\n",
       "            demographics - is_veteran  micro - prev resistance LVX 14  \\\n",
       "example_id                                                              \n",
       "0                                 0.0                             0.0   \n",
       "1                                 0.0                             0.0   \n",
       "2                                 0.0                             0.0   \n",
       "3                                 0.0                             0.0   \n",
       "4                                 0.0                             0.0   \n",
       "...                               ...                             ...   \n",
       "116896                            0.0                             0.0   \n",
       "116897                            0.0                             0.0   \n",
       "116899                            0.0                             0.0   \n",
       "116900                            0.0                             0.0   \n",
       "116901                            0.0                             0.0   \n",
       "\n",
       "            micro - prev resistance AMP 14  micro - prev resistance CFZ 14  \\\n",
       "example_id                                                                   \n",
       "0                                      0.0                             0.0   \n",
       "1                                      0.0                             0.0   \n",
       "2                                      0.0                             0.0   \n",
       "3                                      0.0                             0.0   \n",
       "4                                      0.0                             0.0   \n",
       "...                                    ...                             ...   \n",
       "116896                                 0.0                             0.0   \n",
       "116897                                 0.0                             0.0   \n",
       "116899                                 0.0                             0.0   \n",
       "116900                                 0.0                             0.0   \n",
       "116901                                 0.0                             0.0   \n",
       "\n",
       "            micro - prev resistance NIT 14  micro - prev resistance GEN 14  \\\n",
       "example_id                                                                   \n",
       "0                                      0.0                             0.0   \n",
       "1                                      0.0                             0.0   \n",
       "2                                      0.0                             0.0   \n",
       "3                                      0.0                             0.0   \n",
       "4                                      0.0                             0.0   \n",
       "...                                    ...                             ...   \n",
       "116896                                 0.0                             0.0   \n",
       "116897                                 0.0                             0.0   \n",
       "116899                                 0.0                             0.0   \n",
       "116900                                 0.0                             0.0   \n",
       "116901                                 0.0                             0.0   \n",
       "\n",
       "            micro - prev resistance SXT 14  ...  \\\n",
       "example_id                                  ...   \n",
       "0                                      0.0  ...   \n",
       "1                                      0.0  ...   \n",
       "2                                      0.0  ...   \n",
       "3                                      0.0  ...   \n",
       "4                                      0.0  ...   \n",
       "...                                    ...  ...   \n",
       "116896                                 0.0  ...   \n",
       "116897                                 0.0  ...   \n",
       "116899                                 0.0  ...   \n",
       "116900                                 0.0  ...   \n",
       "116901                                 0.0  ...   \n",
       "\n",
       "            selected micro - colonization pressure NIT 90 - overall  \\\n",
       "example_id                                                            \n",
       "0                                                        0.24         \n",
       "1                                                        0.19         \n",
       "2                                                        0.21         \n",
       "3                                                        0.23         \n",
       "4                                                        0.24         \n",
       "...                                                       ...         \n",
       "116896                                                   0.22         \n",
       "116897                                                   0.24         \n",
       "116899                                                   0.21         \n",
       "116900                                                   0.18         \n",
       "116901                                                   0.20         \n",
       "\n",
       "            selected micro - colonization pressure OXA 90 - overall  \\\n",
       "example_id                                                            \n",
       "0                                                        0.56         \n",
       "1                                                        0.78         \n",
       "2                                                        0.66         \n",
       "3                                                        0.47         \n",
       "4                                                        0.50         \n",
       "...                                                       ...         \n",
       "116896                                                   0.49         \n",
       "116897                                                   0.49         \n",
       "116899                                                   0.51         \n",
       "116900                                                   0.52         \n",
       "116901                                                   0.62         \n",
       "\n",
       "            selected micro - colonization pressure PEN 90 - overall  \\\n",
       "example_id                                                            \n",
       "0                                                        0.49         \n",
       "1                                                        0.83         \n",
       "2                                                        0.51         \n",
       "3                                                        0.50         \n",
       "4                                                        0.49         \n",
       "...                                                       ...         \n",
       "116896                                                   0.49         \n",
       "116897                                                   0.54         \n",
       "116899                                                   0.51         \n",
       "116900                                                   0.57         \n",
       "116901                                                   0.57         \n",
       "\n",
       "            selected micro - colonization pressure SAM 90 - overall  \\\n",
       "example_id                                                            \n",
       "0                                                        0.38         \n",
       "1                                                        0.33         \n",
       "2                                                        0.50         \n",
       "3                                                        0.25         \n",
       "4                                                        0.33         \n",
       "...                                                       ...         \n",
       "116896                                                   0.30         \n",
       "116897                                                   0.33         \n",
       "116899                                                   0.28         \n",
       "116900                                                   0.38         \n",
       "116901                                                   0.00         \n",
       "\n",
       "            selected micro - colonization pressure SXT 90 - overall  \\\n",
       "example_id                                                            \n",
       "0                                                        0.26         \n",
       "1                                                        0.20         \n",
       "2                                                        0.25         \n",
       "3                                                        0.26         \n",
       "4                                                        0.25         \n",
       "...                                                       ...         \n",
       "116896                                                   0.25         \n",
       "116897                                                   0.25         \n",
       "116899                                                   0.23         \n",
       "116900                                                   0.27         \n",
       "116901                                                   0.23         \n",
       "\n",
       "            selected micro - colonization pressure TET 90 - overall  \\\n",
       "example_id                                                            \n",
       "0                                                        0.37         \n",
       "1                                                        0.35         \n",
       "2                                                        0.37         \n",
       "3                                                        0.35         \n",
       "4                                                        0.37         \n",
       "...                                                       ...         \n",
       "116896                                                   0.35         \n",
       "116897                                                   0.35         \n",
       "116899                                                   0.34         \n",
       "116900                                                   0.35         \n",
       "116901                                                   0.34         \n",
       "\n",
       "            selected micro - colonization pressure TZP 90 - overall  \\\n",
       "example_id                                                            \n",
       "0                                                        0.06         \n",
       "1                                                        0.18         \n",
       "2                                                        0.05         \n",
       "3                                                        0.06         \n",
       "4                                                        0.05         \n",
       "...                                                       ...         \n",
       "116896                                                   0.07         \n",
       "116897                                                   0.09         \n",
       "116899                                                   0.05         \n",
       "116900                                                   0.06         \n",
       "116901                                                   0.06         \n",
       "\n",
       "            selected micro - colonization pressure VAN 90 - overall  is_train  \\\n",
       "example_id                                                                      \n",
       "0                                                        0.13               0   \n",
       "1                                                        0.13               1   \n",
       "2                                                        0.12               1   \n",
       "3                                                        0.12               1   \n",
       "4                                                        0.10               1   \n",
       "...                                                       ...             ...   \n",
       "116896                                                   0.11               1   \n",
       "116897                                                   0.10               1   \n",
       "116899                                                   0.10               1   \n",
       "116900                                                   0.12               0   \n",
       "116901                                                   0.08               1   \n",
       "\n",
       "            uncomplicated  \n",
       "example_id                 \n",
       "0                       0  \n",
       "1                       0  \n",
       "2                       0  \n",
       "3                       0  \n",
       "4                       1  \n",
       "...                   ...  \n",
       "116896                  0  \n",
       "116897                  0  \n",
       "116899                  1  \n",
       "116900                  0  \n",
       "116901                  0  \n",
       "\n",
       "[103654 rows x 791 columns]"
      ]
     },
     "execution_count": 8,
     "metadata": {},
     "output_type": "execute_result"
    }
   ],
   "source": [
    "cip_df"
   ]
  },
  {
   "cell_type": "markdown",
   "metadata": {},
   "source": [
    "## Feature Reduction"
   ]
  },
  {
   "cell_type": "code",
   "execution_count": 9,
   "metadata": {},
   "outputs": [],
   "source": [
    "cip_df = cip_df.drop(cip_df.columns[cip_df.columns.str.contains('selected micro - ', regex=True, na=True)], axis = 1)"
   ]
  },
  {
   "cell_type": "code",
   "execution_count": 8,
   "metadata": {},
   "outputs": [],
   "source": [
    "cip_df = cip_df.drop(cip_df.columns[cip_df.columns.str.contains('14', regex=True, na=True)], axis = 1)\n",
    "cip_df = cip_df.drop(cip_df.columns[cip_df.columns.str.contains('30', regex=True, na=True)], axis = 1)\n",
    "cip_df = cip_df.drop(cip_df.columns[cip_df.columns.str.contains('90', regex=True, na=True)], axis = 1)\n",
    "cip_df = cip_df.drop(cip_df.columns[cip_df.columns.str.contains('180', regex=True, na=True)], axis = 1)"
   ]
  },
  {
   "cell_type": "code",
   "execution_count": 9,
   "metadata": {},
   "outputs": [],
   "source": [
    "cip_y = cip_df[['CIP']]\n",
    "cip_X = cip_df.drop('CIP', axis = 1)"
   ]
  },
  {
   "cell_type": "markdown",
   "metadata": {},
   "source": [
    "## Divide into train & test data\n",
    "\n",
    "- Don't touch the test data afterwards!\n",
    "- Avoid having the same person in train & test data -> data leakage "
   ]
  },
  {
   "cell_type": "code",
   "execution_count": 10,
   "metadata": {},
   "outputs": [],
   "source": [
    "from sklearn.model_selection import train_test_split"
   ]
  },
  {
   "cell_type": "code",
   "execution_count": 11,
   "metadata": {},
   "outputs": [],
   "source": [
    "X_train, X_test, y_train, y_test = train_test_split(cip_X, cip_y)"
   ]
  },
  {
   "cell_type": "markdown",
   "metadata": {},
   "source": [
    "## Feature Selection"
   ]
  },
  {
   "cell_type": "code",
   "execution_count": 12,
   "metadata": {},
   "outputs": [
    {
     "data": {
      "text/plain": [
       "<matplotlib.axes._subplots.AxesSubplot at 0x261fdd35d88>"
      ]
     },
     "execution_count": 12,
     "metadata": {},
     "output_type": "execute_result"
    },
    {
     "data": {
      "image/png": "[encoded data removed]",
      "text/plain": [
       "<Figure size 432x288 with 2 Axes>"
      ]
     },
     "metadata": {
      "needs_background": "light"
     },
     "output_type": "display_data"
    }
   ],
   "source": [
    "sns.heatmap(np.corrcoef(X_train.join(y_train), rowvar = False))"
   ]
  },
  {
   "cell_type": "code",
   "execution_count": 13,
   "metadata": {},
   "outputs": [
    {
     "data": {
      "text/plain": [
       "array([ 2.08560356e-01,  2.18780954e-02,  9.20009456e-02,  1.71502317e-01,\n",
       "        2.45723518e-01,  4.00535314e-01,  2.12243258e-01,  2.23836181e-01,\n",
       "        2.37779684e-01,  2.38434143e-01,  4.02319778e-01,  2.42047650e-01,\n",
       "        9.89194095e-02,  1.46013895e-01,  2.25904428e-01,  2.18838003e-01,\n",
       "        1.55018842e-01,  1.79916575e-01,  2.09551603e-01,  2.37316938e-01,\n",
       "        1.54444025e-01,  2.40441786e-01,  2.10480224e-01,  1.04679445e-01,\n",
       "        1.45060224e-01,  2.53733130e-01,  1.16546049e-01,  1.03381926e-01,\n",
       "        1.30009157e-01,  6.92232180e-02,  1.64138237e-01,  1.57473953e-01,\n",
       "        1.38605273e-01,  1.68660484e-01,  7.98086917e-02,  1.54423216e-01,\n",
       "        1.40233535e-01,  1.13781262e-01,  1.82968356e-01,  1.04753518e-01,\n",
       "        1.66996164e-01,  4.11286535e-02,  4.51637246e-02,  2.27618579e-02,\n",
       "        2.81597556e-02,  5.18318667e-02,  3.88587623e-02,  3.99053209e-02,\n",
       "        2.31350239e-02,  6.72891863e-03,  1.39460765e-01,  9.28851469e-02,\n",
       "        4.11286535e-02,  4.51637246e-02,  1.20455442e-02,  1.73982489e-02,\n",
       "        2.81597556e-02,  5.03723748e-02, -7.46980680e-04,  1.50661141e-02,\n",
       "        3.23400324e-02,  4.32093498e-03,  2.52831810e-02,  2.00028089e-02,\n",
       "        1.94888817e-02,  2.62634961e-02,  1.02246420e-02, -2.99167556e-03,\n",
       "        9.63286200e-03,  1.66165861e-03,  6.72891863e-03, -1.22531617e-03,\n",
       "        1.11163041e-02,  1.34281557e-02, -5.92316145e-03,  1.53337625e-03,\n",
       "       -2.80783011e-03,  3.64110766e-02,  3.03891017e-02,  4.99872152e-02,\n",
       "        6.53011589e-03,  1.82508686e-03,  2.47122556e-01,  2.80408422e-01,\n",
       "        4.69294835e-02,  9.72847882e-02,  1.02470531e-01,  5.71603095e-02,\n",
       "        8.33380893e-02,  1.56068125e-01,  1.67042685e-01,  1.39493838e-01,\n",
       "        7.83650643e-02,  1.09962579e-01,  4.97703396e-02,  1.94054497e-01,\n",
       "        5.26787515e-02, -9.50475186e-03,  2.51886016e-01,  2.80408422e-01,\n",
       "        2.07402805e-01,  3.25857070e-03,  9.17979481e-02,  1.02470531e-01,\n",
       "        3.33044206e-02,  4.20471410e-02,  7.52218763e-02, -1.41408561e-02,\n",
       "        8.13603154e-02,  1.63230454e-01,  5.20010200e-02,  4.98803340e-02,\n",
       "        2.25171938e-01,  1.01397945e-01,  1.78939348e-02,  1.63015013e-01,\n",
       "        2.67289146e-01,  1.14880408e-01,  1.67042685e-01,  7.96691651e-02,\n",
       "       -4.30108221e-03,  1.29583389e-01, -6.70194911e-03,  6.92311923e-03,\n",
       "        5.46749021e-02,  1.48187095e-01,  4.20647749e-02,  1.08173995e-01,\n",
       "        6.56390018e-02,  7.83650643e-02,  9.84853986e-02, -3.45291126e-02,\n",
       "        1.09962579e-01,  3.57129377e-02,  4.97703396e-02,  7.18319581e-02,\n",
       "        1.40920819e-01,  1.94054497e-01,  5.64266926e-02,  1.28997297e-02,\n",
       "        3.26421011e-02,  2.62683909e-02,  4.77584263e-02,  4.17419399e-02,\n",
       "        8.27780186e-03,  9.89371226e-03, -1.03830808e-02,  7.76422680e-02,\n",
       "       -2.49977361e-02,  1.14178312e-01,  2.43443961e-01,  1.39168140e-01,\n",
       "        5.64991555e-02,  2.22181724e-01,  2.67289146e-01,  1.18814609e-01,\n",
       "        5.69026849e-02,  4.17419399e-02,  1.23392142e-01,  1.05628156e-01,\n",
       "        4.23262205e-02,  9.98309542e-02,  1.22303208e-01,  4.80920975e-02,\n",
       "        1.31022609e-01,  3.39563169e-02,  6.36481380e-02,  3.65438174e-02,\n",
       "        1.73235035e-02,  1.17472012e-01,  1.46705167e-01,  6.10167584e-02,\n",
       "        9.25758364e-02,  9.78734911e-02,  4.70439343e-02,  5.37324951e-02,\n",
       "        3.27427608e-02,  2.93094082e-02,  1.19235545e-01,  7.29294656e-02,\n",
       "        6.80976725e-02,  7.11135632e-02,  5.63463738e-02,  7.07104698e-02,\n",
       "        2.04379088e-02,  5.29817278e-02,  1.52517003e-02,  5.67744975e-02,\n",
       "        1.92858701e-02,  7.33324730e-02,  4.72793156e-02,  6.22485570e-02,\n",
       "        4.20084038e-02,  2.52447720e-02,  1.19194774e-02, -5.95703656e-03,\n",
       "        1.17970579e-01,  6.95027530e-02,  1.27024118e-01, -2.13770102e-01,\n",
       "       -2.18319120e-02, -1.55653326e-01,  1.00000000e+00])"
      ]
     },
     "execution_count": 13,
     "metadata": {},
     "output_type": "execute_result"
    }
   ],
   "source": [
    "np.corrcoef(X_train.join(y_train), rowvar = False)[X_train.shape[1]]"
   ]
  },
  {
   "cell_type": "code",
   "execution_count": 14,
   "metadata": {},
   "outputs": [],
   "source": [
    "from sklearn.decomposition import PCA"
   ]
  },
  {
   "cell_type": "code",
   "execution_count": 15,
   "metadata": {},
   "outputs": [],
   "source": [
    "reduced = PCA(n_components = 0.9).fit_transform(X = cip_df.drop('CIP', axis = 1))"
   ]
  },
  {
   "cell_type": "code",
   "execution_count": 16,
   "metadata": {},
   "outputs": [
    {
     "data": {
      "text/html": [
       "<div>\n",
       "<style scoped>\n",
       "    .dataframe tbody tr th:only-of-type {\n",
       "        vertical-align: middle;\n",
       "    }\n",
       "\n",
       "    .dataframe tbody tr th {\n",
       "        vertical-align: top;\n",
       "    }\n",
       "\n",
       "    .dataframe thead th {\n",
       "        text-align: right;\n",
       "    }\n",
       "</style>\n",
       "<table border=\"1\" class=\"dataframe\">\n",
       "  <thead>\n",
       "    <tr style=\"text-align: right;\">\n",
       "      <th></th>\n",
       "      <th>0</th>\n",
       "    </tr>\n",
       "    <tr>\n",
       "      <th>example_id</th>\n",
       "      <th></th>\n",
       "    </tr>\n",
       "  </thead>\n",
       "  <tbody>\n",
       "    <tr>\n",
       "      <th>0</th>\n",
       "      <td>1.137278</td>\n",
       "    </tr>\n",
       "    <tr>\n",
       "      <th>1</th>\n",
       "      <td>28.150111</td>\n",
       "    </tr>\n",
       "    <tr>\n",
       "      <th>2</th>\n",
       "      <td>-33.868219</td>\n",
       "    </tr>\n",
       "    <tr>\n",
       "      <th>3</th>\n",
       "      <td>6.157870</td>\n",
       "    </tr>\n",
       "    <tr>\n",
       "      <th>4</th>\n",
       "      <td>34.148804</td>\n",
       "    </tr>\n",
       "    <tr>\n",
       "      <th>...</th>\n",
       "      <td>...</td>\n",
       "    </tr>\n",
       "    <tr>\n",
       "      <th>116897</th>\n",
       "      <td>-10.926122</td>\n",
       "    </tr>\n",
       "    <tr>\n",
       "      <th>116898</th>\n",
       "      <td>-18.881526</td>\n",
       "    </tr>\n",
       "    <tr>\n",
       "      <th>116899</th>\n",
       "      <td>7.166175</td>\n",
       "    </tr>\n",
       "    <tr>\n",
       "      <th>116900</th>\n",
       "      <td>-7.889925</td>\n",
       "    </tr>\n",
       "    <tr>\n",
       "      <th>116901</th>\n",
       "      <td>-28.896019</td>\n",
       "    </tr>\n",
       "  </tbody>\n",
       "</table>\n",
       "<p>110761 rows × 1 columns</p>\n",
       "</div>"
      ],
      "text/plain": [
       "                    0\n",
       "example_id           \n",
       "0            1.137278\n",
       "1           28.150111\n",
       "2          -33.868219\n",
       "3            6.157870\n",
       "4           34.148804\n",
       "...               ...\n",
       "116897     -10.926122\n",
       "116898     -18.881526\n",
       "116899       7.166175\n",
       "116900      -7.889925\n",
       "116901     -28.896019\n",
       "\n",
       "[110761 rows x 1 columns]"
      ]
     },
     "execution_count": 16,
     "metadata": {},
     "output_type": "execute_result"
    }
   ],
   "source": [
    "pd.DataFrame(reduced, index = cip_df.index)"
   ]
  },
  {
   "cell_type": "markdown",
   "metadata": {},
   "source": [
    "## Construct \"Blackbox\" Models\n",
    "\n",
    "Models to test & tune: \n",
    "- XGBoost\n",
    "- Neural Net\n",
    "- Random Forest\n",
    "- Ensembles of all of them"
   ]
  },
  {
   "cell_type": "code",
   "execution_count": 17,
   "metadata": {},
   "outputs": [],
   "source": [
    "def report_best_scores(results, n_top=3):\n",
    "    for i in range(1, n_top + 1):\n",
    "        candidates = np.flatnonzero(results['rank_test_score'] == i)\n",
    "        for candidate in candidates:\n",
    "            print(\"Model with rank: {0}\".format(i))\n",
    "            print(\"Mean validation score: {0:.3f} (std: {1:.3f})\".format(\n",
    "                  results['mean_test_score'][candidate],\n",
    "                  results['std_test_score'][candidate]))\n",
    "            print(\"Parameters: {0}\".format(results['params'][candidate]))\n",
    "            print(\"\")"
   ]
  },
  {
   "cell_type": "code",
   "execution_count": 18,
   "metadata": {},
   "outputs": [],
   "source": [
    "import xgboost as xgb\n",
    "from scipy.stats import uniform, randint\n",
    "from sklearn.model_selection import cross_val_score, GridSearchCV, KFold, RandomizedSearchCV, train_test_split"
   ]
  },
  {
   "cell_type": "code",
   "execution_count": 19,
   "metadata": {},
   "outputs": [],
   "source": [
    "xgb_mod = xgb.XGBClassifier(objective = 'binary:logistic')"
   ]
  },
  {
   "cell_type": "code",
   "execution_count": 20,
   "metadata": {},
   "outputs": [
    {
     "name": "stdout",
     "output_type": "stream",
     "text": [
      "Fitting 3 folds for each of 5 candidates, totalling 15 fits\n"
     ]
    },
    {
     "name": "stderr",
     "output_type": "stream",
     "text": [
      "[Parallel(n_jobs=7)]: Using backend LokyBackend with 7 concurrent workers.\n",
      "[Parallel(n_jobs=7)]: Done  15 out of  15 | elapsed:  1.9min finished\n",
      "C:\\Users\\benne\\anaconda3\\lib\\site-packages\\xgboost\\sklearn.py:1146: UserWarning: The use of label encoder in XGBClassifier is deprecated and will be removed in a future release. To remove this warning, do the following: 1) Pass option use_label_encoder=False when constructing XGBClassifier object; and 2) Encode your labels (y) as integers starting with 0, i.e. 0, 1, 2, ..., [num_class - 1].\n",
      "  warnings.warn(label_encoder_deprecation_msg, UserWarning)\n",
      "C:\\Users\\benne\\anaconda3\\lib\\site-packages\\sklearn\\utils\\validation.py:72: DataConversionWarning: A column-vector y was passed when a 1d array was expected. Please change the shape of y to (n_samples, ), for example using ravel().\n",
      "  return f(**kwargs)\n"
     ]
    },
    {
     "name": "stdout",
     "output_type": "stream",
     "text": [
      "[18:34:47] WARNING: C:/Users/Administrator/workspace/xgboost-win64_release_1.4.0/src/learner.cc:1095: Starting in XGBoost 1.3.0, the default evaluation metric used with the objective 'binary:logistic' was changed from 'error' to 'logloss'. Explicitly set eval_metric if you'd like to restore the old behavior.\n",
      "Model with rank: 1\n",
      "Mean validation score: 0.820 (std: 0.003)\n",
      "Parameters: {'colsample_bytree': 0.8835558684167137, 'gamma': 0.06974693032602092, 'learning_rate': 0.11764339456056544, 'max_depth': 5, 'n_estimators': 114, 'subsample': 0.7824279936868144}\n",
      "\n"
     ]
    }
   ],
   "source": [
    "params = {\n",
    "    \"colsample_bytree\": uniform(0.7, 0.3),\n",
    "    \"gamma\": uniform(0, 0.5),\n",
    "    \"learning_rate\": uniform(0.03, 0.3), # default 0.1 \n",
    "    \"max_depth\": randint(2, 6), # default 3\n",
    "    \"n_estimators\": randint(100, 150), # default 100\n",
    "    \"subsample\": uniform(0.6, 0.4)\n",
    "}\n",
    "\n",
    "search_first = RandomizedSearchCV(xgb_mod, param_distributions=params, scoring = 'roc_auc', random_state=42, n_iter=5, cv=3, verbose=1, n_jobs=7, return_train_score=True)\n",
    "\n",
    "search_first.fit(X_train, y_train)\n",
    "\n",
    "report_best_scores(search_first.cv_results_, 1)"
   ]
  },
  {
   "cell_type": "code",
   "execution_count": 21,
   "metadata": {},
   "outputs": [
    {
     "data": {
      "text/plain": [
       "0.8199328174876915"
      ]
     },
     "execution_count": 21,
     "metadata": {},
     "output_type": "execute_result"
    }
   ],
   "source": [
    "search_first.best_score_"
   ]
  },
  {
   "cell_type": "code",
   "execution_count": 22,
   "metadata": {},
   "outputs": [],
   "source": [
    "from sklearn.metrics import f1_score, confusion_matrix, accuracy_score, roc_auc_score"
   ]
  },
  {
   "cell_type": "code",
   "execution_count": 23,
   "metadata": {},
   "outputs": [
    {
     "data": {
      "text/plain": [
       "0.8318587266620924"
      ]
     },
     "execution_count": 23,
     "metadata": {},
     "output_type": "execute_result"
    }
   ],
   "source": [
    "accuracy_score(search_first.predict(X_test), y_test)"
   ]
  },
  {
   "cell_type": "code",
   "execution_count": 24,
   "metadata": {},
   "outputs": [
    {
     "data": {
      "text/plain": [
       "0.7602030045346194"
      ]
     },
     "execution_count": 24,
     "metadata": {},
     "output_type": "execute_result"
    }
   ],
   "source": [
    "roc_auc_score(search_first.predict(X_test), y_test)"
   ]
  },
  {
   "cell_type": "code",
   "execution_count": 25,
   "metadata": {},
   "outputs": [
    {
     "data": {
      "text/plain": [
       "0.5029888983774552"
      ]
     },
     "execution_count": 25,
     "metadata": {},
     "output_type": "execute_result"
    }
   ],
   "source": [
    "f1_score(search_first.predict(X_test), y_test)"
   ]
  },
  {
   "cell_type": "code",
   "execution_count": 26,
   "metadata": {},
   "outputs": [
    {
     "data": {
      "text/plain": [
       "array([[20679,  3463],\n",
       "       [ 1193,  2356]], dtype=int64)"
      ]
     },
     "execution_count": 26,
     "metadata": {},
     "output_type": "execute_result"
    }
   ],
   "source": [
    "confusion_matrix(search_first.predict(X_test), y_test)"
   ]
  },
  {
   "cell_type": "code",
   "execution_count": 27,
   "metadata": {},
   "outputs": [],
   "source": [
    "from sklearn.linear_model import LogisticRegression\n"
   ]
  },
  {
   "cell_type": "code",
   "execution_count": 28,
   "metadata": {},
   "outputs": [
    {
     "name": "stderr",
     "output_type": "stream",
     "text": [
      "C:\\Users\\benne\\anaconda3\\lib\\site-packages\\sklearn\\utils\\validation.py:72: DataConversionWarning: A column-vector y was passed when a 1d array was expected. Please change the shape of y to (n_samples, ), for example using ravel().\n",
      "  return f(**kwargs)\n",
      "C:\\Users\\benne\\anaconda3\\lib\\site-packages\\sklearn\\linear_model\\_logistic.py:764: ConvergenceWarning: lbfgs failed to converge (status=1):\n",
      "STOP: TOTAL NO. of ITERATIONS REACHED LIMIT.\n",
      "\n",
      "Increase the number of iterations (max_iter) or scale the data as shown in:\n",
      "    https://scikit-learn.org/stable/modules/preprocessing.html\n",
      "Please also refer to the documentation for alternative solver options:\n",
      "    https://scikit-learn.org/stable/modules/linear_model.html#logistic-regression\n",
      "  extra_warning_msg=_LOGISTIC_SOLVER_CONVERGENCE_MSG)\n"
     ]
    }
   ],
   "source": [
    "lr = LogisticRegression().fit(X_train, y_train)"
   ]
  },
  {
   "cell_type": "code",
   "execution_count": 29,
   "metadata": {},
   "outputs": [
    {
     "data": {
      "text/plain": [
       "0.8297280704922176"
      ]
     },
     "execution_count": 29,
     "metadata": {},
     "output_type": "execute_result"
    }
   ],
   "source": [
    "accuracy_score(lr.predict(X_test), y_test)"
   ]
  },
  {
   "cell_type": "code",
   "execution_count": 30,
   "metadata": {},
   "outputs": [
    {
     "data": {
      "text/plain": [
       "0.49109552077711816"
      ]
     },
     "execution_count": 30,
     "metadata": {},
     "output_type": "execute_result"
    }
   ],
   "source": [
    "f1_score(lr.predict(X_test), y_test)"
   ]
  },
  {
   "cell_type": "code",
   "execution_count": 31,
   "metadata": {},
   "outputs": [
    {
     "data": {
      "text/plain": [
       "array([[20701,  3544],\n",
       "       [ 1171,  2275]], dtype=int64)"
      ]
     },
     "execution_count": 31,
     "metadata": {},
     "output_type": "execute_result"
    }
   ],
   "source": [
    "confusion_matrix(lr.predict(X_test), y_test)"
   ]
  },
  {
   "cell_type": "code",
   "execution_count": 32,
   "metadata": {},
   "outputs": [
    {
     "data": {
      "image/png": "[encoded data removed]",
      "text/plain": [
       "<Figure size 432x288 with 1 Axes>"
      ]
     },
     "metadata": {
      "needs_background": "light"
     },
     "output_type": "display_data"
    }
   ],
   "source": [
    "cm = confusion_matrix(lr.predict(X_test), y_test)\n",
    "\n",
    "plt.clf()\n",
    "plt.imshow(cm, interpolation='nearest', cmap=plt.cm.Wistia)\n",
    "classNames = ['Negative','Positive']\n",
    "plt.title('CIP Resistant or Not Confusion Matrix - Test Data for Logistic Regression')\n",
    "plt.ylabel('True label')\n",
    "plt.xlabel('Predicted label')\n",
    "tick_marks = np.arange(len(classNames))\n",
    "plt.xticks(tick_marks, classNames, rotation=45)\n",
    "plt.yticks(tick_marks, classNames)\n",
    "s = [['TN','FP'], ['FN', 'TP']]\n",
    "for i in range(2):\n",
    "    for j in range(2):\n",
    "        plt.text(j-0.25,i, str(s[i][j])+\" = \"+str(cm[i][j]))\n",
    "plt.show()"
   ]
  },
  {
   "cell_type": "code",
   "execution_count": 33,
   "metadata": {},
   "outputs": [],
   "source": [
    "from sklearn.ensemble import RandomForestClassifier"
   ]
  },
  {
   "cell_type": "code",
   "execution_count": 34,
   "metadata": {},
   "outputs": [
    {
     "name": "stderr",
     "output_type": "stream",
     "text": [
      "C:\\Users\\benne\\anaconda3\\lib\\site-packages\\ipykernel_launcher.py:1: DataConversionWarning: A column-vector y was passed when a 1d array was expected. Please change the shape of y to (n_samples,), for example using ravel().\n",
      "  \"\"\"Entry point for launching an IPython kernel.\n"
     ]
    }
   ],
   "source": [
    "rf = RandomForestClassifier().fit(X_train, y_train)"
   ]
  },
  {
   "cell_type": "code",
   "execution_count": 35,
   "metadata": {},
   "outputs": [
    {
     "data": {
      "text/plain": [
       "0.8342060597305984"
      ]
     },
     "execution_count": 35,
     "metadata": {},
     "output_type": "execute_result"
    }
   ],
   "source": [
    "accuracy_score(rf.predict(X_test), y_test)"
   ]
  },
  {
   "cell_type": "code",
   "execution_count": 36,
   "metadata": {},
   "outputs": [
    {
     "data": {
      "text/plain": [
       "0.5170926685600084"
      ]
     },
     "execution_count": 36,
     "metadata": {},
     "output_type": "execute_result"
    }
   ],
   "source": [
    "f1_score(rf.predict(X_test), y_test)"
   ]
  },
  {
   "cell_type": "code",
   "execution_count": 37,
   "metadata": {},
   "outputs": [
    {
     "data": {
      "text/plain": [
       "array([[20642,  3361],\n",
       "       [ 1230,  2458]], dtype=int64)"
      ]
     },
     "execution_count": 37,
     "metadata": {},
     "output_type": "execute_result"
    }
   ],
   "source": [
    "confusion_matrix(rf.predict(X_test), y_test)"
   ]
  },
  {
   "cell_type": "code",
   "execution_count": null,
   "metadata": {},
   "outputs": [],
   "source": []
  }
 ],
 "metadata": {
  "kernelspec": {
   "display_name": "Python 3",
   "language": "python",
   "name": "python3"
  },
  "language_info": {
   "codemirror_mode": {
    "name": "ipython",
    "version": 3
   },
   "file_extension": ".py",
   "mimetype": "text/x-python",
   "name": "python",
   "nbconvert_exporter": "python",
   "pygments_lexer": "ipython3",
   "version": "3.7.6"
  }
 },
 "nbformat": 4,
 "nbformat_minor": 4
}
