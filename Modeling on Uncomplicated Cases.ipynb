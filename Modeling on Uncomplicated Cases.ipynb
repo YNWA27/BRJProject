{
 "cells": [
  {
   "cell_type": "markdown",
   "metadata": {},
   "source": [
    "# Ideas & Stuff that needs to be done:\n",
    "- Good data splits\n",
    "- Feature Importance\n",
    "- Comparison of uncomplicated vs. complicated\n",
    "- Do result visualization (e.g. ROC/AUC)\n",
    "- Feature Selection comparison\n",
    "- Include recommendations based on predictions"
   ]
  },
  {
   "cell_type": "code",
   "execution_count": 1,
   "metadata": {},
   "outputs": [],
   "source": [
    "import pandas as pd\n",
    "from sklearn.model_selection import train_test_split\n",
    "import seaborn as sns\n",
    "import matplotlib.pyplot as plt\n",
    "import numpy as np"
   ]
  },
  {
   "cell_type": "code",
   "execution_count": 2,
   "metadata": {},
   "outputs": [],
   "source": [
    "features = pd.read_csv('all_uti_features.csv', index_col = 'example_id')\n",
    "prescrip = pd.read_csv('all_prescriptions.csv', index_col = 'example_id')\n",
    "resistance = pd.read_csv('all_uti_resist_labels.csv', index_col = 'example_id')"
   ]
  },
  {
   "cell_type": "markdown",
   "metadata": {},
   "source": [
    "### For us, resistance to SXT and CIP is the target variable to predict!"
   ]
  },
  {
   "cell_type": "code",
   "execution_count": 4,
   "metadata": {},
   "outputs": [],
   "source": [
    "cip_df = resistance[resistance['uncomplicated'] == 1][['CIP']].join(features)"
   ]
  },
  {
   "cell_type": "markdown",
   "metadata": {},
   "source": [
    "## Divide into train & test data\n",
    "\n",
    "- Don't touch the test data afterwards!\n",
    "- Avoid having the same person in train & test data -> data leakage "
   ]
  },
  {
   "cell_type": "code",
   "execution_count": 5,
   "metadata": {},
   "outputs": [],
   "source": [
    "from sklearn.model_selection import train_test_split"
   ]
  },
  {
   "cell_type": "code",
   "execution_count": 6,
   "metadata": {},
   "outputs": [],
   "source": [
    "cip_df = cip_df.drop(cip_df.columns[cip_df.columns.str.contains('selected micro - ', regex=True, na=True)], axis = 1)"
   ]
  },
  {
   "cell_type": "code",
   "execution_count": 43,
   "metadata": {},
   "outputs": [],
   "source": [
    "cip_y = cip_df[['CIP']]\n",
    "cip_X = cip_df.drop('CIP', axis = 1)"
   ]
  },
  {
   "cell_type": "code",
   "execution_count": 44,
   "metadata": {},
   "outputs": [],
   "source": [
    "X_train, X_test, y_train, y_test = train_test_split(cip_X, cip_y)"
   ]
  },
  {
   "cell_type": "code",
   "execution_count": 45,
   "metadata": {},
   "outputs": [
    {
     "name": "stderr",
     "output_type": "stream",
     "text": [
      "C:\\Users\\benne\\anaconda3\\lib\\site-packages\\ipykernel_launcher.py:1: SettingWithCopyWarning: \n",
      "A value is trying to be set on a copy of a slice from a DataFrame.\n",
      "Try using .loc[row_indexer,col_indexer] = value instead\n",
      "\n",
      "See the caveats in the documentation: https://pandas.pydata.org/pandas-docs/stable/user_guide/indexing.html#returning-a-view-versus-a-copy\n",
      "  \"\"\"Entry point for launching an IPython kernel.\n",
      "C:\\Users\\benne\\anaconda3\\lib\\site-packages\\ipykernel_launcher.py:2: SettingWithCopyWarning: \n",
      "A value is trying to be set on a copy of a slice from a DataFrame.\n",
      "Try using .loc[row_indexer,col_indexer] = value instead\n",
      "\n",
      "See the caveats in the documentation: https://pandas.pydata.org/pandas-docs/stable/user_guide/indexing.html#returning-a-view-versus-a-copy\n",
      "  \n"
     ]
    }
   ],
   "source": [
    "X_train['CIP'] = y_train['CIP']\n",
    "X_test['CIP'] = y_test['CIP']"
   ]
  },
  {
   "cell_type": "code",
   "execution_count": 46,
   "metadata": {},
   "outputs": [
    {
     "name": "stderr",
     "output_type": "stream",
     "text": [
      "C:\\Users\\benne\\anaconda3\\lib\\site-packages\\ipykernel_launcher.py:1: SettingWithCopyWarning: \n",
      "A value is trying to be set on a copy of a slice from a DataFrame\n",
      "\n",
      "See the caveats in the documentation: https://pandas.pydata.org/pandas-docs/stable/user_guide/indexing.html#returning-a-view-versus-a-copy\n",
      "  \"\"\"Entry point for launching an IPython kernel.\n",
      "C:\\Users\\benne\\anaconda3\\lib\\site-packages\\ipykernel_launcher.py:2: SettingWithCopyWarning: \n",
      "A value is trying to be set on a copy of a slice from a DataFrame\n",
      "\n",
      "See the caveats in the documentation: https://pandas.pydata.org/pandas-docs/stable/user_guide/indexing.html#returning-a-view-versus-a-copy\n",
      "  \n"
     ]
    }
   ],
   "source": [
    "X_train.dropna(inplace = True)\n",
    "X_test.dropna(inplace = True)"
   ]
  },
  {
   "cell_type": "code",
   "execution_count": 47,
   "metadata": {},
   "outputs": [],
   "source": [
    "y_train = X_train['CIP']\n",
    "X_train = X_train.drop('CIP', axis = 1)\n",
    "y_test = X_test['CIP']\n",
    "X_test = X_test.drop('CIP', axis = 1)"
   ]
  },
  {
   "cell_type": "markdown",
   "metadata": {},
   "source": [
    "## Feature Reduction"
   ]
  },
  {
   "cell_type": "markdown",
   "metadata": {},
   "source": [
    "#### Eliminate sparse binary features"
   ]
  },
  {
   "cell_type": "code",
   "execution_count": 48,
   "metadata": {},
   "outputs": [
    {
     "name": "stdout",
     "output_type": "stream",
     "text": [
      "demographics - is_veteran    40.0\n",
      "dtype: float64\n",
      "micro - prev resistance LVX 14    2.0\n",
      "dtype: float64\n",
      "micro - prev resistance AMP 14    9.0\n",
      "dtype: float64\n",
      "micro - prev resistance CFZ 14    9.0\n",
      "dtype: float64\n",
      "micro - prev resistance NIT 14    2.0\n",
      "dtype: float64\n",
      "micro - prev resistance GEN 14    4.0\n",
      "dtype: float64\n",
      "micro - prev resistance SXT 14    4.0\n",
      "dtype: float64\n",
      "micro - prev resistance TET 14    4.0\n",
      "dtype: float64\n",
      "micro - prev resistance AMC 14    1.0\n",
      "dtype: float64\n",
      "micro - prev resistance CIP 14    3.0\n",
      "dtype: float64\n",
      "micro - prev resistance SAM 14    4.0\n",
      "dtype: float64\n",
      "micro - prev resistance ERY 30    9.0\n",
      "dtype: float64\n",
      "micro - prev resistance OXA 30    6.0\n",
      "dtype: float64\n",
      "micro - prev resistance QUD 30    4.0\n",
      "dtype: float64\n",
      "micro - prev resistance RIF 30    2.0\n",
      "dtype: float64\n",
      "micro - prev resistance PEN 30    6.0\n",
      "dtype: float64\n",
      "micro - prev resistance LVX 30    20.0\n",
      "dtype: float64\n",
      "micro - prev resistance CLI 30    1.0\n",
      "dtype: float64\n",
      "micro - prev resistance DOX 30    1.0\n",
      "dtype: float64\n",
      "micro - prev resistance NIT 30    20.0\n",
      "dtype: float64\n",
      "micro - prev resistance TET 30    46.0\n",
      "dtype: float64\n",
      "micro - prev resistance CIP 30    21.0\n",
      "dtype: float64\n",
      "micro - prev resistance CRO 30    5.0\n",
      "dtype: float64\n",
      "micro - prev resistance GEN 30    16.0\n",
      "dtype: float64\n",
      "micro - prev resistance SXT 30    41.0\n",
      "dtype: float64\n",
      "micro - prev resistance AMC 30    23.0\n",
      "dtype: float64\n",
      "micro - prev resistance ATM 30    3.0\n",
      "dtype: float64\n",
      "micro - prev resistance PIP 30    10.0\n",
      "dtype: float64\n",
      "micro - prev resistance TOB 30    1.0\n",
      "dtype: float64\n",
      "micro - prev resistance TZP 30    2.0\n",
      "dtype: float64\n",
      "micro - prev resistance SAM 30    18.0\n",
      "dtype: float64\n",
      "micro - prev resistance MXF 30    1.0\n",
      "dtype: float64\n",
      "micro - prev resistance ATM 90    10.0\n",
      "dtype: float64\n",
      "micro - prev resistance CAZ 90    1.0\n",
      "dtype: float64\n",
      "micro - prev resistance CRO 90    24.0\n",
      "dtype: float64\n",
      "micro - prev resistance NAL 90    1.0\n",
      "dtype: float64\n",
      "micro - prev resistance PIP 90    27.0\n",
      "dtype: float64\n",
      "micro - prev resistance OXA 90    22.0\n",
      "dtype: float64\n",
      "micro - prev resistance PEN 90    28.0\n",
      "dtype: float64\n",
      "micro - prev resistance ERY 90    35.0\n",
      "dtype: float64\n",
      "micro - prev resistance CHL 90    2.0\n",
      "dtype: float64\n",
      "micro - prev resistance QUD 90    11.0\n",
      "dtype: float64\n",
      "micro - prev resistance DOX 90    3.0\n",
      "dtype: float64\n",
      "micro - prev resistance RIF 90    6.0\n",
      "dtype: float64\n",
      "micro - prev resistance CLI 90    5.0\n",
      "dtype: float64\n",
      "micro - prev resistance GEN 90    39.0\n",
      "dtype: float64\n",
      "micro - prev resistance IPM 90    6.0\n",
      "dtype: float64\n",
      "micro - prev resistance TIC 90    1.0\n",
      "dtype: float64\n",
      "micro - prev resistance TOB 90    5.0\n",
      "dtype: float64\n",
      "micro - prev resistance CTT 90    1.0\n",
      "dtype: float64\n",
      "micro - prev resistance FEP 90    5.0\n",
      "dtype: float64\n",
      "micro - prev resistance TZP 90    12.0\n",
      "dtype: float64\n",
      "micro - prev resistance LZD 90    2.0\n",
      "dtype: float64\n",
      "micro - prev resistance SAM 90    44.0\n",
      "dtype: float64\n",
      "micro - prev resistance STRS 90    1.0\n",
      "dtype: float64\n",
      "micro - prev resistance GENS 90    1.0\n",
      "dtype: float64\n",
      "micro - prev resistance MXF 90    6.0\n",
      "dtype: float64\n",
      "micro - prev resistance FOX 90    3.0\n",
      "dtype: float64\n",
      "micro - prev resistance PIP 180    47.0\n",
      "dtype: float64\n",
      "micro - prev resistance ATM 180    18.0\n",
      "dtype: float64\n",
      "micro - prev resistance IPM 180    14.0\n",
      "dtype: float64\n",
      "micro - prev resistance TIC 180    2.0\n",
      "dtype: float64\n",
      "micro - prev resistance TOB 180    13.0\n",
      "dtype: float64\n",
      "micro - prev resistance OXA 180    59.0\n",
      "dtype: float64\n",
      "micro - prev resistance CLI 180    13.0\n",
      "dtype: float64\n",
      "micro - prev resistance NAL 180    3.0\n",
      "dtype: float64\n",
      "micro - prev resistance DOX 180    6.0\n",
      "dtype: float64\n",
      "micro - prev resistance QUD 180    29.0\n",
      "dtype: float64\n",
      "micro - prev resistance RIF 180    10.0\n",
      "dtype: float64\n",
      "micro - prev resistance AMK 180    1.0\n",
      "dtype: float64\n",
      "micro - prev resistance CAZ 180    4.0\n",
      "dtype: float64\n",
      "micro - prev resistance CHL 180    2.0\n",
      "dtype: float64\n",
      "micro - prev resistance CRO 180    45.0\n",
      "dtype: float64\n",
      "micro - prev resistance CTT 180    1.0\n",
      "dtype: float64\n",
      "micro - prev resistance FEP 180    12.0\n",
      "dtype: float64\n",
      "micro - prev resistance VAN 180    4.0\n",
      "dtype: float64\n",
      "micro - prev resistance TZP 180    20.0\n",
      "dtype: float64\n",
      "micro - prev resistance ERT 180    4.0\n",
      "dtype: float64\n",
      "micro - prev resistance LZD 180    2.0\n",
      "dtype: float64\n",
      "micro - prev resistance STRS 180    3.0\n",
      "dtype: float64\n",
      "micro - prev resistance GENS 180    5.0\n",
      "dtype: float64\n",
      "micro - prev resistance MXF 180    10.0\n",
      "dtype: float64\n",
      "micro - prev resistance FOX 180    10.0\n",
      "dtype: float64\n",
      "micro - prev resistance VAN ALL    9.0\n",
      "dtype: float64\n",
      "micro - prev resistance CAZ ALL    26.0\n",
      "dtype: float64\n",
      "micro - prev resistance FEP ALL    46.0\n",
      "dtype: float64\n",
      "micro - prev resistance NAL ALL    17.0\n",
      "dtype: float64\n",
      "micro - prev resistance ERT ALL    17.0\n",
      "dtype: float64\n",
      "micro - prev resistance CHL ALL    34.0\n",
      "dtype: float64\n",
      "micro - prev resistance AMK ALL    9.0\n",
      "dtype: float64\n",
      "micro - prev resistance CTT ALL    4.0\n",
      "dtype: float64\n",
      "micro - prev resistance IPM ALL    41.0\n",
      "dtype: float64\n",
      "micro - prev resistance TOB ALL    28.0\n",
      "dtype: float64\n",
      "micro - prev resistance TIC ALL    5.0\n",
      "dtype: float64\n",
      "micro - prev resistance LZD ALL    11.0\n",
      "dtype: float64\n",
      "micro - prev resistance GENS ALL    19.0\n",
      "dtype: float64\n",
      "micro - prev resistance STRS ALL    16.0\n",
      "dtype: float64\n",
      "micro - prev resistance MXF ALL    29.0\n",
      "dtype: float64\n",
      "micro - prev resistance FOX ALL    48.0\n",
      "dtype: float64\n",
      "ab class 7 - fluoroquinolone    27.0\n",
      "dtype: float64\n",
      "ab class 7 - glycopeptides    1.0\n",
      "dtype: float64\n",
      "ab class 7 - nitroimidazole    9.0\n",
      "dtype: float64\n",
      "ab class 7 - macrolide_lincosamide    24.0\n",
      "dtype: float64\n",
      "ab class 7 - nitrofuran    18.0\n",
      "dtype: float64\n",
      "ab class 7 - folate_inhibitor    45.0\n",
      "dtype: float64\n",
      "ab class 7 - beta_lactam    41.0\n",
      "dtype: float64\n",
      "ab class 7 - antifungal    28.0\n",
      "dtype: float64\n",
      "ab class 7 - tetracycline    8.0\n",
      "dtype: float64\n",
      "ab class 7 - ansamycin    1.0\n",
      "dtype: float64\n",
      "medication 7 - ciprofloxacin    22.0\n",
      "dtype: float64\n",
      "medication 7 - levofloxacin    5.0\n",
      "dtype: float64\n",
      "medication 7 - vancomycin    1.0\n",
      "dtype: float64\n",
      "medication 7 - metronidazole    9.0\n",
      "dtype: float64\n",
      "medication 7 - clindamycin    3.0\n",
      "dtype: float64\n",
      "medication 7 - azithromycin    16.0\n",
      "dtype: float64\n",
      "medication 7 - nitrofurantoin    18.0\n",
      "dtype: float64\n",
      "medication 7 - trimethoprim/sulfamethoxazole    45.0\n",
      "dtype: float64\n",
      "medication 7 - amoxicillin    16.0\n",
      "dtype: float64\n",
      "medication 7 - cephalexin    4.0\n",
      "dtype: float64\n",
      "medication 7 - fluconazole    28.0\n",
      "dtype: float64\n",
      "medication 7 - penicillin    9.0\n",
      "dtype: float64\n",
      "medication 7 - amoxicillin/clavulanate    7.0\n",
      "dtype: float64\n",
      "medication 7 - ceftazidime    1.0\n",
      "dtype: float64\n",
      "medication 7 - doxycycline    5.0\n",
      "dtype: float64\n",
      "medication 7 - cefpodoxime    1.0\n",
      "dtype: float64\n",
      "medication 7 - tetracycline    1.0\n",
      "dtype: float64\n",
      "medication 7 - dicloxacillin    2.0\n",
      "dtype: float64\n",
      "medication 7 - minocycline    2.0\n",
      "dtype: float64\n",
      "medication 7 - rifampin    1.0\n",
      "dtype: float64\n",
      "medication 7 - clarithromycin    4.0\n",
      "dtype: float64\n",
      "medication 7 - erythromycin    1.0\n",
      "dtype: float64\n",
      "medication 7 - cefadroxil    1.0\n",
      "dtype: float64\n",
      "ab subtype 7 - penicillins    25.0\n",
      "dtype: float64\n",
      "ab subtype 7 - cephalosporin_gen1    5.0\n",
      "dtype: float64\n",
      "ab subtype 7 - azole    28.0\n",
      "dtype: float64\n",
      "ab subtype 7 - beta_lactam_combo    7.0\n",
      "dtype: float64\n",
      "ab subtype 7 - cephalosporin_gen3    2.0\n",
      "dtype: float64\n",
      "ab subtype 7 - antistaphylococcal    2.0\n",
      "dtype: float64\n",
      "ab class 14 - tetracycline    15.0\n",
      "dtype: float64\n",
      "ab class 14 - nitrofuran    55.0\n",
      "dtype: float64\n",
      "ab class 14 - glycopeptides    2.0\n",
      "dtype: float64\n",
      "ab class 14 - nitroimidazole    27.0\n",
      "dtype: float64\n",
      "ab class 14 - macrolide_lincosamide    44.0\n",
      "dtype: float64\n",
      "ab class 14 - fosfomycin    2.0\n",
      "dtype: float64\n",
      "ab class 14 - ansamycin    1.0\n",
      "dtype: float64\n",
      "medication 14 - tetracycline    2.0\n",
      "dtype: float64\n",
      "medication 14 - ciprofloxacin    58.0\n",
      "dtype: float64\n",
      "medication 14 - nitrofurantoin    55.0\n",
      "dtype: float64\n",
      "medication 14 - levofloxacin    12.0\n",
      "dtype: float64\n",
      "medication 14 - vancomycin    2.0\n",
      "dtype: float64\n",
      "medication 14 - metronidazole    27.0\n",
      "dtype: float64\n",
      "medication 14 - clindamycin    5.0\n",
      "dtype: float64\n",
      "medication 14 - azithromycin    31.0\n",
      "dtype: float64\n",
      "medication 14 - doxycycline    11.0\n",
      "dtype: float64\n",
      "medication 14 - amoxicillin/clavulanate    18.0\n",
      "dtype: float64\n"
     ]
    },
    {
     "name": "stdout",
     "output_type": "stream",
     "text": [
      "medication 14 - amoxicillin    36.0\n",
      "dtype: float64\n",
      "medication 14 - cephalexin    9.0\n",
      "dtype: float64\n",
      "medication 14 - dicloxacillin    4.0\n",
      "dtype: float64\n",
      "medication 14 - penicillin    18.0\n",
      "dtype: float64\n",
      "medication 14 - ceftazidime    1.0\n",
      "dtype: float64\n",
      "medication 14 - cefpodoxime    3.0\n",
      "dtype: float64\n",
      "medication 14 - erythromycin    2.0\n",
      "dtype: float64\n",
      "medication 14 - clarithromycin    6.0\n",
      "dtype: float64\n",
      "medication 14 - moxifloxacin    1.0\n",
      "dtype: float64\n",
      "medication 14 - fosfomycin    2.0\n",
      "dtype: float64\n",
      "medication 14 - cefuroxime    2.0\n",
      "dtype: float64\n",
      "medication 14 - minocycline    3.0\n",
      "dtype: float64\n",
      "medication 14 - rifampin    1.0\n",
      "dtype: float64\n",
      "medication 14 - cefadroxil    1.0\n",
      "dtype: float64\n",
      "ab subtype 14 - beta_lactam_combo    18.0\n",
      "dtype: float64\n",
      "ab subtype 14 - penicillins    54.0\n",
      "dtype: float64\n",
      "ab subtype 14 - cephalosporin_gen1    11.0\n",
      "dtype: float64\n",
      "ab subtype 14 - antistaphylococcal    4.0\n",
      "dtype: float64\n",
      "ab subtype 14 - cephalosporin_gen3    4.0\n",
      "dtype: float64\n",
      "ab subtype 14 - cephalosporin_gen2    2.0\n",
      "dtype: float64\n",
      "ab class 30 - tetracycline    31.0\n",
      "dtype: float64\n",
      "ab class 30 - glycopeptides    3.0\n",
      "dtype: float64\n",
      "ab class 30 - monobactam    1.0\n",
      "dtype: float64\n",
      "ab class 30 - aminoglycoside    1.0\n",
      "dtype: float64\n",
      "ab class 30 - fosfomycin    6.0\n",
      "dtype: float64\n",
      "ab class 30 - ansamycin    1.0\n",
      "dtype: float64\n",
      "medication 30 - tetracycline    5.0\n",
      "dtype: float64\n",
      "medication 30 - moxifloxacin    2.0\n",
      "dtype: float64\n",
      "medication 30 - levofloxacin    18.0\n",
      "dtype: float64\n",
      "medication 30 - vancomycin    3.0\n",
      "dtype: float64\n",
      "medication 30 - clarithromycin    10.0\n",
      "dtype: float64\n",
      "medication 30 - clindamycin    13.0\n",
      "dtype: float64\n",
      "medication 30 - doxycycline    23.0\n",
      "dtype: float64\n",
      "medication 30 - cefazolin    2.0\n",
      "dtype: float64\n",
      "medication 30 - amoxicillin/clavulanate    44.0\n",
      "dtype: float64\n",
      "medication 30 - aztreonam    1.0\n",
      "dtype: float64\n",
      "medication 30 - cephalexin    28.0\n",
      "dtype: float64\n",
      "medication 30 - dicloxacillin    5.0\n",
      "dtype: float64\n",
      "medication 30 - ceftriaxone    7.0\n",
      "dtype: float64\n",
      "medication 30 - cefoxitin    1.0\n",
      "dtype: float64\n",
      "medication 30 - cefpodoxime    4.0\n",
      "dtype: float64\n",
      "medication 30 - penicillin    35.0\n",
      "dtype: float64\n",
      "medication 30 - ceftazidime    1.0\n",
      "dtype: float64\n",
      "medication 30 - ampicillin/sulbactam    1.0\n",
      "dtype: float64\n",
      "medication 30 - fosfomycin    6.0\n",
      "dtype: float64\n",
      "medication 30 - erythromycin    3.0\n",
      "dtype: float64\n",
      "medication 30 - gentamicin    1.0\n",
      "dtype: float64\n",
      "medication 30 - cefuroxime    2.0\n",
      "dtype: float64\n",
      "medication 30 - minocycline    4.0\n",
      "dtype: float64\n",
      "medication 30 - rifampin    1.0\n",
      "dtype: float64\n",
      "medication 30 - cefadroxil    1.0\n",
      "dtype: float64\n",
      "ab subtype 30 - cephalosporin_gen1    32.0\n",
      "dtype: float64\n",
      "ab subtype 30 - beta_lactam_combo    44.0\n",
      "dtype: float64\n",
      "ab subtype 30 - antistaphylococcal    5.0\n",
      "dtype: float64\n",
      "ab subtype 30 - cephalosporin_gen3    12.0\n",
      "dtype: float64\n",
      "ab subtype 30 - cephalosporin_gen2    3.0\n",
      "dtype: float64\n",
      "ab class 90 - glycopeptides    5.0\n",
      "dtype: float64\n",
      "ab class 90 - fosfomycin    8.0\n",
      "dtype: float64\n",
      "ab class 90 - monobactam    3.0\n",
      "dtype: float64\n",
      "ab class 90 - aminoglycoside    2.0\n",
      "dtype: float64\n",
      "ab class 90 - oxazolidinones    2.0\n",
      "dtype: float64\n",
      "ab class 90 - mixed    6.0\n",
      "dtype: float64\n",
      "ab class 90 - ansamycin    2.0\n",
      "dtype: float64\n",
      "medication 90 - tetracycline    9.0\n",
      "dtype: float64\n",
      "medication 90 - moxifloxacin    6.0\n",
      "dtype: float64\n",
      "medication 90 - vancomycin    5.0\n",
      "dtype: float64\n",
      "medication 90 - cefepime    2.0\n",
      "dtype: float64\n",
      "medication 90 - clindamycin    45.0\n",
      "dtype: float64\n",
      "medication 90 - cefpodoxime    12.0\n",
      "dtype: float64\n",
      "medication 90 - clarithromycin    31.0\n",
      "dtype: float64\n",
      "medication 90 - ceftriaxone    16.0\n",
      "dtype: float64\n",
      "medication 90 - cefazolin    2.0\n",
      "dtype: float64\n",
      "medication 90 - trimethoprim    3.0\n",
      "dtype: float64\n",
      "medication 90 - fosfomycin    8.0\n",
      "dtype: float64\n",
      "medication 90 - aztreonam    3.0\n",
      "dtype: float64\n",
      "medication 90 - cefotetan    3.0\n",
      "dtype: float64\n",
      "medication 90 - dicloxacillin    8.0\n",
      "dtype: float64\n",
      "medication 90 - ceftazidime    2.0\n",
      "dtype: float64\n",
      "medication 90 - linezolid    2.0\n",
      "dtype: float64\n",
      "medication 90 - gentamicin    2.0\n",
      "dtype: float64\n",
      "medication 90 - cefixime    2.0\n",
      "dtype: float64\n",
      "medication 90 - cefuroxime    11.0\n",
      "dtype: float64\n",
      "medication 90 - ampicillin/sulbactam    2.0\n",
      "dtype: float64\n",
      "medication 90 - cefoxitin    2.0\n",
      "dtype: float64\n",
      "medication 90 - ertapenem    1.0\n",
      "dtype: float64\n",
      "medication 90 - erythromycin    9.0\n",
      "dtype: float64\n",
      "medication 90 - cefprozil    1.0\n",
      "dtype: float64\n",
      "medication 90 - cefaclor    1.0\n",
      "dtype: float64\n",
      "medication 90 - cefadroxil    5.0\n",
      "dtype: float64\n",
      "medication 90 - amoxicillin_clarithromycin    6.0\n",
      "dtype: float64\n",
      "medication 90 - minocycline    21.0\n",
      "dtype: float64\n",
      "medication 90 - rifampin    2.0\n",
      "dtype: float64\n",
      "ab subtype 90 - cephalosporin_gen4    2.0\n",
      "dtype: float64\n",
      "ab subtype 90 - carbapenem    1.0\n",
      "dtype: float64\n",
      "ab subtype 90 - cephalosporin_gen3    32.0\n",
      "dtype: float64\n",
      "ab subtype 90 - cephalosporin_gen2    16.0\n",
      "dtype: float64\n",
      "ab subtype 90 - antistaphylococcal    9.0\n",
      "dtype: float64\n",
      "ab class 180 - glycopeptides    29.0\n",
      "dtype: float64\n",
      "ab class 180 - aminoglycoside    10.0\n",
      "dtype: float64\n",
      "ab class 180 - fosfomycin    12.0\n",
      "dtype: float64\n",
      "ab class 180 - monobactam    3.0\n",
      "dtype: float64\n",
      "ab class 180 - oxazolidinones    4.0\n",
      "dtype: float64\n",
      "ab class 180 - polymyxin    1.0\n",
      "dtype: float64\n",
      "ab class 180 - ansamycin    6.0\n",
      "dtype: float64\n",
      "ab class 180 - mixed    13.0\n",
      "dtype: float64\n",
      "medication 180 - tetracycline    15.0\n",
      "dtype: float64\n",
      "medication 180 - moxifloxacin    13.0\n",
      "dtype: float64\n",
      "medication 180 - meropenem    2.0\n",
      "dtype: float64\n",
      "medication 180 - vancomycin    29.0\n",
      "dtype: float64\n",
      "medication 180 - cefepime    11.0\n",
      "dtype: float64\n",
      "medication 180 - micafungin    1.0\n",
      "dtype: float64\n",
      "medication 180 - ofloxacin    2.0\n",
      "dtype: float64\n",
      "medication 180 - cefpodoxime    30.0\n",
      "dtype: float64\n",
      "medication 180 - ceftriaxone    57.0\n",
      "dtype: float64\n",
      "medication 180 - cefazolin    56.0\n",
      "dtype: float64\n",
      "medication 180 - cefixime    8.0\n",
      "dtype: float64\n",
      "medication 180 - trimethoprim    6.0\n",
      "dtype: float64\n",
      "medication 180 - fosfomycin    12.0\n",
      "dtype: float64\n",
      "medication 180 - aztreonam    3.0\n",
      "dtype: float64\n",
      "medication 180 - cefotetan    4.0\n",
      "dtype: float64\n",
      "medication 180 - dicloxacillin    19.0\n",
      "dtype: float64\n",
      "medication 180 - ceftazidime    2.0\n",
      "dtype: float64\n",
      "medication 180 - linezolid    4.0\n",
      "dtype: float64\n",
      "medication 180 - gentamicin    10.0\n",
      "dtype: float64\n",
      "medication 180 - cefuroxime    14.0\n",
      "dtype: float64\n",
      "medication 180 - cefaclor    2.0\n",
      "dtype: float64\n",
      "medication 180 - ampicillin/sulbactam    8.0\n",
      "dtype: float64\n",
      "medication 180 - cefoxitin    9.0\n",
      "dtype: float64\n",
      "medication 180 - ertapenem    2.0\n",
      "dtype: float64\n",
      "medication 180 - amphotericin_b    3.0\n",
      "dtype: float64\n",
      "medication 180 - erythromycin    20.0\n",
      "dtype: float64\n",
      "medication 180 - cefadroxil    10.0\n",
      "dtype: float64\n",
      "medication 180 - cefprozil    1.0\n",
      "dtype: float64\n",
      "medication 180 - rifampin    6.0\n",
      "dtype: float64\n",
      "medication 180 - amoxicillin_clarithromycin    13.0\n",
      "dtype: float64\n",
      "medication 180 - minocycline    39.0\n",
      "dtype: float64\n",
      "medication 180 - polymyxin_b    1.0\n",
      "dtype: float64\n",
      "ab subtype 180 - carbapenem    4.0\n",
      "dtype: float64\n",
      "ab subtype 180 - cephalosporin_gen4    11.0\n",
      "dtype: float64\n",
      "ab subtype 180 - echinocandin    2.0\n",
      "dtype: float64\n",
      "ab subtype 180 - cephalosporin_gen2    27.0\n",
      "dtype: float64\n",
      "ab subtype 180 - antistaphylococcal    20.0\n",
      "dtype: float64\n",
      "ab subtype 180 - polyene    3.0\n",
      "dtype: float64\n",
      "ab class ALL - fosfomycin    27.0\n",
      "dtype: float64\n",
      "ab class ALL - monobactam    13.0\n",
      "dtype: float64\n",
      "ab class ALL - ansamycin    21.0\n",
      "dtype: float64\n",
      "ab class ALL - oxazolidinones    23.0\n",
      "dtype: float64\n",
      "ab class ALL - polymyxin    27.0\n",
      "dtype: float64\n",
      "medication ALL - cefixime    42.0\n",
      "dtype: float64\n",
      "medication ALL - meropenem    10.0\n",
      "dtype: float64\n",
      "medication ALL - micafungin    5.0\n",
      "dtype: float64\n",
      "medication ALL - ofloxacin    30.0\n",
      "dtype: float64\n",
      "medication ALL - amikacin    23.0\n",
      "dtype: float64\n",
      "medication ALL - ertapenem    7.0\n",
      "dtype: float64\n",
      "medication ALL - trimethoprim    16.0\n",
      "dtype: float64\n",
      "medication ALL - fosfomycin    27.0\n",
      "dtype: float64\n",
      "medication ALL - aztreonam    13.0\n",
      "dtype: float64\n",
      "medication ALL - cefotetan    27.0\n",
      "dtype: float64\n",
      "medication ALL - rifampin    21.0\n",
      "dtype: float64\n",
      "medication ALL - nafcillin    23.0\n",
      "dtype: float64\n",
      "medication ALL - ceftazidime    31.0\n",
      "dtype: float64\n"
     ]
    },
    {
     "name": "stdout",
     "output_type": "stream",
     "text": [
      "medication ALL - linezolid    23.0\n",
      "dtype: float64\n",
      "medication ALL - cefaclor    8.0\n",
      "dtype: float64\n",
      "medication ALL - caspofungin    2.0\n",
      "dtype: float64\n",
      "medication ALL - polymyxin_b    27.0\n",
      "dtype: float64\n",
      "medication ALL - amphotericin_b    17.0\n",
      "dtype: float64\n",
      "medication ALL - cefprozil    4.0\n",
      "dtype: float64\n",
      "ab subtype ALL - carbapenem    17.0\n",
      "dtype: float64\n",
      "ab subtype ALL - echinocandin    7.0\n",
      "dtype: float64\n",
      "ab subtype ALL - polyene    17.0\n",
      "dtype: float64\n",
      "micro - prev organism Escherichia 14    9.0\n",
      "dtype: float64\n",
      "micro - prev organism Klebsiella 14    3.0\n",
      "dtype: float64\n",
      "micro - prev organism Enterococcus 30    5.0\n",
      "dtype: float64\n",
      "micro - prev organism Staphylococcus 30    2.0\n",
      "dtype: float64\n",
      "micro - prev organism Klebsiella 30    9.0\n",
      "dtype: float64\n",
      "micro - prev organism Proteus 30    7.0\n",
      "dtype: float64\n",
      "micro - prev organism Staph_coag_neg 30    8.0\n",
      "dtype: float64\n",
      "micro - prev organism Enterobacter 30    3.0\n",
      "dtype: float64\n",
      "micro - prev organism Citrobacter 30    2.0\n",
      "dtype: float64\n",
      "micro - prev organism Streptococcus 30    1.0\n",
      "dtype: float64\n",
      "micro - prev organism Klebsiella 90    40.0\n",
      "dtype: float64\n",
      "micro - prev organism Streptococcus 90    3.0\n",
      "dtype: float64\n",
      "micro - prev organism Staph_coag_neg 90    31.0\n",
      "dtype: float64\n",
      "micro - prev organism Enterobacter 90    13.0\n",
      "dtype: float64\n",
      "micro - prev organism Staphylococcus 90    14.0\n",
      "dtype: float64\n",
      "micro - prev organism Proteus 90    28.0\n",
      "dtype: float64\n",
      "micro - prev organism Enterococcus 90    19.0\n",
      "dtype: float64\n",
      "micro - prev organism Pseudomonas 90    3.0\n",
      "dtype: float64\n",
      "micro - prev organism Citrobacter 90    7.0\n",
      "dtype: float64\n",
      "micro - prev organism Acinetobacter 90    3.0\n",
      "dtype: float64\n",
      "micro - prev organism Pseudomonas 180    8.0\n",
      "dtype: float64\n",
      "micro - prev organism Staphylococcus 180    38.0\n",
      "dtype: float64\n",
      "micro - prev organism Enterococcus 180    41.0\n",
      "dtype: float64\n",
      "micro - prev organism Enterobacter 180    25.0\n",
      "dtype: float64\n",
      "micro - prev organism Providencia 180    4.0\n",
      "dtype: float64\n",
      "micro - prev organism Streptococcus 180    13.0\n",
      "dtype: float64\n",
      "micro - prev organism Acinetobacter 180    3.0\n",
      "dtype: float64\n",
      "micro - prev organism Citrobacter 180    19.0\n",
      "dtype: float64\n",
      "micro - prev organism Proteus 180    42.0\n",
      "dtype: float64\n",
      "micro - prev organism Morganella 180    4.0\n",
      "dtype: float64\n",
      "comorbidity 7 - Arrhythmia    38.0\n",
      "dtype: float64\n",
      "comorbidity 7 - FluidsLytes    50.0\n",
      "dtype: float64\n",
      "comorbidity 7 - Lymphoma    10.0\n",
      "dtype: float64\n",
      "comorbidity 7 - CHF    27.0\n",
      "dtype: float64\n",
      "comorbidity 7 - PVD    3.0\n",
      "dtype: float64\n",
      "comorbidity 7 - Rheumatic    26.0\n",
      "dtype: float64\n",
      "comorbidity 7 - BloodLoss    3.0\n",
      "dtype: float64\n",
      "comorbidity 7 - Renal    28.0\n",
      "dtype: float64\n",
      "comorbidity 7 - NeuroOther    56.0\n",
      "dtype: float64\n",
      "comorbidity 7 - Paralysis    27.0\n",
      "dtype: float64\n",
      "comorbidity 7 - Valvular    19.0\n",
      "dtype: float64\n",
      "comorbidity 7 - Coagulopathy    18.0\n",
      "dtype: float64\n",
      "comorbidity 7 - Anemia    23.0\n",
      "dtype: float64\n",
      "comorbidity 7 - Alcohol    30.0\n",
      "dtype: float64\n",
      "comorbidity 7 - HTNcx    8.0\n",
      "dtype: float64\n",
      "comorbidity 7 - WeightLoss    25.0\n",
      "dtype: float64\n",
      "comorbidity 7 - Liver    47.0\n",
      "dtype: float64\n",
      "comorbidity 7 - Psychoses    17.0\n",
      "dtype: float64\n",
      "comorbidity 7 - DMcx    21.0\n",
      "dtype: float64\n",
      "comorbidity 7 - Drugs    53.0\n",
      "dtype: float64\n",
      "comorbidity 7 - Mets    40.0\n",
      "dtype: float64\n",
      "comorbidity 7 - PUD    4.0\n",
      "dtype: float64\n",
      "comorbidity 7 - PHTN    9.0\n",
      "dtype: float64\n",
      "comorbidity 7 - HIV    13.0\n",
      "dtype: float64\n",
      "comorbidity 14 - Arrhythmia    46.0\n",
      "dtype: float64\n",
      "comorbidity 14 - CHF    29.0\n",
      "dtype: float64\n",
      "comorbidity 14 - FluidsLytes    51.0\n",
      "dtype: float64\n",
      "comorbidity 14 - Lymphoma    11.0\n",
      "dtype: float64\n",
      "comorbidity 14 - PVD    3.0\n",
      "dtype: float64\n",
      "comorbidity 14 - Rheumatic    30.0\n",
      "dtype: float64\n",
      "comorbidity 14 - BloodLoss    3.0\n",
      "dtype: float64\n",
      "comorbidity 14 - Renal    30.0\n",
      "dtype: float64\n",
      "comorbidity 14 - Paralysis    27.0\n",
      "dtype: float64\n",
      "comorbidity 14 - Valvular    23.0\n",
      "dtype: float64\n",
      "comorbidity 14 - Coagulopathy    19.0\n",
      "dtype: float64\n",
      "comorbidity 14 - DMcx    23.0\n",
      "dtype: float64\n",
      "comorbidity 14 - Anemia    24.0\n",
      "dtype: float64\n",
      "comorbidity 14 - Alcohol    33.0\n",
      "dtype: float64\n",
      "comorbidity 14 - HTNcx    8.0\n",
      "dtype: float64\n",
      "comorbidity 14 - Psychoses    19.0\n",
      "dtype: float64\n",
      "comorbidity 14 - WeightLoss    27.0\n",
      "dtype: float64\n",
      "comorbidity 14 - Liver    52.0\n",
      "dtype: float64\n",
      "comorbidity 14 - PHTN    9.0\n",
      "dtype: float64\n",
      "comorbidity 14 - Drugs    55.0\n",
      "dtype: float64\n",
      "comorbidity 14 - Mets    42.0\n",
      "dtype: float64\n",
      "comorbidity 14 - PUD    4.0\n",
      "dtype: float64\n",
      "comorbidity 14 - HIV    14.0\n",
      "dtype: float64\n",
      "comorbidity 30 - Arrhythmia    57.0\n",
      "dtype: float64\n",
      "comorbidity 30 - CHF    32.0\n",
      "dtype: float64\n",
      "comorbidity 30 - FluidsLytes    56.0\n",
      "dtype: float64\n",
      "comorbidity 30 - Lymphoma    13.0\n",
      "dtype: float64\n",
      "comorbidity 30 - PVD    3.0\n",
      "dtype: float64\n",
      "comorbidity 30 - Rheumatic    39.0\n",
      "dtype: float64\n",
      "comorbidity 30 - BloodLoss    3.0\n",
      "dtype: float64\n",
      "comorbidity 30 - Renal    30.0\n",
      "dtype: float64\n",
      "comorbidity 30 - Paralysis    29.0\n",
      "dtype: float64\n",
      "comorbidity 30 - Valvular    27.0\n",
      "dtype: float64\n",
      "comorbidity 30 - Coagulopathy    21.0\n",
      "dtype: float64\n",
      "comorbidity 30 - DMcx    28.0\n",
      "dtype: float64\n",
      "comorbidity 30 - Anemia    29.0\n",
      "dtype: float64\n",
      "comorbidity 30 - Alcohol    37.0\n",
      "dtype: float64\n",
      "comorbidity 30 - HTNcx    8.0\n",
      "dtype: float64\n",
      "comorbidity 30 - Psychoses    25.0\n",
      "dtype: float64\n",
      "comorbidity 30 - WeightLoss    31.0\n",
      "dtype: float64\n",
      "comorbidity 30 - Liver    57.0\n",
      "dtype: float64\n",
      "comorbidity 30 - PHTN    9.0\n",
      "dtype: float64\n",
      "comorbidity 30 - Mets    46.0\n",
      "dtype: float64\n",
      "comorbidity 30 - PUD    5.0\n",
      "dtype: float64\n",
      "comorbidity 30 - HIV    15.0\n",
      "dtype: float64\n",
      "comorbidity 90 - CHF    38.0\n",
      "dtype: float64\n",
      "comorbidity 90 - Lymphoma    21.0\n",
      "dtype: float64\n",
      "comorbidity 90 - PVD    6.0\n",
      "dtype: float64\n",
      "comorbidity 90 - BloodLoss    5.0\n",
      "dtype: float64\n",
      "comorbidity 90 - Renal    37.0\n",
      "dtype: float64\n",
      "comorbidity 90 - Paralysis    40.0\n",
      "dtype: float64\n",
      "comorbidity 90 - Valvular    38.0\n",
      "dtype: float64\n",
      "comorbidity 90 - HTNcx    9.0\n",
      "dtype: float64\n",
      "comorbidity 90 - Coagulopathy    28.0\n",
      "dtype: float64\n",
      "comorbidity 90 - DMcx    46.0\n",
      "dtype: float64\n",
      "comorbidity 90 - Anemia    55.0\n",
      "dtype: float64\n",
      "comorbidity 90 - Alcohol    48.0\n",
      "dtype: float64\n",
      "comorbidity 90 - Psychoses    41.0\n",
      "dtype: float64\n",
      "comorbidity 90 - WeightLoss    49.0\n",
      "dtype: float64\n",
      "comorbidity 90 - PHTN    10.0\n",
      "dtype: float64\n",
      "comorbidity 90 - Mets    50.0\n",
      "dtype: float64\n",
      "comorbidity 90 - PUD    6.0\n",
      "dtype: float64\n",
      "comorbidity 90 - HIV    24.0\n",
      "dtype: float64\n",
      "comorbidity 180 - CHF    49.0\n",
      "dtype: float64\n",
      "comorbidity 180 - Lymphoma    23.0\n",
      "dtype: float64\n",
      "comorbidity 180 - PVD    20.0\n",
      "dtype: float64\n",
      "comorbidity 180 - BloodLoss    10.0\n",
      "dtype: float64\n",
      "comorbidity 180 - Renal    47.0\n",
      "dtype: float64\n",
      "comorbidity 180 - Paralysis    45.0\n",
      "dtype: float64\n",
      "comorbidity 180 - HTNcx    13.0\n",
      "dtype: float64\n",
      "comorbidity 180 - PHTN    13.0\n",
      "dtype: float64\n",
      "comorbidity 180 - Mets    56.0\n",
      "dtype: float64\n",
      "comorbidity 180 - PUD    13.0\n",
      "dtype: float64\n",
      "comorbidity 180 - HIV    28.0\n",
      "dtype: float64\n",
      "procedure 180 - had cvc    22.0\n",
      "dtype: float64\n",
      "procedure 180 - had mechanical ventilation    23.0\n",
      "dtype: float64\n",
      "procedure 180 - had hemodialysis    2.0\n",
      "dtype: float64\n",
      "procedure 180 - had parenteral nutrition    2.0\n",
      "dtype: float64\n",
      "infection_sites - RESPIRATORY_TRACT    5.0\n",
      "dtype: float64\n",
      "infection_sites - BLOOD    5.0\n",
      "dtype: float64\n",
      "infection_sites - SKIN_SOFTTISSUE    5.0\n",
      "dtype: float64\n",
      "infection_sites - ABSCESS_OR_FLUID_NOS    1.0\n",
      "dtype: float64\n",
      "infection_sites - MUCOCUTANEOUS    1.0\n",
      "dtype: float64\n",
      "infection_sites - GENITOURINARY    14.0\n",
      "dtype: float64\n",
      "hosp ward - ICU    14.0\n",
      "dtype: float64\n"
     ]
    }
   ],
   "source": [
    "for feature in X_train.columns:\n",
    "    if X_train[feature].unique().shape[0] == 2: # Check if variable is binary\n",
    "        if (X_train[feature].sum() / X_train.shape[0]) <= 0.005: # Check if positive patients are sparse\n",
    "            print(X_train[[feature]].sum())\n",
    "            X_train.drop(feature, axis = 1, inplace = True)\n",
    "            X_test.drop(feature, axis = 1, inplace = True)"
   ]
  },
  {
   "cell_type": "code",
   "execution_count": 49,
   "metadata": {},
   "outputs": [
    {
     "data": {
      "text/plain": [
       "Index(['demographics - age', 'demographics - is_white',\n",
       "       'micro - prev resistance AMP 30', 'micro - prev resistance CFZ 30',\n",
       "       'micro - prev resistance STRS 30', 'micro - prev resistance FOX 30',\n",
       "       'micro - prev resistance AMC 90', 'micro - prev resistance AMP 90',\n",
       "       'micro - prev resistance CIP 90', 'micro - prev resistance SXT 90',\n",
       "       ...\n",
       "       'procedure 180 - had surgery', 'custom 7 - nursing home',\n",
       "       'custom 14 - nursing home', 'custom 30 - nursing home',\n",
       "       'custom 90 - nursing home', 'hosp ward - ER', 'hosp ward - IP',\n",
       "       'hosp ward - OP', 'is_train', 'uncomplicated'],\n",
       "      dtype='object', length=252)"
      ]
     },
     "execution_count": 49,
     "metadata": {},
     "output_type": "execute_result"
    }
   ],
   "source": [
    "X_train.columns"
   ]
  },
  {
   "cell_type": "markdown",
   "metadata": {},
   "source": [
    "## Feature Selection"
   ]
  },
  {
   "cell_type": "code",
   "execution_count": 50,
   "metadata": {},
   "outputs": [
    {
     "name": "stderr",
     "output_type": "stream",
     "text": [
      "C:\\Users\\benne\\anaconda3\\lib\\site-packages\\numpy\\lib\\function_base.py:2691: RuntimeWarning: invalid value encountered in true_divide\n",
      "  c /= stddev[:, None]\n",
      "C:\\Users\\benne\\anaconda3\\lib\\site-packages\\numpy\\lib\\function_base.py:2692: RuntimeWarning: invalid value encountered in true_divide\n",
      "  c /= stddev[None, :]\n"
     ]
    },
    {
     "data": {
      "text/plain": [
       "<matplotlib.axes._subplots.AxesSubplot at 0x174c62ed648>"
      ]
     },
     "execution_count": 50,
     "metadata": {},
     "output_type": "execute_result"
    },
    {
     "data": {
      "image/png": "[encoded data removed]",
      "text/plain": [
       "<Figure size 432x288 with 2 Axes>"
      ]
     },
     "metadata": {
      "needs_background": "light"
     },
     "output_type": "display_data"
    }
   ],
   "source": [
    "sns.heatmap(np.corrcoef(X_train.join(y_train), rowvar = False))"
   ]
  },
  {
   "cell_type": "code",
   "execution_count": 51,
   "metadata": {},
   "outputs": [
    {
     "data": {
      "text/plain": [
       "array([ 4.54166538e-02, -3.28850866e-02,  5.47283225e-02,  6.42325539e-02,\n",
       "                   nan,             nan,  9.82648058e-02,  1.19409802e-01,\n",
       "        2.44670416e-01,  1.44248281e-01,  1.15424289e-01,  9.46841904e-02,\n",
       "        2.41029891e-01,  3.38335671e-02,             nan,  2.92696266e-01,\n",
       "        1.49746834e-01,  1.07602233e-01,  2.97259572e-01,  1.43228312e-01,\n",
       "        2.61170524e-02,  9.35185878e-03,  1.32327082e-01,  1.08811510e-01,\n",
       "        5.28867275e-02,  1.65284582e-01,  6.58784780e-02,  6.34807675e-02,\n",
       "        4.23152381e-02,  2.46725951e-01,  3.50712187e-02,  1.87648025e-02,\n",
       "        9.75916184e-02,  1.08986363e-01,  2.52550119e-01,  1.15211063e-01,\n",
       "        2.81204480e-02,  4.23096353e-02,  5.37841434e-02,  5.68358105e-02,\n",
       "        1.74411084e-02,  9.37055328e-02,  1.05519580e-01,  1.12251168e-01,\n",
       "        6.97569468e-02,  1.24495946e-01,  6.45104708e-02,  6.05574214e-02,\n",
       "                   nan,             nan,             nan,  1.06865865e-01,\n",
       "        1.50078988e-02,  4.18175173e-03, -7.47810776e-03,  1.50078988e-02,\n",
       "       -7.47810776e-03,             nan, -7.47810776e-03,  1.52582688e-03,\n",
       "        1.10686232e-01,  6.30042595e-02,  1.36413511e-02,  1.50355502e-02,\n",
       "        1.86223767e-02, -3.66784491e-03, -1.11244087e-03,  9.70779114e-02,\n",
       "        6.30042595e-02,  1.36413511e-02,  1.86223767e-02,  1.14381041e-03,\n",
       "       -3.66784491e-03,             nan, -2.44815971e-03, -3.66784491e-03,\n",
       "        1.49834774e-02,  1.19611859e-01, -7.42747736e-04,  7.30763061e-02,\n",
       "        3.41864727e-02,  6.67213926e-03,  3.80195929e-02,  6.56185167e-03,\n",
       "        7.45601808e-03,  1.12309517e-01,  6.82581112e-02,  7.30763061e-02,\n",
       "        5.03938305e-03,  6.67213926e-03,  3.84094686e-02,  6.56185167e-03,\n",
       "        6.45713254e-03,  1.45387338e-02,  1.76369624e-02, -1.50772927e-02,\n",
       "                   nan,  5.03938305e-03,  6.56185167e-03,  1.59325016e-02,\n",
       "        7.96626259e-03,  5.12876776e-02,  1.97008490e-02,  1.16442813e-01,\n",
       "        3.87718773e-03,  8.47295262e-02,  4.12705984e-02,  3.02047508e-02,\n",
       "        2.62245116e-02,  5.03437914e-02,  1.02601241e-02,  1.08790052e-01,\n",
       "        8.47295262e-02,  6.80236295e-02,  8.19554797e-03,  2.72534171e-02,\n",
       "        2.62245116e-02,  9.27123958e-03,  9.32607402e-03,  1.79494321e-02,\n",
       "                   nan,  1.57931747e-02,  1.88927448e-02, -5.81235768e-03,\n",
       "                   nan,  7.04620276e-03,  2.72534171e-02,  5.92553613e-02,\n",
       "        2.04228026e-02,  1.12537957e-02,  9.16015429e-02,  6.54625434e-02,\n",
       "        1.45164882e-02,  3.83086967e-02,  7.48020450e-02,  5.39224562e-03,\n",
       "        3.61403039e-02,  4.52370653e-02,  3.99002361e-02,  1.46055850e-02,\n",
       "       -1.72797789e-02,  7.54266531e-02,  6.54625434e-02,  8.50557322e-02,\n",
       "        9.10764886e-03,  3.76757686e-02,  7.48020450e-02,  1.38945998e-02,\n",
       "        1.98629401e-03,  3.41311546e-02,  1.57499758e-02,  3.26475425e-02,\n",
       "        4.64575889e-02,  8.61908946e-03,  5.20063388e-02,  4.61462038e-02,\n",
       "       -6.68291990e-03,  5.35479879e-02,  3.99002361e-02,  7.64888234e-03,\n",
       "        1.49834774e-02, -1.73911400e-02,  1.63876248e-02,  8.69911674e-03,\n",
       "        1.12607034e-02,  2.56679420e-02, -5.57138355e-04,  9.32607402e-03,\n",
       "       -6.14354502e-03,  2.25585795e-02, -1.59895187e-02,  3.38916080e-02,\n",
       "        1.17955542e-02,  2.88779971e-02,  6.92522278e-02,  4.62398254e-02,\n",
       "        1.01538282e-02,  5.35479879e-02,  1.81916230e-02,  5.93622663e-02,\n",
       "        9.76630665e-02,  1.08365529e-01,  2.69290818e-03,  2.82573261e-02,\n",
       "                   nan,  2.00944403e-02,  5.52051143e-03,  2.34272748e-02,\n",
       "        5.77786082e-03,  9.27123958e-03,  2.58312001e-02,  2.27032885e-02,\n",
       "        1.83982043e-02,  3.49030750e-03,  1.89779569e-02,  2.07525452e-03,\n",
       "        8.69911674e-03,  2.36638632e-02,  1.32490837e-02,  1.99988263e-02,\n",
       "        3.03716724e-02, -7.42747736e-04,  1.66484118e-02,  5.34638578e-03,\n",
       "        2.18696699e-02,  1.77280814e-02,  1.88045924e-02,  2.22005190e-02,\n",
       "        4.15638432e-02,  3.08086845e-02,  4.31049634e-02,  1.02093352e-02,\n",
       "        1.50491026e-02,  4.65864235e-02,  9.91829360e-03,  1.83518664e-02,\n",
       "        1.10360533e-02,  1.90067564e-02,  2.58926221e-02,  2.86257328e-02,\n",
       "        2.80915443e-02,  3.42574437e-02,  3.16380502e-02,  4.25883743e-02,\n",
       "        2.96555732e-02,  2.10604214e-02,  2.85131017e-02,  5.95591665e-02,\n",
       "        1.84037242e-02,  2.76023846e-02,  6.28307515e-03,  1.10771539e-02,\n",
       "        3.61623274e-02,  2.22991847e-02,  2.25772809e-02,  2.81204480e-02,\n",
       "        2.69290818e-03,  2.53701925e-02,  3.26689509e-02,  1.38237653e-02,\n",
       "        3.76055233e-02,  3.41117268e-02,  2.26308222e-02,             nan,\n",
       "                   nan,             nan,             nan,  1.39693873e-02,\n",
       "        1.84944492e-02, -2.26381897e-02, -3.11444585e-02,             nan,\n",
       "        1.00000000e+00])"
      ]
     },
     "execution_count": 51,
     "metadata": {},
     "output_type": "execute_result"
    }
   ],
   "source": [
    "np.corrcoef(X_train.join(y_train), rowvar = False)[X_train.shape[1]]"
   ]
  },
  {
   "cell_type": "code",
   "execution_count": 52,
   "metadata": {},
   "outputs": [],
   "source": [
    "from sklearn.decomposition import PCA"
   ]
  },
  {
   "cell_type": "code",
   "execution_count": 53,
   "metadata": {},
   "outputs": [],
   "source": [
    "reduced = PCA(n_components = 0.9).fit_transform(X = cip_df.drop('CIP', axis = 1))"
   ]
  },
  {
   "cell_type": "code",
   "execution_count": 54,
   "metadata": {},
   "outputs": [
    {
     "data": {
      "text/html": [
       "<div>\n",
       "<style scoped>\n",
       "    .dataframe tbody tr th:only-of-type {\n",
       "        vertical-align: middle;\n",
       "    }\n",
       "\n",
       "    .dataframe tbody tr th {\n",
       "        vertical-align: top;\n",
       "    }\n",
       "\n",
       "    .dataframe thead th {\n",
       "        text-align: right;\n",
       "    }\n",
       "</style>\n",
       "<table border=\"1\" class=\"dataframe\">\n",
       "  <thead>\n",
       "    <tr style=\"text-align: right;\">\n",
       "      <th></th>\n",
       "      <th>0</th>\n",
       "    </tr>\n",
       "    <tr>\n",
       "      <th>example_id</th>\n",
       "      <th></th>\n",
       "    </tr>\n",
       "  </thead>\n",
       "  <tbody>\n",
       "    <tr>\n",
       "      <th>4</th>\n",
       "      <td>-12.995031</td>\n",
       "    </tr>\n",
       "    <tr>\n",
       "      <th>31</th>\n",
       "      <td>-15.001058</td>\n",
       "    </tr>\n",
       "    <tr>\n",
       "      <th>34</th>\n",
       "      <td>2.003983</td>\n",
       "    </tr>\n",
       "    <tr>\n",
       "      <th>36</th>\n",
       "      <td>-8.006641</td>\n",
       "    </tr>\n",
       "    <tr>\n",
       "      <th>48</th>\n",
       "      <td>19.988734</td>\n",
       "    </tr>\n",
       "    <tr>\n",
       "      <th>...</th>\n",
       "      <td>...</td>\n",
       "    </tr>\n",
       "    <tr>\n",
       "      <th>116880</th>\n",
       "      <td>-12.000631</td>\n",
       "    </tr>\n",
       "    <tr>\n",
       "      <th>116884</th>\n",
       "      <td>-14.998214</td>\n",
       "    </tr>\n",
       "    <tr>\n",
       "      <th>116890</th>\n",
       "      <td>-11.986980</td>\n",
       "    </tr>\n",
       "    <tr>\n",
       "      <th>116893</th>\n",
       "      <td>19.025837</td>\n",
       "    </tr>\n",
       "    <tr>\n",
       "      <th>116899</th>\n",
       "      <td>13.997412</td>\n",
       "    </tr>\n",
       "  </tbody>\n",
       "</table>\n",
       "<p>15806 rows × 1 columns</p>\n",
       "</div>"
      ],
      "text/plain": [
       "                    0\n",
       "example_id           \n",
       "4          -12.995031\n",
       "31         -15.001058\n",
       "34           2.003983\n",
       "36          -8.006641\n",
       "48          19.988734\n",
       "...               ...\n",
       "116880     -12.000631\n",
       "116884     -14.998214\n",
       "116890     -11.986980\n",
       "116893      19.025837\n",
       "116899      13.997412\n",
       "\n",
       "[15806 rows x 1 columns]"
      ]
     },
     "execution_count": 54,
     "metadata": {},
     "output_type": "execute_result"
    }
   ],
   "source": [
    "pd.DataFrame(reduced, index = cip_df.index)"
   ]
  },
  {
   "cell_type": "markdown",
   "metadata": {},
   "source": [
    "## Construct \"Blackbox\" Models\n",
    "\n",
    "Models to test & tune: \n",
    "- XGBoost\n",
    "- Neural Net\n",
    "- Random Forest\n",
    "- Ensembles of all of them"
   ]
  },
  {
   "cell_type": "code",
   "execution_count": 55,
   "metadata": {},
   "outputs": [],
   "source": [
    "def report_best_scores(results, n_top=3):\n",
    "    for i in range(1, n_top + 1):\n",
    "        candidates = np.flatnonzero(results['rank_test_score'] == i)\n",
    "        for candidate in candidates:\n",
    "            print(\"Model with rank: {0}\".format(i))\n",
    "            print(\"Mean validation score: {0:.3f} (std: {1:.3f})\".format(\n",
    "                  results['mean_test_score'][candidate],\n",
    "                  results['std_test_score'][candidate]))\n",
    "            print(\"Parameters: {0}\".format(results['params'][candidate]))\n",
    "            print(\"\")"
   ]
  },
  {
   "cell_type": "code",
   "execution_count": 56,
   "metadata": {},
   "outputs": [],
   "source": [
    "import xgboost as xgb\n",
    "from scipy.stats import uniform, randint\n",
    "from sklearn.model_selection import cross_val_score, GridSearchCV, KFold, RandomizedSearchCV, train_test_split"
   ]
  },
  {
   "cell_type": "code",
   "execution_count": 57,
   "metadata": {},
   "outputs": [],
   "source": [
    "xgb_mod = xgb.XGBClassifier(objective = 'binary:logistic')"
   ]
  },
  {
   "cell_type": "code",
   "execution_count": 58,
   "metadata": {},
   "outputs": [
    {
     "name": "stdout",
     "output_type": "stream",
     "text": [
      "Fitting 3 folds for each of 5 candidates, totalling 15 fits\n"
     ]
    },
    {
     "name": "stderr",
     "output_type": "stream",
     "text": [
      "[Parallel(n_jobs=7)]: Using backend LokyBackend with 7 concurrent workers.\n",
      "[Parallel(n_jobs=7)]: Done  15 out of  15 | elapsed:   18.6s finished\n",
      "C:\\Users\\benne\\anaconda3\\lib\\site-packages\\xgboost\\sklearn.py:1146: UserWarning: The use of label encoder in XGBClassifier is deprecated and will be removed in a future release. To remove this warning, do the following: 1) Pass option use_label_encoder=False when constructing XGBClassifier object; and 2) Encode your labels (y) as integers starting with 0, i.e. 0, 1, 2, ..., [num_class - 1].\n",
      "  warnings.warn(label_encoder_deprecation_msg, UserWarning)\n"
     ]
    },
    {
     "name": "stdout",
     "output_type": "stream",
     "text": [
      "[14:40:15] WARNING: C:/Users/Administrator/workspace/xgboost-win64_release_1.4.0/src/learner.cc:1095: Starting in XGBoost 1.3.0, the default evaluation metric used with the objective 'binary:logistic' was changed from 'error' to 'logloss'. Explicitly set eval_metric if you'd like to restore the old behavior.\n",
      "Model with rank: 1\n",
      "Mean validation score: 0.654 (std: 0.013)\n",
      "Parameters: {'colsample_bytree': 0.8835558684167137, 'gamma': 0.06974693032602092, 'learning_rate': 0.11764339456056544, 'max_depth': 5, 'n_estimators': 114, 'subsample': 0.7824279936868144}\n",
      "\n"
     ]
    }
   ],
   "source": [
    "params = {\n",
    "    \"colsample_bytree\": uniform(0.7, 0.3),\n",
    "    \"gamma\": uniform(0, 0.5),\n",
    "    \"learning_rate\": uniform(0.03, 0.3), # default 0.1 \n",
    "    \"max_depth\": randint(2, 6), # default 3\n",
    "    \"n_estimators\": randint(100, 150), # default 100\n",
    "    \"subsample\": uniform(0.6, 0.4)\n",
    "}\n",
    "\n",
    "search_first = RandomizedSearchCV(xgb_mod, param_distributions=params, scoring = 'roc_auc', random_state=42, n_iter=5, cv=3, verbose=1, n_jobs=7, return_train_score=True)\n",
    "\n",
    "search_first.fit(X_train, y_train)\n",
    "\n",
    "report_best_scores(search_first.cv_results_, 1)"
   ]
  },
  {
   "cell_type": "code",
   "execution_count": 59,
   "metadata": {},
   "outputs": [
    {
     "data": {
      "text/plain": [
       "0.6540395642351788"
      ]
     },
     "execution_count": 59,
     "metadata": {},
     "output_type": "execute_result"
    }
   ],
   "source": [
    "search_first.best_score_"
   ]
  },
  {
   "cell_type": "code",
   "execution_count": 60,
   "metadata": {},
   "outputs": [],
   "source": [
    "from sklearn.metrics import f1_score, confusion_matrix, accuracy_score, roc_auc_score"
   ]
  },
  {
   "cell_type": "code",
   "execution_count": 61,
   "metadata": {},
   "outputs": [
    {
     "data": {
      "text/plain": [
       "0.9438259109311741"
      ]
     },
     "execution_count": 61,
     "metadata": {},
     "output_type": "execute_result"
    }
   ],
   "source": [
    "accuracy_score(pd.DataFrame(search_first.predict(X_test)), y_test)"
   ]
  },
  {
   "cell_type": "code",
   "execution_count": 62,
   "metadata": {},
   "outputs": [
    {
     "data": {
      "text/plain": [
       "0.7892181911088401"
      ]
     },
     "execution_count": 62,
     "metadata": {},
     "output_type": "execute_result"
    }
   ],
   "source": [
    "roc_auc_score(search_first.predict(X_test), y_test)"
   ]
  },
  {
   "cell_type": "code",
   "execution_count": 63,
   "metadata": {},
   "outputs": [
    {
     "data": {
      "text/plain": [
       "0.17777777777777778"
      ]
     },
     "execution_count": 63,
     "metadata": {},
     "output_type": "execute_result"
    }
   ],
   "source": [
    "f1_score(search_first.predict(X_test), y_test)"
   ]
  },
  {
   "cell_type": "code",
   "execution_count": 64,
   "metadata": {},
   "outputs": [
    {
     "data": {
      "text/plain": [
       "array([[3706,  208],\n",
       "       [  14,   24]], dtype=int64)"
      ]
     },
     "execution_count": 64,
     "metadata": {},
     "output_type": "execute_result"
    }
   ],
   "source": [
    "confusion_matrix(search_first.predict(X_test), y_test)"
   ]
  },
  {
   "cell_type": "code",
   "execution_count": 65,
   "metadata": {},
   "outputs": [],
   "source": [
    "from sklearn.linear_model import LogisticRegression\n"
   ]
  },
  {
   "cell_type": "code",
   "execution_count": 66,
   "metadata": {},
   "outputs": [
    {
     "name": "stderr",
     "output_type": "stream",
     "text": [
      "C:\\Users\\benne\\anaconda3\\lib\\site-packages\\sklearn\\linear_model\\_logistic.py:764: ConvergenceWarning: lbfgs failed to converge (status=1):\n",
      "STOP: TOTAL NO. of ITERATIONS REACHED LIMIT.\n",
      "\n",
      "Increase the number of iterations (max_iter) or scale the data as shown in:\n",
      "    https://scikit-learn.org/stable/modules/preprocessing.html\n",
      "Please also refer to the documentation for alternative solver options:\n",
      "    https://scikit-learn.org/stable/modules/linear_model.html#logistic-regression\n",
      "  extra_warning_msg=_LOGISTIC_SOLVER_CONVERGENCE_MSG)\n"
     ]
    }
   ],
   "source": [
    "lr = LogisticRegression().fit(X_train, y_train)"
   ]
  },
  {
   "cell_type": "code",
   "execution_count": 67,
   "metadata": {},
   "outputs": [
    {
     "data": {
      "text/plain": [
       "0.9438259109311741"
      ]
     },
     "execution_count": 67,
     "metadata": {},
     "output_type": "execute_result"
    }
   ],
   "source": [
    "accuracy_score(lr.predict(X_test), y_test)"
   ]
  },
  {
   "cell_type": "code",
   "execution_count": 68,
   "metadata": {},
   "outputs": [
    {
     "data": {
      "text/plain": [
       "0.786042944785276"
      ]
     },
     "execution_count": 68,
     "metadata": {},
     "output_type": "execute_result"
    }
   ],
   "source": [
    "roc_auc_score(lr.predict(X_test), y_test)"
   ]
  },
  {
   "cell_type": "code",
   "execution_count": 69,
   "metadata": {},
   "outputs": [
    {
     "data": {
      "text/plain": [
       "0.1838235294117647"
      ]
     },
     "execution_count": 69,
     "metadata": {},
     "output_type": "execute_result"
    }
   ],
   "source": [
    "f1_score(lr.predict(X_test), y_test)"
   ]
  },
  {
   "cell_type": "code",
   "execution_count": 70,
   "metadata": {},
   "outputs": [
    {
     "data": {
      "text/plain": [
       "array([[3705,  207],\n",
       "       [  15,   25]], dtype=int64)"
      ]
     },
     "execution_count": 70,
     "metadata": {},
     "output_type": "execute_result"
    }
   ],
   "source": [
    "confusion_matrix(lr.predict(X_test), y_test)"
   ]
  },
  {
   "cell_type": "code",
   "execution_count": 71,
   "metadata": {},
   "outputs": [
    {
     "data": {
      "image/png": "[encoded data removed]",
      "text/plain": [
       "<Figure size 432x288 with 1 Axes>"
      ]
     },
     "metadata": {
      "needs_background": "light"
     },
     "output_type": "display_data"
    }
   ],
   "source": [
    "cm = confusion_matrix(lr.predict(X_test), y_test)\n",
    "\n",
    "plt.clf()\n",
    "plt.imshow(cm, interpolation='nearest', cmap=plt.cm.Wistia)\n",
    "classNames = ['Negative','Positive']\n",
    "plt.title('CIP Resistant or Not Confusion Matrix - Test Data for Logistic Regression')\n",
    "plt.ylabel('True label')\n",
    "plt.xlabel('Predicted label')\n",
    "tick_marks = np.arange(len(classNames))\n",
    "plt.xticks(tick_marks, classNames, rotation=45)\n",
    "plt.yticks(tick_marks, classNames)\n",
    "s = [['TN','FP'], ['FN', 'TP']]\n",
    "for i in range(2):\n",
    "    for j in range(2):\n",
    "        plt.text(j-0.25,i, str(s[i][j])+\" = \"+str(cm[i][j]))\n",
    "plt.show()"
   ]
  },
  {
   "cell_type": "code",
   "execution_count": 72,
   "metadata": {},
   "outputs": [],
   "source": [
    "from sklearn.ensemble import RandomForestClassifier"
   ]
  },
  {
   "cell_type": "code",
   "execution_count": 73,
   "metadata": {},
   "outputs": [],
   "source": [
    "rf = RandomForestClassifier().fit(X_train, y_train)"
   ]
  },
  {
   "cell_type": "code",
   "execution_count": 74,
   "metadata": {},
   "outputs": [
    {
     "data": {
      "text/plain": [
       "0.9412955465587044"
      ]
     },
     "execution_count": 74,
     "metadata": {},
     "output_type": "execute_result"
    }
   ],
   "source": [
    "accuracy_score(rf.predict(X_test), y_test)"
   ]
  },
  {
   "cell_type": "code",
   "execution_count": 75,
   "metadata": {},
   "outputs": [
    {
     "data": {
      "text/plain": [
       "0.1773049645390071"
      ]
     },
     "execution_count": 75,
     "metadata": {},
     "output_type": "execute_result"
    }
   ],
   "source": [
    "f1_score(rf.predict(X_test), y_test)"
   ]
  },
  {
   "cell_type": "code",
   "execution_count": 76,
   "metadata": {},
   "outputs": [
    {
     "data": {
      "text/plain": [
       "array([[3695,  207],\n",
       "       [  25,   25]], dtype=int64)"
      ]
     },
     "execution_count": 76,
     "metadata": {},
     "output_type": "execute_result"
    }
   ],
   "source": [
    "confusion_matrix(rf.predict(X_test), y_test)"
   ]
  },
  {
   "cell_type": "code",
   "execution_count": null,
   "metadata": {},
   "outputs": [],
   "source": []
  },
  {
   "cell_type": "code",
   "execution_count": null,
   "metadata": {},
   "outputs": [],
   "source": []
  },
  {
   "cell_type": "code",
   "execution_count": null,
   "metadata": {},
   "outputs": [],
   "source": []
  },
  {
   "cell_type": "code",
   "execution_count": null,
   "metadata": {},
   "outputs": [],
   "source": []
  },
  {
   "cell_type": "code",
   "execution_count": null,
   "metadata": {},
   "outputs": [],
   "source": [
    "import os\n",
    "os.environ[\"PATH\"] += os.pathsep + 'D:/Program Files (x86)/Graphviz2.38/bin/'"
   ]
  },
  {
   "cell_type": "code",
   "execution_count": 98,
   "metadata": {},
   "outputs": [
    {
     "name": "stdout",
     "output_type": "stream",
     "text": [
      "[15:09:59] WARNING: C:/Users/Administrator/workspace/xgboost-win64_release_1.4.0/src/learner.cc:1095: Starting in XGBoost 1.3.0, the default evaluation metric used with the objective 'binary:logistic' was changed from 'error' to 'logloss'. Explicitly set eval_metric if you'd like to restore the old behavior.\n"
     ]
    },
    {
     "ename": "ExecutableNotFound",
     "evalue": "failed to execute 'dot', make sure the Graphviz executables are on your systems' PATH",
     "output_type": "error",
     "traceback": [
      "\u001b[1;31m---------------------------------------------------------------------------\u001b[0m",
      "\u001b[1;31mFileNotFoundError\u001b[0m                         Traceback (most recent call last)",
      "\u001b[1;32m~\\anaconda3\\lib\\site-packages\\graphviz\\backend\\execute.py\u001b[0m in \u001b[0;36mrun_check\u001b[1;34m(cmd, input_lines, encoding, capture_output, quiet, **kwargs)\u001b[0m\n\u001b[0;32m     82\u001b[0m             \u001b[1;32massert\u001b[0m \u001b[0miter\u001b[0m\u001b[1;33m(\u001b[0m\u001b[0minput_lines\u001b[0m\u001b[1;33m)\u001b[0m \u001b[1;32mis\u001b[0m \u001b[0minput_lines\u001b[0m\u001b[1;33m\u001b[0m\u001b[1;33m\u001b[0m\u001b[0m\n\u001b[1;32m---> 83\u001b[1;33m             \u001b[0mproc\u001b[0m \u001b[1;33m=\u001b[0m \u001b[0m_run_input_lines\u001b[0m\u001b[1;33m(\u001b[0m\u001b[0mcmd\u001b[0m\u001b[1;33m,\u001b[0m \u001b[0minput_lines\u001b[0m\u001b[1;33m,\u001b[0m \u001b[0mkwargs\u001b[0m\u001b[1;33m=\u001b[0m\u001b[0mkwargs\u001b[0m\u001b[1;33m)\u001b[0m\u001b[1;33m\u001b[0m\u001b[1;33m\u001b[0m\u001b[0m\n\u001b[0m\u001b[0;32m     84\u001b[0m         \u001b[1;32melse\u001b[0m\u001b[1;33m:\u001b[0m\u001b[1;33m\u001b[0m\u001b[1;33m\u001b[0m\u001b[0m\n",
      "\u001b[1;32m~\\anaconda3\\lib\\site-packages\\graphviz\\backend\\execute.py\u001b[0m in \u001b[0;36m_run_input_lines\u001b[1;34m(cmd, input_lines, kwargs)\u001b[0m\n\u001b[0;32m    102\u001b[0m \u001b[1;32mdef\u001b[0m \u001b[0m_run_input_lines\u001b[0m\u001b[1;33m(\u001b[0m\u001b[0mcmd\u001b[0m\u001b[1;33m,\u001b[0m \u001b[0minput_lines\u001b[0m\u001b[1;33m,\u001b[0m \u001b[1;33m*\u001b[0m\u001b[1;33m,\u001b[0m \u001b[0mkwargs\u001b[0m\u001b[1;33m)\u001b[0m\u001b[1;33m:\u001b[0m\u001b[1;33m\u001b[0m\u001b[1;33m\u001b[0m\u001b[0m\n\u001b[1;32m--> 103\u001b[1;33m     \u001b[0mpopen\u001b[0m \u001b[1;33m=\u001b[0m \u001b[0msubprocess\u001b[0m\u001b[1;33m.\u001b[0m\u001b[0mPopen\u001b[0m\u001b[1;33m(\u001b[0m\u001b[0mcmd\u001b[0m\u001b[1;33m,\u001b[0m \u001b[0mstdin\u001b[0m\u001b[1;33m=\u001b[0m\u001b[0msubprocess\u001b[0m\u001b[1;33m.\u001b[0m\u001b[0mPIPE\u001b[0m\u001b[1;33m,\u001b[0m \u001b[1;33m**\u001b[0m\u001b[0mkwargs\u001b[0m\u001b[1;33m)\u001b[0m\u001b[1;33m\u001b[0m\u001b[1;33m\u001b[0m\u001b[0m\n\u001b[0m\u001b[0;32m    104\u001b[0m \u001b[1;33m\u001b[0m\u001b[0m\n",
      "\u001b[1;32m~\\anaconda3\\lib\\subprocess.py\u001b[0m in \u001b[0;36m__init__\u001b[1;34m(self, args, bufsize, executable, stdin, stdout, stderr, preexec_fn, close_fds, shell, cwd, env, universal_newlines, startupinfo, creationflags, restore_signals, start_new_session, pass_fds, encoding, errors, text)\u001b[0m\n\u001b[0;32m    799\u001b[0m                                 \u001b[0merrread\u001b[0m\u001b[1;33m,\u001b[0m \u001b[0merrwrite\u001b[0m\u001b[1;33m,\u001b[0m\u001b[1;33m\u001b[0m\u001b[1;33m\u001b[0m\u001b[0m\n\u001b[1;32m--> 800\u001b[1;33m                                 restore_signals, start_new_session)\n\u001b[0m\u001b[0;32m    801\u001b[0m         \u001b[1;32mexcept\u001b[0m\u001b[1;33m:\u001b[0m\u001b[1;33m\u001b[0m\u001b[1;33m\u001b[0m\u001b[0m\n",
      "\u001b[1;32m~\\anaconda3\\lib\\subprocess.py\u001b[0m in \u001b[0;36m_execute_child\u001b[1;34m(self, args, executable, preexec_fn, close_fds, pass_fds, cwd, env, startupinfo, creationflags, shell, p2cread, p2cwrite, c2pread, c2pwrite, errread, errwrite, unused_restore_signals, unused_start_new_session)\u001b[0m\n\u001b[0;32m   1206\u001b[0m                                          \u001b[0mos\u001b[0m\u001b[1;33m.\u001b[0m\u001b[0mfspath\u001b[0m\u001b[1;33m(\u001b[0m\u001b[0mcwd\u001b[0m\u001b[1;33m)\u001b[0m \u001b[1;32mif\u001b[0m \u001b[0mcwd\u001b[0m \u001b[1;32mis\u001b[0m \u001b[1;32mnot\u001b[0m \u001b[1;32mNone\u001b[0m \u001b[1;32melse\u001b[0m \u001b[1;32mNone\u001b[0m\u001b[1;33m,\u001b[0m\u001b[1;33m\u001b[0m\u001b[1;33m\u001b[0m\u001b[0m\n\u001b[1;32m-> 1207\u001b[1;33m                                          startupinfo)\n\u001b[0m\u001b[0;32m   1208\u001b[0m             \u001b[1;32mfinally\u001b[0m\u001b[1;33m:\u001b[0m\u001b[1;33m\u001b[0m\u001b[1;33m\u001b[0m\u001b[0m\n",
      "\u001b[1;31mFileNotFoundError\u001b[0m: [WinError 2] Das System kann die angegebene Datei nicht finden",
      "\nThe above exception was the direct cause of the following exception:\n",
      "\u001b[1;31mExecutableNotFound\u001b[0m                        Traceback (most recent call last)",
      "\u001b[1;32m<ipython-input-98-58f002e27819>\u001b[0m in \u001b[0;36m<module>\u001b[1;34m\u001b[0m\n\u001b[0;32m      1\u001b[0m \u001b[1;32mimport\u001b[0m \u001b[0mgraphviz\u001b[0m\u001b[1;33m\u001b[0m\u001b[1;33m\u001b[0m\u001b[0m\n\u001b[0;32m      2\u001b[0m \u001b[0mmod_xgb\u001b[0m \u001b[1;33m=\u001b[0m \u001b[0mxgb\u001b[0m\u001b[1;33m.\u001b[0m\u001b[0mXGBClassifier\u001b[0m\u001b[1;33m(\u001b[0m\u001b[0mobjective\u001b[0m \u001b[1;33m=\u001b[0m \u001b[1;34m'binary:logistic'\u001b[0m\u001b[1;33m)\u001b[0m\u001b[1;33m.\u001b[0m\u001b[0mfit\u001b[0m\u001b[1;33m(\u001b[0m\u001b[0mX_train\u001b[0m\u001b[1;33m,\u001b[0m \u001b[0my_train\u001b[0m\u001b[1;33m)\u001b[0m\u001b[1;33m\u001b[0m\u001b[1;33m\u001b[0m\u001b[0m\n\u001b[1;32m----> 3\u001b[1;33m \u001b[0mxgb\u001b[0m\u001b[1;33m.\u001b[0m\u001b[0mplot_tree\u001b[0m\u001b[1;33m(\u001b[0m\u001b[0mmod_xgb\u001b[0m\u001b[1;33m)\u001b[0m\u001b[1;33m\u001b[0m\u001b[1;33m\u001b[0m\u001b[0m\n\u001b[0m",
      "\u001b[1;32m~\\anaconda3\\lib\\site-packages\\xgboost\\plotting.py\u001b[0m in \u001b[0;36mplot_tree\u001b[1;34m(booster, fmap, num_trees, rankdir, ax, **kwargs)\u001b[0m\n\u001b[0;32m    248\u001b[0m \u001b[1;33m\u001b[0m\u001b[0m\n\u001b[0;32m    249\u001b[0m     \u001b[0ms\u001b[0m \u001b[1;33m=\u001b[0m \u001b[0mBytesIO\u001b[0m\u001b[1;33m(\u001b[0m\u001b[1;33m)\u001b[0m\u001b[1;33m\u001b[0m\u001b[1;33m\u001b[0m\u001b[0m\n\u001b[1;32m--> 250\u001b[1;33m     \u001b[0ms\u001b[0m\u001b[1;33m.\u001b[0m\u001b[0mwrite\u001b[0m\u001b[1;33m(\u001b[0m\u001b[0mg\u001b[0m\u001b[1;33m.\u001b[0m\u001b[0mpipe\u001b[0m\u001b[1;33m(\u001b[0m\u001b[0mformat\u001b[0m\u001b[1;33m=\u001b[0m\u001b[1;34m'png'\u001b[0m\u001b[1;33m)\u001b[0m\u001b[1;33m)\u001b[0m\u001b[1;33m\u001b[0m\u001b[1;33m\u001b[0m\u001b[0m\n\u001b[0m\u001b[0;32m    251\u001b[0m     \u001b[0ms\u001b[0m\u001b[1;33m.\u001b[0m\u001b[0mseek\u001b[0m\u001b[1;33m(\u001b[0m\u001b[1;36m0\u001b[0m\u001b[1;33m)\u001b[0m\u001b[1;33m\u001b[0m\u001b[1;33m\u001b[0m\u001b[0m\n\u001b[0;32m    252\u001b[0m     \u001b[0mimg\u001b[0m \u001b[1;33m=\u001b[0m \u001b[0mimage\u001b[0m\u001b[1;33m.\u001b[0m\u001b[0mimread\u001b[0m\u001b[1;33m(\u001b[0m\u001b[0ms\u001b[0m\u001b[1;33m)\u001b[0m\u001b[1;33m\u001b[0m\u001b[1;33m\u001b[0m\u001b[0m\n",
      "\u001b[1;32m~\\anaconda3\\lib\\site-packages\\graphviz\\piping.py\u001b[0m in \u001b[0;36mpipe\u001b[1;34m(self, format, renderer, formatter, quiet, engine, encoding)\u001b[0m\n\u001b[0;32m    102\u001b[0m                                  \u001b[0mquiet\u001b[0m\u001b[1;33m=\u001b[0m\u001b[0mquiet\u001b[0m\u001b[1;33m,\u001b[0m\u001b[1;33m\u001b[0m\u001b[1;33m\u001b[0m\u001b[0m\n\u001b[0;32m    103\u001b[0m                                  \u001b[0mengine\u001b[0m\u001b[1;33m=\u001b[0m\u001b[0mengine\u001b[0m\u001b[1;33m,\u001b[0m\u001b[1;33m\u001b[0m\u001b[1;33m\u001b[0m\u001b[0m\n\u001b[1;32m--> 104\u001b[1;33m                                  encoding=encoding)\n\u001b[0m\u001b[0;32m    105\u001b[0m \u001b[1;33m\u001b[0m\u001b[0m\n\u001b[0;32m    106\u001b[0m     \u001b[1;33m@\u001b[0m\u001b[0m_tools\u001b[0m\u001b[1;33m.\u001b[0m\u001b[0mdeprecate_positional_args\u001b[0m\u001b[1;33m(\u001b[0m\u001b[0msupported_number\u001b[0m\u001b[1;33m=\u001b[0m\u001b[1;36m2\u001b[0m\u001b[1;33m)\u001b[0m\u001b[1;33m\u001b[0m\u001b[1;33m\u001b[0m\u001b[0m\n",
      "\u001b[1;32m~\\anaconda3\\lib\\site-packages\\graphviz\\_tools.py\u001b[0m in \u001b[0;36mwrapper\u001b[1;34m(*args, **kwargs)\u001b[0m\n\u001b[0;32m    170\u001b[0m                               category=category)\n\u001b[0;32m    171\u001b[0m \u001b[1;33m\u001b[0m\u001b[0m\n\u001b[1;32m--> 172\u001b[1;33m             \u001b[1;32mreturn\u001b[0m \u001b[0mfunc\u001b[0m\u001b[1;33m(\u001b[0m\u001b[1;33m*\u001b[0m\u001b[0margs\u001b[0m\u001b[1;33m,\u001b[0m \u001b[1;33m**\u001b[0m\u001b[0mkwargs\u001b[0m\u001b[1;33m)\u001b[0m\u001b[1;33m\u001b[0m\u001b[1;33m\u001b[0m\u001b[0m\n\u001b[0m\u001b[0;32m    173\u001b[0m \u001b[1;33m\u001b[0m\u001b[0m\n\u001b[0;32m    174\u001b[0m         \u001b[1;32mreturn\u001b[0m \u001b[0mwrapper\u001b[0m\u001b[1;33m\u001b[0m\u001b[1;33m\u001b[0m\u001b[0m\n",
      "\u001b[1;32m~\\anaconda3\\lib\\site-packages\\graphviz\\piping.py\u001b[0m in \u001b[0;36m_pipe_legacy\u001b[1;34m(self, format, renderer, formatter, quiet, engine, encoding)\u001b[0m\n\u001b[0;32m    117\u001b[0m                                  \u001b[0mquiet\u001b[0m\u001b[1;33m=\u001b[0m\u001b[0mquiet\u001b[0m\u001b[1;33m,\u001b[0m\u001b[1;33m\u001b[0m\u001b[1;33m\u001b[0m\u001b[0m\n\u001b[0;32m    118\u001b[0m                                  \u001b[0mengine\u001b[0m\u001b[1;33m=\u001b[0m\u001b[0mengine\u001b[0m\u001b[1;33m,\u001b[0m\u001b[1;33m\u001b[0m\u001b[1;33m\u001b[0m\u001b[0m\n\u001b[1;32m--> 119\u001b[1;33m                                  encoding=encoding)\n\u001b[0m\u001b[0;32m    120\u001b[0m \u001b[1;33m\u001b[0m\u001b[0m\n\u001b[0;32m    121\u001b[0m     def _pipe_future(self, format: typing.Optional[str] = None, *,\n",
      "\u001b[1;32m~\\anaconda3\\lib\\site-packages\\graphviz\\piping.py\u001b[0m in \u001b[0;36m_pipe_future\u001b[1;34m(self, format, renderer, formatter, quiet, engine, encoding)\u001b[0m\n\u001b[0;32m    149\u001b[0m             \u001b[1;32melse\u001b[0m\u001b[1;33m:\u001b[0m\u001b[1;33m\u001b[0m\u001b[1;33m\u001b[0m\u001b[0m\n\u001b[0;32m    150\u001b[0m                 \u001b[1;32mreturn\u001b[0m \u001b[0mraw\u001b[0m\u001b[1;33m.\u001b[0m\u001b[0mdecode\u001b[0m\u001b[1;33m(\u001b[0m\u001b[0mencoding\u001b[0m\u001b[1;33m)\u001b[0m\u001b[1;33m\u001b[0m\u001b[1;33m\u001b[0m\u001b[0m\n\u001b[1;32m--> 151\u001b[1;33m         \u001b[1;32mreturn\u001b[0m \u001b[0mself\u001b[0m\u001b[1;33m.\u001b[0m\u001b[0m_pipe_lines\u001b[0m\u001b[1;33m(\u001b[0m\u001b[1;33m*\u001b[0m\u001b[0margs\u001b[0m\u001b[1;33m,\u001b[0m \u001b[0minput_encoding\u001b[0m\u001b[1;33m=\u001b[0m\u001b[0mself\u001b[0m\u001b[1;33m.\u001b[0m\u001b[0mencoding\u001b[0m\u001b[1;33m,\u001b[0m \u001b[1;33m**\u001b[0m\u001b[0mkwargs\u001b[0m\u001b[1;33m)\u001b[0m\u001b[1;33m\u001b[0m\u001b[1;33m\u001b[0m\u001b[0m\n\u001b[0m",
      "\u001b[1;32m~\\anaconda3\\lib\\site-packages\\graphviz\\backend\\piping.py\u001b[0m in \u001b[0;36mpipe_lines\u001b[1;34m(engine, format, input_lines, input_encoding, renderer, formatter, quiet)\u001b[0m\n\u001b[0;32m    147\u001b[0m     \u001b[0mkwargs\u001b[0m \u001b[1;33m=\u001b[0m \u001b[1;33m{\u001b[0m\u001b[1;34m'input_lines'\u001b[0m\u001b[1;33m:\u001b[0m \u001b[1;33m(\u001b[0m\u001b[0mline\u001b[0m\u001b[1;33m.\u001b[0m\u001b[0mencode\u001b[0m\u001b[1;33m(\u001b[0m\u001b[0minput_encoding\u001b[0m\u001b[1;33m)\u001b[0m \u001b[1;32mfor\u001b[0m \u001b[0mline\u001b[0m \u001b[1;32min\u001b[0m \u001b[0minput_lines\u001b[0m\u001b[1;33m)\u001b[0m\u001b[1;33m}\u001b[0m\u001b[1;33m\u001b[0m\u001b[1;33m\u001b[0m\u001b[0m\n\u001b[0;32m    148\u001b[0m \u001b[1;33m\u001b[0m\u001b[0m\n\u001b[1;32m--> 149\u001b[1;33m     \u001b[0mproc\u001b[0m \u001b[1;33m=\u001b[0m \u001b[0mexecute\u001b[0m\u001b[1;33m.\u001b[0m\u001b[0mrun_check\u001b[0m\u001b[1;33m(\u001b[0m\u001b[0mcmd\u001b[0m\u001b[1;33m,\u001b[0m \u001b[0mcapture_output\u001b[0m\u001b[1;33m=\u001b[0m\u001b[1;32mTrue\u001b[0m\u001b[1;33m,\u001b[0m \u001b[0mquiet\u001b[0m\u001b[1;33m=\u001b[0m\u001b[0mquiet\u001b[0m\u001b[1;33m,\u001b[0m \u001b[1;33m**\u001b[0m\u001b[0mkwargs\u001b[0m\u001b[1;33m)\u001b[0m\u001b[1;33m\u001b[0m\u001b[1;33m\u001b[0m\u001b[0m\n\u001b[0m\u001b[0;32m    150\u001b[0m     \u001b[1;32mreturn\u001b[0m \u001b[0mproc\u001b[0m\u001b[1;33m.\u001b[0m\u001b[0mstdout\u001b[0m\u001b[1;33m\u001b[0m\u001b[1;33m\u001b[0m\u001b[0m\n\u001b[0;32m    151\u001b[0m \u001b[1;33m\u001b[0m\u001b[0m\n",
      "\u001b[1;32m~\\anaconda3\\lib\\site-packages\\graphviz\\backend\\execute.py\u001b[0m in \u001b[0;36mrun_check\u001b[1;34m(cmd, input_lines, encoding, capture_output, quiet, **kwargs)\u001b[0m\n\u001b[0;32m     86\u001b[0m     \u001b[1;32mexcept\u001b[0m \u001b[0mOSError\u001b[0m \u001b[1;32mas\u001b[0m \u001b[0me\u001b[0m\u001b[1;33m:\u001b[0m\u001b[1;33m\u001b[0m\u001b[1;33m\u001b[0m\u001b[0m\n\u001b[0;32m     87\u001b[0m         \u001b[1;32mif\u001b[0m \u001b[0me\u001b[0m\u001b[1;33m.\u001b[0m\u001b[0merrno\u001b[0m \u001b[1;33m==\u001b[0m \u001b[0merrno\u001b[0m\u001b[1;33m.\u001b[0m\u001b[0mENOENT\u001b[0m\u001b[1;33m:\u001b[0m\u001b[1;33m\u001b[0m\u001b[1;33m\u001b[0m\u001b[0m\n\u001b[1;32m---> 88\u001b[1;33m             \u001b[1;32mraise\u001b[0m \u001b[0mExecutableNotFound\u001b[0m\u001b[1;33m(\u001b[0m\u001b[0mcmd\u001b[0m\u001b[1;33m)\u001b[0m \u001b[1;32mfrom\u001b[0m \u001b[0me\u001b[0m\u001b[1;33m\u001b[0m\u001b[1;33m\u001b[0m\u001b[0m\n\u001b[0m\u001b[0;32m     89\u001b[0m         \u001b[1;32mraise\u001b[0m\u001b[1;33m\u001b[0m\u001b[1;33m\u001b[0m\u001b[0m\n\u001b[0;32m     90\u001b[0m \u001b[1;33m\u001b[0m\u001b[0m\n",
      "\u001b[1;31mExecutableNotFound\u001b[0m: failed to execute 'dot', make sure the Graphviz executables are on your systems' PATH"
     ]
    },
    {
     "data": {
      "image/png": "[encoded data removed]",
      "text/plain": [
       "<Figure size 432x288 with 1 Axes>"
      ]
     },
     "metadata": {
      "needs_background": "light"
     },
     "output_type": "display_data"
    }
   ],
   "source": [
    "import graphviz\n",
    "mod_xgb = xgb.XGBClassifier(objective = 'binary:logistic').fit(X_train, y_train)\n",
    "xgb.plot_tree(mod_xgb)"
   ]
  },
  {
   "cell_type": "code",
   "execution_count": null,
   "metadata": {},
   "outputs": [],
   "source": []
  }
 ],
 "metadata": {
  "kernelspec": {
   "display_name": "Python 3",
   "language": "python",
   "name": "python3"
  },
  "language_info": {
   "codemirror_mode": {
    "name": "ipython",
    "version": 3
   },
   "file_extension": ".py",
   "mimetype": "text/x-python",
   "name": "python",
   "nbconvert_exporter": "python",
   "pygments_lexer": "ipython3",
   "version": "3.7.6"
  }
 },
 "nbformat": 4,
 "nbformat_minor": 4
}
