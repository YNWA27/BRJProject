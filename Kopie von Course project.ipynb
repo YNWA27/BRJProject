{
 "cells": [
  {
   "cell_type": "code",
   "execution_count": 1,
   "metadata": {
    "executionInfo": {
     "elapsed": 329,
     "status": "ok",
     "timestamp": 1637943395895,
     "user": {
      "displayName": "Benjamin Barth",
      "photoUrl": "https://lh3.googleusercontent.com/a/default-user=s64",
      "userId": "07978908647453231838"
     },
     "user_tz": -60
    },
    "id": "KpKhLzmvsufC"
   },
   "outputs": [],
   "source": [
    "import pandas as pd\n",
    "from sklearn.model_selection import train_test_split\n",
    "import seaborn as sns\n",
    "import matplotlib.pyplot as plt\n",
    "import numpy as np"
   ]
  },
  {
   "cell_type": "code",
   "execution_count": 2,
   "metadata": {
    "colab": {
     "base_uri": "https://localhost:8080/",
     "height": 413
    },
    "executionInfo": {
     "elapsed": 398,
     "status": "error",
     "timestamp": 1637943481796,
     "user": {
      "displayName": "Benjamin Barth",
      "photoUrl": "https://lh3.googleusercontent.com/a/default-user=s64",
      "userId": "07978908647453231838"
     },
     "user_tz": -60
    },
    "id": "F9LLHFX78q1q",
    "outputId": "424adc8d-86d0-4f08-f831-14ebd59b70fa"
   },
   "outputs": [
    {
     "name": "stdout",
     "output_type": "stream",
     "text": [
      "<class 'pandas.core.frame.DataFrame'>\n",
      "RangeIndex: 116902 entries, 0 to 116901\n",
      "Columns: 791 entries, example_id to uncomplicated\n",
      "dtypes: float64(787), int64(4)\n",
      "memory usage: 705.5 MB\n"
     ]
    }
   ],
   "source": [
    "features = pd.read_csv('all_uti_features.csv')\n",
    "features.info()"
   ]
  },
  {
   "cell_type": "code",
   "execution_count": 3,
   "metadata": {
    "executionInfo": {
     "elapsed": 11,
     "status": "aborted",
     "timestamp": 1637943478351,
     "user": {
      "displayName": "Benjamin Barth",
      "photoUrl": "https://lh3.googleusercontent.com/a/default-user=s64",
      "userId": "07978908647453231838"
     },
     "user_tz": -60
    },
    "id": "pd2UFaT0_nOI"
   },
   "outputs": [
    {
     "data": {
      "text/html": [
       "<div>\n",
       "<style scoped>\n",
       "    .dataframe tbody tr th:only-of-type {\n",
       "        vertical-align: middle;\n",
       "    }\n",
       "\n",
       "    .dataframe tbody tr th {\n",
       "        vertical-align: top;\n",
       "    }\n",
       "\n",
       "    .dataframe thead th {\n",
       "        text-align: right;\n",
       "    }\n",
       "</style>\n",
       "<table border=\"1\" class=\"dataframe\">\n",
       "  <thead>\n",
       "    <tr style=\"text-align: right;\">\n",
       "      <th></th>\n",
       "      <th>example_id</th>\n",
       "      <th>demographics - age</th>\n",
       "      <th>demographics - is_white</th>\n",
       "      <th>demographics - is_veteran</th>\n",
       "      <th>micro - prev resistance LVX 14</th>\n",
       "      <th>micro - prev resistance AMP 14</th>\n",
       "      <th>micro - prev resistance CFZ 14</th>\n",
       "      <th>micro - prev resistance NIT 14</th>\n",
       "      <th>micro - prev resistance GEN 14</th>\n",
       "      <th>micro - prev resistance SXT 14</th>\n",
       "      <th>...</th>\n",
       "      <th>selected micro - colonization pressure NIT 90 - overall</th>\n",
       "      <th>selected micro - colonization pressure OXA 90 - overall</th>\n",
       "      <th>selected micro - colonization pressure PEN 90 - overall</th>\n",
       "      <th>selected micro - colonization pressure SAM 90 - overall</th>\n",
       "      <th>selected micro - colonization pressure SXT 90 - overall</th>\n",
       "      <th>selected micro - colonization pressure TET 90 - overall</th>\n",
       "      <th>selected micro - colonization pressure TZP 90 - overall</th>\n",
       "      <th>selected micro - colonization pressure VAN 90 - overall</th>\n",
       "      <th>is_train</th>\n",
       "      <th>uncomplicated</th>\n",
       "    </tr>\n",
       "  </thead>\n",
       "  <tbody>\n",
       "    <tr>\n",
       "      <th>0</th>\n",
       "      <td>0</td>\n",
       "      <td>54</td>\n",
       "      <td>1.0</td>\n",
       "      <td>0.0</td>\n",
       "      <td>0.0</td>\n",
       "      <td>0.0</td>\n",
       "      <td>0.0</td>\n",
       "      <td>0.0</td>\n",
       "      <td>0.0</td>\n",
       "      <td>0.0</td>\n",
       "      <td>...</td>\n",
       "      <td>0.24</td>\n",
       "      <td>0.56</td>\n",
       "      <td>0.49</td>\n",
       "      <td>0.38</td>\n",
       "      <td>0.26</td>\n",
       "      <td>0.37</td>\n",
       "      <td>0.06</td>\n",
       "      <td>0.13</td>\n",
       "      <td>0</td>\n",
       "      <td>0</td>\n",
       "    </tr>\n",
       "    <tr>\n",
       "      <th>1</th>\n",
       "      <td>1</td>\n",
       "      <td>27</td>\n",
       "      <td>0.0</td>\n",
       "      <td>0.0</td>\n",
       "      <td>0.0</td>\n",
       "      <td>0.0</td>\n",
       "      <td>0.0</td>\n",
       "      <td>0.0</td>\n",
       "      <td>0.0</td>\n",
       "      <td>0.0</td>\n",
       "      <td>...</td>\n",
       "      <td>0.19</td>\n",
       "      <td>0.78</td>\n",
       "      <td>0.83</td>\n",
       "      <td>0.33</td>\n",
       "      <td>0.20</td>\n",
       "      <td>0.35</td>\n",
       "      <td>0.18</td>\n",
       "      <td>0.13</td>\n",
       "      <td>1</td>\n",
       "      <td>0</td>\n",
       "    </tr>\n",
       "    <tr>\n",
       "      <th>2</th>\n",
       "      <td>2</td>\n",
       "      <td>89</td>\n",
       "      <td>1.0</td>\n",
       "      <td>0.0</td>\n",
       "      <td>0.0</td>\n",
       "      <td>0.0</td>\n",
       "      <td>0.0</td>\n",
       "      <td>0.0</td>\n",
       "      <td>0.0</td>\n",
       "      <td>0.0</td>\n",
       "      <td>...</td>\n",
       "      <td>0.21</td>\n",
       "      <td>0.66</td>\n",
       "      <td>0.51</td>\n",
       "      <td>0.50</td>\n",
       "      <td>0.25</td>\n",
       "      <td>0.37</td>\n",
       "      <td>0.05</td>\n",
       "      <td>0.12</td>\n",
       "      <td>1</td>\n",
       "      <td>0</td>\n",
       "    </tr>\n",
       "    <tr>\n",
       "      <th>3</th>\n",
       "      <td>3</td>\n",
       "      <td>49</td>\n",
       "      <td>1.0</td>\n",
       "      <td>0.0</td>\n",
       "      <td>0.0</td>\n",
       "      <td>0.0</td>\n",
       "      <td>0.0</td>\n",
       "      <td>0.0</td>\n",
       "      <td>0.0</td>\n",
       "      <td>0.0</td>\n",
       "      <td>...</td>\n",
       "      <td>0.23</td>\n",
       "      <td>0.47</td>\n",
       "      <td>0.50</td>\n",
       "      <td>0.25</td>\n",
       "      <td>0.26</td>\n",
       "      <td>0.35</td>\n",
       "      <td>0.06</td>\n",
       "      <td>0.12</td>\n",
       "      <td>1</td>\n",
       "      <td>0</td>\n",
       "    </tr>\n",
       "    <tr>\n",
       "      <th>4</th>\n",
       "      <td>4</td>\n",
       "      <td>21</td>\n",
       "      <td>1.0</td>\n",
       "      <td>0.0</td>\n",
       "      <td>0.0</td>\n",
       "      <td>0.0</td>\n",
       "      <td>0.0</td>\n",
       "      <td>0.0</td>\n",
       "      <td>0.0</td>\n",
       "      <td>0.0</td>\n",
       "      <td>...</td>\n",
       "      <td>0.24</td>\n",
       "      <td>0.50</td>\n",
       "      <td>0.49</td>\n",
       "      <td>0.33</td>\n",
       "      <td>0.25</td>\n",
       "      <td>0.37</td>\n",
       "      <td>0.05</td>\n",
       "      <td>0.10</td>\n",
       "      <td>1</td>\n",
       "      <td>1</td>\n",
       "    </tr>\n",
       "  </tbody>\n",
       "</table>\n",
       "<p>5 rows × 791 columns</p>\n",
       "</div>"
      ],
      "text/plain": [
       "   example_id  demographics - age  demographics - is_white  \\\n",
       "0           0                  54                      1.0   \n",
       "1           1                  27                      0.0   \n",
       "2           2                  89                      1.0   \n",
       "3           3                  49                      1.0   \n",
       "4           4                  21                      1.0   \n",
       "\n",
       "   demographics - is_veteran  micro - prev resistance LVX 14  \\\n",
       "0                        0.0                             0.0   \n",
       "1                        0.0                             0.0   \n",
       "2                        0.0                             0.0   \n",
       "3                        0.0                             0.0   \n",
       "4                        0.0                             0.0   \n",
       "\n",
       "   micro - prev resistance AMP 14  micro - prev resistance CFZ 14  \\\n",
       "0                             0.0                             0.0   \n",
       "1                             0.0                             0.0   \n",
       "2                             0.0                             0.0   \n",
       "3                             0.0                             0.0   \n",
       "4                             0.0                             0.0   \n",
       "\n",
       "   micro - prev resistance NIT 14  micro - prev resistance GEN 14  \\\n",
       "0                             0.0                             0.0   \n",
       "1                             0.0                             0.0   \n",
       "2                             0.0                             0.0   \n",
       "3                             0.0                             0.0   \n",
       "4                             0.0                             0.0   \n",
       "\n",
       "   micro - prev resistance SXT 14  ...  \\\n",
       "0                             0.0  ...   \n",
       "1                             0.0  ...   \n",
       "2                             0.0  ...   \n",
       "3                             0.0  ...   \n",
       "4                             0.0  ...   \n",
       "\n",
       "   selected micro - colonization pressure NIT 90 - overall  \\\n",
       "0                                               0.24         \n",
       "1                                               0.19         \n",
       "2                                               0.21         \n",
       "3                                               0.23         \n",
       "4                                               0.24         \n",
       "\n",
       "   selected micro - colonization pressure OXA 90 - overall  \\\n",
       "0                                               0.56         \n",
       "1                                               0.78         \n",
       "2                                               0.66         \n",
       "3                                               0.47         \n",
       "4                                               0.50         \n",
       "\n",
       "   selected micro - colonization pressure PEN 90 - overall  \\\n",
       "0                                               0.49         \n",
       "1                                               0.83         \n",
       "2                                               0.51         \n",
       "3                                               0.50         \n",
       "4                                               0.49         \n",
       "\n",
       "   selected micro - colonization pressure SAM 90 - overall  \\\n",
       "0                                               0.38         \n",
       "1                                               0.33         \n",
       "2                                               0.50         \n",
       "3                                               0.25         \n",
       "4                                               0.33         \n",
       "\n",
       "   selected micro - colonization pressure SXT 90 - overall  \\\n",
       "0                                               0.26         \n",
       "1                                               0.20         \n",
       "2                                               0.25         \n",
       "3                                               0.26         \n",
       "4                                               0.25         \n",
       "\n",
       "   selected micro - colonization pressure TET 90 - overall  \\\n",
       "0                                               0.37         \n",
       "1                                               0.35         \n",
       "2                                               0.37         \n",
       "3                                               0.35         \n",
       "4                                               0.37         \n",
       "\n",
       "   selected micro - colonization pressure TZP 90 - overall  \\\n",
       "0                                               0.06         \n",
       "1                                               0.18         \n",
       "2                                               0.05         \n",
       "3                                               0.06         \n",
       "4                                               0.05         \n",
       "\n",
       "   selected micro - colonization pressure VAN 90 - overall  is_train  \\\n",
       "0                                               0.13               0   \n",
       "1                                               0.13               1   \n",
       "2                                               0.12               1   \n",
       "3                                               0.12               1   \n",
       "4                                               0.10               1   \n",
       "\n",
       "   uncomplicated  \n",
       "0              0  \n",
       "1              0  \n",
       "2              0  \n",
       "3              0  \n",
       "4              1  \n",
       "\n",
       "[5 rows x 791 columns]"
      ]
     },
     "execution_count": 3,
     "metadata": {},
     "output_type": "execute_result"
    }
   ],
   "source": [
    "features.head()"
   ]
  },
  {
   "cell_type": "code",
   "execution_count": 4,
   "metadata": {
    "executionInfo": {
     "elapsed": 11,
     "status": "aborted",
     "timestamp": 1637943478352,
     "user": {
      "displayName": "Benjamin Barth",
      "photoUrl": "https://lh3.googleusercontent.com/a/default-user=s64",
      "userId": "07978908647453231838"
     },
     "user_tz": -60
    },
    "id": "Ary4DEGO_qou"
   },
   "outputs": [
    {
     "data": {
      "text/html": [
       "<div>\n",
       "<style scoped>\n",
       "    .dataframe tbody tr th:only-of-type {\n",
       "        vertical-align: middle;\n",
       "    }\n",
       "\n",
       "    .dataframe tbody tr th {\n",
       "        vertical-align: top;\n",
       "    }\n",
       "\n",
       "    .dataframe thead th {\n",
       "        text-align: right;\n",
       "    }\n",
       "</style>\n",
       "<table border=\"1\" class=\"dataframe\">\n",
       "  <thead>\n",
       "    <tr style=\"text-align: right;\">\n",
       "      <th></th>\n",
       "      <th>example_id</th>\n",
       "      <th>prescription</th>\n",
       "      <th>is_train</th>\n",
       "    </tr>\n",
       "  </thead>\n",
       "  <tbody>\n",
       "    <tr>\n",
       "      <th>0</th>\n",
       "      <td>4</td>\n",
       "      <td>CIP</td>\n",
       "      <td>1</td>\n",
       "    </tr>\n",
       "    <tr>\n",
       "      <th>1</th>\n",
       "      <td>31</td>\n",
       "      <td>NIT</td>\n",
       "      <td>0</td>\n",
       "    </tr>\n",
       "    <tr>\n",
       "      <th>2</th>\n",
       "      <td>34</td>\n",
       "      <td>SXT</td>\n",
       "      <td>1</td>\n",
       "    </tr>\n",
       "    <tr>\n",
       "      <th>3</th>\n",
       "      <td>36</td>\n",
       "      <td>NIT</td>\n",
       "      <td>0</td>\n",
       "    </tr>\n",
       "    <tr>\n",
       "      <th>4</th>\n",
       "      <td>48</td>\n",
       "      <td>LVX</td>\n",
       "      <td>1</td>\n",
       "    </tr>\n",
       "  </tbody>\n",
       "</table>\n",
       "</div>"
      ],
      "text/plain": [
       "   example_id prescription  is_train\n",
       "0           4          CIP         1\n",
       "1          31          NIT         0\n",
       "2          34          SXT         1\n",
       "3          36          NIT         0\n",
       "4          48          LVX         1"
      ]
     },
     "execution_count": 4,
     "metadata": {},
     "output_type": "execute_result"
    }
   ],
   "source": [
    "prescrip = pd.read_csv('all_prescriptions.csv')\n",
    "prescrip.head()"
   ]
  },
  {
   "cell_type": "code",
   "execution_count": 5,
   "metadata": {
    "executionInfo": {
     "elapsed": 12,
     "status": "aborted",
     "timestamp": 1637943478353,
     "user": {
      "displayName": "Benjamin Barth",
      "photoUrl": "https://lh3.googleusercontent.com/a/default-user=s64",
      "userId": "07978908647453231838"
     },
     "user_tz": -60
    },
    "id": "Jsq7qkyCdybU"
   },
   "outputs": [
    {
     "name": "stdout",
     "output_type": "stream",
     "text": [
      "<class 'pandas.core.frame.DataFrame'>\n",
      "RangeIndex: 15806 entries, 0 to 15805\n",
      "Data columns (total 3 columns):\n",
      " #   Column        Non-Null Count  Dtype \n",
      "---  ------        --------------  ----- \n",
      " 0   example_id    15806 non-null  int64 \n",
      " 1   prescription  15806 non-null  object\n",
      " 2   is_train      15806 non-null  int64 \n",
      "dtypes: int64(2), object(1)\n",
      "memory usage: 370.6+ KB\n"
     ]
    }
   ],
   "source": [
    "prescrip.info()"
   ]
  },
  {
   "cell_type": "code",
   "execution_count": 6,
   "metadata": {
    "executionInfo": {
     "elapsed": 13,
     "status": "aborted",
     "timestamp": 1637943478354,
     "user": {
      "displayName": "Benjamin Barth",
      "photoUrl": "https://lh3.googleusercontent.com/a/default-user=s64",
      "userId": "07978908647453231838"
     },
     "user_tz": -60
    },
    "id": "n0UQeeTXAC7J"
   },
   "outputs": [
    {
     "data": {
      "text/html": [
       "<div>\n",
       "<style scoped>\n",
       "    .dataframe tbody tr th:only-of-type {\n",
       "        vertical-align: middle;\n",
       "    }\n",
       "\n",
       "    .dataframe tbody tr th {\n",
       "        vertical-align: top;\n",
       "    }\n",
       "\n",
       "    .dataframe thead th {\n",
       "        text-align: right;\n",
       "    }\n",
       "</style>\n",
       "<table border=\"1\" class=\"dataframe\">\n",
       "  <thead>\n",
       "    <tr style=\"text-align: right;\">\n",
       "      <th></th>\n",
       "      <th>example_id</th>\n",
       "      <th>NIT</th>\n",
       "      <th>SXT</th>\n",
       "      <th>CIP</th>\n",
       "      <th>LVX</th>\n",
       "      <th>is_train</th>\n",
       "      <th>uncomplicated</th>\n",
       "    </tr>\n",
       "  </thead>\n",
       "  <tbody>\n",
       "    <tr>\n",
       "      <th>0</th>\n",
       "      <td>0</td>\n",
       "      <td>0.0</td>\n",
       "      <td>0.0</td>\n",
       "      <td>0.0</td>\n",
       "      <td>0.0</td>\n",
       "      <td>0</td>\n",
       "      <td>0</td>\n",
       "    </tr>\n",
       "    <tr>\n",
       "      <th>1</th>\n",
       "      <td>1</td>\n",
       "      <td>0.0</td>\n",
       "      <td>0.0</td>\n",
       "      <td>0.0</td>\n",
       "      <td>0.0</td>\n",
       "      <td>1</td>\n",
       "      <td>0</td>\n",
       "    </tr>\n",
       "    <tr>\n",
       "      <th>2</th>\n",
       "      <td>2</td>\n",
       "      <td>0.0</td>\n",
       "      <td>0.0</td>\n",
       "      <td>1.0</td>\n",
       "      <td>1.0</td>\n",
       "      <td>1</td>\n",
       "      <td>0</td>\n",
       "    </tr>\n",
       "    <tr>\n",
       "      <th>3</th>\n",
       "      <td>3</td>\n",
       "      <td>0.0</td>\n",
       "      <td>0.0</td>\n",
       "      <td>0.0</td>\n",
       "      <td>0.0</td>\n",
       "      <td>1</td>\n",
       "      <td>0</td>\n",
       "    </tr>\n",
       "    <tr>\n",
       "      <th>4</th>\n",
       "      <td>4</td>\n",
       "      <td>0.0</td>\n",
       "      <td>0.0</td>\n",
       "      <td>0.0</td>\n",
       "      <td>0.0</td>\n",
       "      <td>1</td>\n",
       "      <td>1</td>\n",
       "    </tr>\n",
       "  </tbody>\n",
       "</table>\n",
       "</div>"
      ],
      "text/plain": [
       "   example_id  NIT  SXT  CIP  LVX  is_train  uncomplicated\n",
       "0           0  0.0  0.0  0.0  0.0         0              0\n",
       "1           1  0.0  0.0  0.0  0.0         1              0\n",
       "2           2  0.0  0.0  1.0  1.0         1              0\n",
       "3           3  0.0  0.0  0.0  0.0         1              0\n",
       "4           4  0.0  0.0  0.0  0.0         1              1"
      ]
     },
     "execution_count": 6,
     "metadata": {},
     "output_type": "execute_result"
    }
   ],
   "source": [
    "resistance = pd.read_csv('all_uti_resist_labels.csv')\n",
    "resistance.head()"
   ]
  },
  {
   "cell_type": "code",
   "execution_count": 7,
   "metadata": {
    "colab": {
     "base_uri": "https://localhost:8080/"
    },
    "executionInfo": {
     "elapsed": 225,
     "status": "ok",
     "timestamp": 1637772605318,
     "user": {
      "displayName": "Ellen Stadler",
      "photoUrl": "https://lh3.googleusercontent.com/a/default-user=s64",
      "userId": "05082274774762159000"
     },
     "user_tz": -60
    },
    "id": "9EM5qsT1eYsh",
    "outputId": "e34560ee-17fb-4c94-dc00-38f5ee655303"
   },
   "outputs": [
    {
     "name": "stdout",
     "output_type": "stream",
     "text": [
      "<class 'pandas.core.frame.DataFrame'>\n",
      "RangeIndex: 116902 entries, 0 to 116901\n",
      "Data columns (total 7 columns):\n",
      " #   Column         Non-Null Count   Dtype  \n",
      "---  ------         --------------   -----  \n",
      " 0   example_id     116902 non-null  int64  \n",
      " 1   NIT            111859 non-null  float64\n",
      " 2   SXT            103654 non-null  float64\n",
      " 3   CIP            110761 non-null  float64\n",
      " 4   LVX            115925 non-null  float64\n",
      " 5   is_train       116902 non-null  int64  \n",
      " 6   uncomplicated  116902 non-null  int64  \n",
      "dtypes: float64(4), int64(3)\n",
      "memory usage: 6.2 MB\n"
     ]
    }
   ],
   "source": [
    "resistance.info()"
   ]
  },
  {
   "cell_type": "code",
   "execution_count": 8,
   "metadata": {
    "colab": {
     "base_uri": "https://localhost:8080/"
    },
    "executionInfo": {
     "elapsed": 309,
     "status": "ok",
     "timestamp": 1637772613920,
     "user": {
      "displayName": "Ellen Stadler",
      "photoUrl": "https://lh3.googleusercontent.com/a/default-user=s64",
      "userId": "05082274774762159000"
     },
     "user_tz": -60
    },
    "id": "4eli9AKe_xEo",
    "outputId": "f036cf7a-a3f3-4ead-bc72-0cdb33460dfd"
   },
   "outputs": [
    {
     "name": "stdout",
     "output_type": "stream",
     "text": [
      "[3250, 6183, 436, 5937]\n"
     ]
    }
   ],
   "source": [
    "#Example_id of patients who got NIT, SXT, CIP, LVX  prescribed prescribed\n",
    "NIT = prescrip.where(prescrip.prescription == 'NIT')\n",
    "NITdata=NIT.dropna()\n",
    "lenNIT=len(NITdata)\n",
    "\n",
    "SXT = prescrip.where(prescrip.prescription == 'SXT')\n",
    "SXTdata=SXT.dropna()\n",
    "lenSXT=len(SXTdata)\n",
    "\n",
    "LVX = prescrip.where(prescrip.prescription == 'LVX')\n",
    "LVXdata=LVX.dropna()\n",
    "lenLVX = len(LVXdata)\n",
    "\n",
    "CIP = prescrip.where(prescrip.prescription == 'CIP')\n",
    "CIPdata=CIP.dropna()\n",
    "lenCIP = len(CIPdata)\n",
    "\n",
    "barprescription = [lenNIT, lenSXT, lenLVX, lenCIP]\n",
    "print(barprescription)"
   ]
  },
  {
   "cell_type": "code",
   "execution_count": 9,
   "metadata": {
    "colab": {
     "base_uri": "https://localhost:8080/",
     "height": 300
    },
    "executionInfo": {
     "elapsed": 272,
     "status": "ok",
     "timestamp": 1637774057361,
     "user": {
      "displayName": "Ellen Stadler",
      "photoUrl": "https://lh3.googleusercontent.com/a/default-user=s64",
      "userId": "05082274774762159000"
     },
     "user_tz": -60
    },
    "id": "GOBCoqxo_zse",
    "outputId": "27cc8ad2-15fd-41b4-c3de-a42460307f43"
   },
   "outputs": [
    {
     "data": {
      "image/png": "[encoded data removed]",
      "text/plain": [
       "<Figure size 432x288 with 1 Axes>"
      ]
     },
     "metadata": {
      "needs_background": "light"
     },
     "output_type": "display_data"
    }
   ],
   "source": [
    "import matplotlib.pyplot as plt\n",
    "import numpy as np\n",
    "drug=['NIT','SXT','LVX','CIP']\n",
    "pos = np.arange(len(drug))\n",
    "numberofobs = barprescription\n",
    "plt.bar(pos, numberofobs)\n",
    "plt.xticks(pos, drug)\n",
    "plt.xlabel('Prescribed drug', fontsize=12)\n",
    "plt.ylabel('Number of patients', fontsize=12)\n",
    "plt.title('Number of patients receiving each drug',fontsize=15)\n",
    "plt.show()"
   ]
  },
  {
   "cell_type": "code",
   "execution_count": 10,
   "metadata": {
    "id": "l1D72Msz__FP"
   },
   "outputs": [],
   "source": [
    "#Create vector of example_id of patients who got SXT and CIT prescribed\n",
    "exIDpreSXT = SXTdata['example_id'].dropna()\n",
    "exIDpreCIP = CIPdata['example_id'].dropna()"
   ]
  },
  {
   "cell_type": "code",
   "execution_count": 11,
   "metadata": {
    "colab": {
     "base_uri": "https://localhost:8080/"
    },
    "executionInfo": {
     "elapsed": 312,
     "status": "ok",
     "timestamp": 1637774170925,
     "user": {
      "displayName": "Ellen Stadler",
      "photoUrl": "https://lh3.googleusercontent.com/a/default-user=s64",
      "userId": "05082274774762159000"
     },
     "user_tz": -60
    },
    "id": "sLsSQ7ypADao",
    "outputId": "36cc385e-baf2-427c-e13a-9c89811989d7"
   },
   "outputs": [],
   "source": [
    "#Example_id of patients where NIT, SXT, CIP, LVX  resistance data is available\n",
    "# binary indicator of resistance (1 if resistant), if no result is available, the corresponding column is empty\n",
    "# there are binary indicator for resistance for most of the samples, only few nan values, which are filtered out in this code snipped\n",
    "NITres = resistance.dropna(subset = ['NIT'])\n",
    "lenNITres=len(NITres)\n",
    "\n",
    "#number of patients who are resistant to NIT\n",
    "NITres2 = resistance.where(resistance.LVX == 1.0)\n",
    "NITdata2=NITres2.dropna()\n",
    "lenNITres2 = len(NITdata2)\n",
    "\n",
    "SXTres = resistance.dropna(subset = ['SXT'])\n",
    "lenSXTres=len(SXTres)\n",
    "\n",
    "SXTres2 = resistance.where(resistance.SXT == 1.0)\n",
    "SXTdata2=SXTres2.dropna()\n",
    "lenSXTres2 = len(SXTdata2)\n",
    "\n",
    "LVXres = resistance.dropna(subset = ['LVX'])\n",
    "lenLVXres=len(LVXres)\n",
    "\n",
    "LVXres2 = resistance.where(resistance.LVX == 1.0)\n",
    "LVXdata2=LVXres2.dropna()\n",
    "lenLVXres2 = len(LVXdata2)\n",
    "\n",
    "CIPres = resistance.dropna(subset = ['CIP'])\n",
    "lenCIPres=len(CIPres)\n",
    "\n",
    "CIPres2 = resistance.where(resistance.CIP == 1.0)\n",
    "CIPdata2=CIPres2.dropna()\n",
    "lenCIPres2 = len(CIPdata2)\n",
    "\n",
    "drug2=['NIT','NIT2','SXT','SXT2','LVX','NIT2','NIT2','CIP']\n",
    "pos2 = np.arange(len(drug2))\n"
   ]
  },
  {
   "cell_type": "code",
   "execution_count": 12,
   "metadata": {
    "colab": {
     "base_uri": "https://localhost:8080/",
     "height": 175
    },
    "executionInfo": {
     "elapsed": 220,
     "status": "ok",
     "timestamp": 1637774381967,
     "user": {
      "displayName": "Ellen Stadler",
      "photoUrl": "https://lh3.googleusercontent.com/a/default-user=s64",
      "userId": "05082274774762159000"
     },
     "user_tz": -60
    },
    "id": "GZPFIBjf8qy7",
    "outputId": "ea782675-57fc-4c7c-8fd1-7ba71992162b"
   },
   "outputs": [
    {
     "data": {
      "text/html": [
       "<div>\n",
       "<style scoped>\n",
       "    .dataframe tbody tr th:only-of-type {\n",
       "        vertical-align: middle;\n",
       "    }\n",
       "\n",
       "    .dataframe tbody tr th {\n",
       "        vertical-align: top;\n",
       "    }\n",
       "\n",
       "    .dataframe thead th {\n",
       "        text-align: right;\n",
       "    }\n",
       "</style>\n",
       "<table border=\"1\" class=\"dataframe\">\n",
       "  <thead>\n",
       "    <tr style=\"text-align: right;\">\n",
       "      <th></th>\n",
       "      <th>Drug</th>\n",
       "      <th>Resistance data available</th>\n",
       "      <th>Patient is resistant</th>\n",
       "    </tr>\n",
       "  </thead>\n",
       "  <tbody>\n",
       "    <tr>\n",
       "      <th>0</th>\n",
       "      <td>NIT</td>\n",
       "      <td>111859</td>\n",
       "      <td>19743</td>\n",
       "    </tr>\n",
       "    <tr>\n",
       "      <th>1</th>\n",
       "      <td>SXT</td>\n",
       "      <td>103654</td>\n",
       "      <td>25005</td>\n",
       "    </tr>\n",
       "    <tr>\n",
       "      <th>2</th>\n",
       "      <td>LVX</td>\n",
       "      <td>115925</td>\n",
       "      <td>19743</td>\n",
       "    </tr>\n",
       "    <tr>\n",
       "      <th>3</th>\n",
       "      <td>CIP</td>\n",
       "      <td>110761</td>\n",
       "      <td>19783</td>\n",
       "    </tr>\n",
       "  </tbody>\n",
       "</table>\n",
       "</div>"
      ],
      "text/plain": [
       "  Drug  Resistance data available  Patient is resistant\n",
       "0  NIT                     111859                 19743\n",
       "1  SXT                     103654                 25005\n",
       "2  LVX                     115925                 19743\n",
       "3  CIP                     110761                 19783"
      ]
     },
     "execution_count": 12,
     "metadata": {},
     "output_type": "execute_result"
    }
   ],
   "source": [
    "df = pd.DataFrame({'Drug': ['NIT', 'SXT', 'LVX', 'CIP'],\n",
    "                   'Resistance data available': [lenNITres, lenSXTres, lenLVXres, lenCIPres],\n",
    "                   'Patient is resistant': [lenNITres2, lenSXTres2, lenLVXres2, lenCIPres2]})\n",
    "\n",
    "#view DataFrame\n",
    "df\n"
   ]
  },
  {
   "cell_type": "code",
   "execution_count": 13,
   "metadata": {
    "colab": {
     "base_uri": "https://localhost:8080/",
     "height": 331
    },
    "executionInfo": {
     "elapsed": 668,
     "status": "ok",
     "timestamp": 1637774602482,
     "user": {
      "displayName": "Ellen Stadler",
      "photoUrl": "https://lh3.googleusercontent.com/a/default-user=s64",
      "userId": "05082274774762159000"
     },
     "user_tz": -60
    },
    "id": "r8wWFT1R9MXb",
    "outputId": "095807b7-2d78-4cf2-87fc-b4fb2cddb733"
   },
   "outputs": [
    {
     "data": {
      "text/plain": [
       "Text(0.5, 1.0, 'Resistance data availability')"
      ]
     },
     "execution_count": 13,
     "metadata": {},
     "output_type": "execute_result"
    },
    {
     "data": {
      "image/png": "[encoded data removed]",
      "text/plain": [
       "<Figure size 432x288 with 1 Axes>"
      ]
     },
     "metadata": {},
     "output_type": "display_data"
    }
   ],
   "source": [
    "import matplotlib.pyplot as plt\n",
    "import seaborn as sns\n",
    "sns.set(style='white')\n",
    "df.set_index('Drug').plot(kind='bar', stacked=True, color=['steelblue', 'red'])\n",
    "plt.xlabel('Prescribed drug', fontsize=12)\n",
    "plt.ylabel('Number of patients', fontsize=12)\n",
    "plt.title('Resistance data availability',fontsize=15)"
   ]
  },
  {
   "cell_type": "code",
   "execution_count": 14,
   "metadata": {
    "id": "sFq8AI_TAOGL"
   },
   "outputs": [],
   "source": [
    "#Create vector of example_id of patients where data for resistance on SXT and CIP is available\n",
    "reIDpreSXT = SXTres['example_id'].dropna()\n",
    "reIDpreCIP = CIPres['example_id'].dropna()"
   ]
  },
  {
   "cell_type": "code",
   "execution_count": 15,
   "metadata": {
    "colab": {
     "base_uri": "https://localhost:8080/"
    },
    "executionInfo": {
     "elapsed": 254,
     "status": "ok",
     "timestamp": 1637520372856,
     "user": {
      "displayName": "Ellen Stadler",
      "photoUrl": "https://lh3.googleusercontent.com/a/default-user=s64",
      "userId": "05082274774762159000"
     },
     "user_tz": -60
    },
    "id": "e20c9i37AKUh",
    "outputId": "c0a49936-b7f4-4865-f6fd-bf44db90ac56"
   },
   "outputs": [
    {
     "name": "stdout",
     "output_type": "stream",
     "text": [
      "[6183, 5937]\n"
     ]
    }
   ],
   "source": [
    "#ID_NIT are ID of all patients who received NIT and resistance value on NIT is available\n",
    "ID_SXT = exIDpreSXT[exIDpreSXT.isin(reIDpreSXT)]\n",
    "ID_CIT = exIDpreCIP[exIDpreCIP.isin(reIDpreCIP)]\n",
    "numberofobs3 = [len(ID_SXT), len(ID_CIT)]\n",
    "print(numberofobs3)"
   ]
  },
  {
   "cell_type": "code",
   "execution_count": 16,
   "metadata": {
    "colab": {
     "base_uri": "https://localhost:8080/"
    },
    "executionInfo": {
     "elapsed": 325,
     "status": "ok",
     "timestamp": 1637439492236,
     "user": {
      "displayName": "Ellen Stadler",
      "photoUrl": "https://lh3.googleusercontent.com/a/default-user=s64",
      "userId": "05082274774762159000"
     },
     "user_tz": -60
    },
    "id": "uEHaWFPkAStP",
    "outputId": "84d6eda2-a3a7-4db1-b9ff-943daf244ff5"
   },
   "outputs": [
    {
     "name": "stdout",
     "output_type": "stream",
     "text": [
      "10864 81363 10090 1516\n"
     ]
    }
   ],
   "source": [
    "#ID_NIT are ID of all patients who received NIT and resistance value on NIT is available\n",
    "CVC = features['procedure 180 - had cvc'].where(features['procedure 180 - had cvc'] == 1).dropna()\n",
    "surgery = features['procedure 180 - had surgery'].where(features['procedure 180 - had surgery'] == 1).dropna()\n",
    "ventilation = features['procedure 180 - had mechanical ventilation'].where(features['procedure 180 - had mechanical ventilation'] == 1).dropna()\n",
    "hemodia = features['procedure 180 - had hemodialysis'].where(features['procedure 180 - had hemodialysis']==1).dropna()\n",
    "parentnutrition =  features['procedure 180 - had parenteral nutrition'].where(features['procedure 180 - had parenteral nutrition']==1).dropna()\n",
    "lenCVC=len(CVC)\n",
    "lensurg = len(surgery)\n",
    "lenvent = len(ventilation)\n",
    "lenhemodia=len(hemodia)\n",
    "lennutri = len(parentnutrition)\n",
    "print(lenCVC, lensurg, lenvent, lenhemodia)\n"
   ]
  },
  {
   "cell_type": "code",
   "execution_count": 17,
   "metadata": {
    "colab": {
     "base_uri": "https://localhost:8080/"
    },
    "executionInfo": {
     "elapsed": 254,
     "status": "ok",
     "timestamp": 1637137609432,
     "user": {
      "displayName": "Ellen Stadler",
      "photoUrl": "https://lh3.googleusercontent.com/a/default-user=s64",
      "userId": "05082274774762159000"
     },
     "user_tz": -60
    },
    "id": "F-M1mk8zAVkU",
    "outputId": "f19e2eee-3c80-421b-8fe5-a6e1a5ba27cb"
   },
   "outputs": [
    {
     "ename": "NameError",
     "evalue": "name 'reIDpre' is not defined",
     "output_type": "error",
     "traceback": [
      "\u001b[1;31m---------------------------------------------------------------------------\u001b[0m",
      "\u001b[1;31mNameError\u001b[0m                                 Traceback (most recent call last)",
      "\u001b[1;32m<ipython-input-17-be499ee5265f>\u001b[0m in \u001b[0;36m<module>\u001b[1;34m\u001b[0m\n\u001b[1;32m----> 1\u001b[1;33m \u001b[0mCVCdata\u001b[0m \u001b[1;33m=\u001b[0m \u001b[0mCVC\u001b[0m\u001b[1;33m[\u001b[0m\u001b[0mCVC\u001b[0m\u001b[1;33m.\u001b[0m\u001b[0misin\u001b[0m\u001b[1;33m(\u001b[0m\u001b[0mreIDpre\u001b[0m\u001b[1;33m)\u001b[0m\u001b[1;33m]\u001b[0m\u001b[1;33m\u001b[0m\u001b[1;33m\u001b[0m\u001b[0m\n\u001b[0m\u001b[0;32m      2\u001b[0m \u001b[0mprint\u001b[0m\u001b[1;33m(\u001b[0m\u001b[0mCVCdata\u001b[0m\u001b[1;33m)\u001b[0m\u001b[1;33m\u001b[0m\u001b[1;33m\u001b[0m\u001b[0m\n",
      "\u001b[1;31mNameError\u001b[0m: name 'reIDpre' is not defined"
     ]
    }
   ],
   "source": [
    "CVCdata = CVC[CVC.isin(reIDpre)]\n",
    "print(CVCdata)"
   ]
  },
  {
   "cell_type": "code",
   "execution_count": null,
   "metadata": {
    "id": "b_hVHuiMAXAB"
   },
   "outputs": [],
   "source": []
  }
 ],
 "metadata": {
  "colab": {
   "name": "Kopie von Course project.ipynb",
   "provenance": [
    {
     "file_id": "1Jzdd88P5_62ywo0RZpsqW7duRxS6rDzn",
     "timestamp": 1637943254370
    }
   ]
  },
  "kernelspec": {
   "display_name": "Python 3",
   "language": "python",
   "name": "python3"
  },
  "language_info": {
   "codemirror_mode": {
    "name": "ipython",
    "version": 3
   },
   "file_extension": ".py",
   "mimetype": "text/x-python",
   "name": "python",
   "nbconvert_exporter": "python",
   "pygments_lexer": "ipython3",
   "version": "3.7.6"
  }
 },
 "nbformat": 4,
 "nbformat_minor": 1
}
