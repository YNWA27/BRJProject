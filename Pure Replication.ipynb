{
 "cells": [
  {
   "cell_type": "markdown",
   "metadata": {},
   "source": [
    "## Disclaimer\n",
    "This notebook is intended to be a pure replication of the author's results because I noticed that we achieve significantly better results for any method I use. Therefore, I'm looking into why that is happening. Does it have sth. to do with the is_train indicator they used (which is time-based)? Or did they leave out some of the features?"
   ]
  },
  {
   "cell_type": "code",
   "execution_count": 17,
   "metadata": {},
   "outputs": [],
   "source": [
    "import pandas as pd\n",
    "from sklearn.model_selection import train_test_split\n",
    "import seaborn as sns\n",
    "import matplotlib.pyplot as plt\n",
    "import numpy as np\n",
    "import copy"
   ]
  },
  {
   "cell_type": "code",
   "execution_count": 18,
   "metadata": {},
   "outputs": [],
   "source": [
    "features = pd.read_csv('all_uti_features.csv', index_col = 'example_id')\n",
    "prescrip = pd.read_csv('all_prescriptions.csv', index_col = 'example_id')\n",
    "resistance = pd.read_csv('all_uti_resist_labels.csv', index_col = 'example_id')"
   ]
  },
  {
   "cell_type": "code",
   "execution_count": 19,
   "metadata": {},
   "outputs": [],
   "source": [
    "cip_df = resistance[resistance['uncomplicated'] == 1][['CIP']].join(features)\n",
    "cip_df.drop('uncomplicated', axis = 1, inplace = True)"
   ]
  },
  {
   "cell_type": "code",
   "execution_count": 20,
   "metadata": {},
   "outputs": [],
   "source": [
    "cip_train = copy.copy(cip_df[cip_df['is_train'] == 1])\n",
    "cip_test = copy.copy(cip_df[cip_df['is_train'] == 0])\n",
    "cip_train.drop('is_train', axis = 1, inplace = True)\n",
    "cip_test.drop('is_train', axis = 1, inplace = True)"
   ]
  },
  {
   "cell_type": "code",
   "execution_count": 21,
   "metadata": {},
   "outputs": [],
   "source": [
    "X_train = copy.copy(cip_train.drop('CIP', axis = 1))\n",
    "X_test = copy.copy(cip_test.drop('CIP', axis = 1))\n",
    "y_train = copy.copy(cip_train[['CIP']])\n",
    "y_test = copy.copy(cip_test[['CIP']])"
   ]
  },
  {
   "cell_type": "code",
   "execution_count": 47,
   "metadata": {},
   "outputs": [
    {
     "data": {
      "text/plain": [
       "Index(['custom 7 - nursing home', 'custom 14 - nursing home',\n",
       "       'custom 30 - nursing home', 'custom 90 - nursing home',\n",
       "       'infection_sites - RESPIRATORY_TRACT', 'infection_sites - BLOOD',\n",
       "       'infection_sites - SKIN_SOFTTISSUE',\n",
       "       'infection_sites - ABSCESS_OR_FLUID_NOS',\n",
       "       'infection_sites - MUCOCUTANEOUS', 'infection_sites - GENITOURINARY',\n",
       "       'hosp ward - ER', 'hosp ward - ICU', 'hosp ward - IP', 'hosp ward - OP',\n",
       "       'selected micro - colonization pressure AMC 90 - granular level',\n",
       "       'selected micro - colonization pressure AMP 90 - granular level',\n",
       "       'selected micro - colonization pressure ATM 90 - granular level',\n",
       "       'selected micro - colonization pressure CAZ 90 - granular level',\n",
       "       'selected micro - colonization pressure CIP 90 - granular level',\n",
       "       'selected micro - colonization pressure CLI 90 - granular level',\n",
       "       'selected micro - colonization pressure CRO 90 - granular level',\n",
       "       'selected micro - colonization pressure DOX 90 - granular level',\n",
       "       'selected micro - colonization pressure ERY 90 - granular level',\n",
       "       'selected micro - colonization pressure FEP 90 - granular level',\n",
       "       'selected micro - colonization pressure FOX 90 - granular level',\n",
       "       'selected micro - colonization pressure GEN 90 - granular level',\n",
       "       'selected micro - colonization pressure IPM 90 - granular level',\n",
       "       'selected micro - colonization pressure LVX 90 - granular level',\n",
       "       'selected micro - colonization pressure MEM 90 - granular level',\n",
       "       'selected micro - colonization pressure MXF 90 - granular level',\n",
       "       'selected micro - colonization pressure NIT 90 - granular level',\n",
       "       'selected micro - colonization pressure OXA 90 - granular level',\n",
       "       'selected micro - colonization pressure PEN 90 - granular level',\n",
       "       'selected micro - colonization pressure SAM 90 - granular level',\n",
       "       'selected micro - colonization pressure SXT 90 - granular level',\n",
       "       'selected micro - colonization pressure TET 90 - granular level',\n",
       "       'selected micro - colonization pressure TZP 90 - granular level',\n",
       "       'selected micro - colonization pressure VAN 90 - granular level',\n",
       "       'selected micro - colonization pressure AMC 90 - higher level',\n",
       "       'selected micro - colonization pressure AMP 90 - higher level',\n",
       "       'selected micro - colonization pressure ATM 90 - higher level',\n",
       "       'selected micro - colonization pressure CAZ 90 - higher level',\n",
       "       'selected micro - colonization pressure CIP 90 - higher level',\n",
       "       'selected micro - colonization pressure CLI 90 - higher level',\n",
       "       'selected micro - colonization pressure CRO 90 - higher level',\n",
       "       'selected micro - colonization pressure DOX 90 - higher level',\n",
       "       'selected micro - colonization pressure ERY 90 - higher level',\n",
       "       'selected micro - colonization pressure FEP 90 - higher level',\n",
       "       'selected micro - colonization pressure FOX 90 - higher level',\n",
       "       'selected micro - colonization pressure GEN 90 - higher level',\n",
       "       'selected micro - colonization pressure IPM 90 - higher level',\n",
       "       'selected micro - colonization pressure LVX 90 - higher level',\n",
       "       'selected micro - colonization pressure MEM 90 - higher level',\n",
       "       'selected micro - colonization pressure MIN 90 - higher level',\n",
       "       'selected micro - colonization pressure MXF 90 - higher level',\n",
       "       'selected micro - colonization pressure NIT 90 - higher level',\n",
       "       'selected micro - colonization pressure OXA 90 - higher level',\n",
       "       'selected micro - colonization pressure PEN 90 - higher level',\n",
       "       'selected micro - colonization pressure SAM 90 - higher level',\n",
       "       'selected micro - colonization pressure SXT 90 - higher level',\n",
       "       'selected micro - colonization pressure TET 90 - higher level',\n",
       "       'selected micro - colonization pressure TZP 90 - higher level',\n",
       "       'selected micro - colonization pressure VAN 90 - higher level',\n",
       "       'selected micro - colonization pressure AMC 90 - overall',\n",
       "       'selected micro - colonization pressure AMP 90 - overall',\n",
       "       'selected micro - colonization pressure ATM 90 - overall',\n",
       "       'selected micro - colonization pressure CAZ 90 - overall',\n",
       "       'selected micro - colonization pressure CIP 90 - overall',\n",
       "       'selected micro - colonization pressure CLI 90 - overall',\n",
       "       'selected micro - colonization pressure CRO 90 - overall',\n",
       "       'selected micro - colonization pressure DOX 90 - overall',\n",
       "       'selected micro - colonization pressure ERY 90 - overall',\n",
       "       'selected micro - colonization pressure FEP 90 - overall',\n",
       "       'selected micro - colonization pressure FOX 90 - overall',\n",
       "       'selected micro - colonization pressure GEN 90 - overall',\n",
       "       'selected micro - colonization pressure IPM 90 - overall',\n",
       "       'selected micro - colonization pressure LVX 90 - overall',\n",
       "       'selected micro - colonization pressure MEM 90 - overall',\n",
       "       'selected micro - colonization pressure MIN 90 - overall',\n",
       "       'selected micro - colonization pressure MXF 90 - overall',\n",
       "       'selected micro - colonization pressure NIT 90 - overall',\n",
       "       'selected micro - colonization pressure OXA 90 - overall',\n",
       "       'selected micro - colonization pressure PEN 90 - overall',\n",
       "       'selected micro - colonization pressure SAM 90 - overall',\n",
       "       'selected micro - colonization pressure SXT 90 - overall',\n",
       "       'selected micro - colonization pressure TET 90 - overall',\n",
       "       'selected micro - colonization pressure TZP 90 - overall',\n",
       "       'selected micro - colonization pressure VAN 90 - overall'],\n",
       "      dtype='object')"
      ]
     },
     "execution_count": 47,
     "metadata": {},
     "output_type": "execute_result"
    }
   ],
   "source": [
    "X_train.columns[700:800]"
   ]
  },
  {
   "cell_type": "code",
   "execution_count": 24,
   "metadata": {},
   "outputs": [
    {
     "name": "stderr",
     "output_type": "stream",
     "text": [
      "C:\\Users\\benne\\anaconda3\\lib\\site-packages\\sklearn\\utils\\validation.py:72: DataConversionWarning: A column-vector y was passed when a 1d array was expected. Please change the shape of y to (n_samples, ), for example using ravel().\n",
      "  return f(**kwargs)\n",
      "C:\\Users\\benne\\anaconda3\\lib\\site-packages\\sklearn\\linear_model\\_logistic.py:764: ConvergenceWarning: lbfgs failed to converge (status=1):\n",
      "STOP: TOTAL NO. of ITERATIONS REACHED LIMIT.\n",
      "\n",
      "Increase the number of iterations (max_iter) or scale the data as shown in:\n",
      "    https://scikit-learn.org/stable/modules/preprocessing.html\n",
      "Please also refer to the documentation for alternative solver options:\n",
      "    https://scikit-learn.org/stable/modules/linear_model.html#logistic-regression\n",
      "  extra_warning_msg=_LOGISTIC_SOLVER_CONVERGENCE_MSG)\n"
     ]
    }
   ],
   "source": [
    "from sklearn.linear_model import LogisticRegression\n",
    "from sklearn.metrics import f1_score, confusion_matrix, accuracy_score, roc_auc_score\n",
    "lr = LogisticRegression().fit(X_train, y_train)"
   ]
  },
  {
   "cell_type": "code",
   "execution_count": 25,
   "metadata": {},
   "outputs": [
    {
     "data": {
      "text/plain": [
       "0.9391017508246637"
      ]
     },
     "execution_count": 25,
     "metadata": {},
     "output_type": "execute_result"
    }
   ],
   "source": [
    "accuracy_score(lr.predict(X_test), y_test)"
   ]
  },
  {
   "cell_type": "code",
   "execution_count": 43,
   "metadata": {},
   "outputs": [
    {
     "data": {
      "text/plain": [
       "0.6295838227602822"
      ]
     },
     "execution_count": 43,
     "metadata": {},
     "output_type": "execute_result"
    }
   ],
   "source": [
    "roc_auc_score(y_test, pd.DataFrame(lr.predict_proba(X_test)).iloc[:, 1])"
   ]
  },
  {
   "cell_type": "code",
   "execution_count": 28,
   "metadata": {},
   "outputs": [
    {
     "data": {
      "text/plain": [
       "array([[3680,  232],\n",
       "       [   8,   21]], dtype=int64)"
      ]
     },
     "execution_count": 28,
     "metadata": {},
     "output_type": "execute_result"
    }
   ],
   "source": [
    "confusion_matrix(lr.predict(X_test), y_test)"
   ]
  },
  {
   "cell_type": "code",
   "execution_count": null,
   "metadata": {},
   "outputs": [],
   "source": []
  }
 ],
 "metadata": {
  "kernelspec": {
   "display_name": "Python 3",
   "language": "python",
   "name": "python3"
  },
  "language_info": {
   "codemirror_mode": {
    "name": "ipython",
    "version": 3
   },
   "file_extension": ".py",
   "mimetype": "text/x-python",
   "name": "python",
   "nbconvert_exporter": "python",
   "pygments_lexer": "ipython3",
   "version": "3.7.6"
  }
 },
 "nbformat": 4,
 "nbformat_minor": 4
}
