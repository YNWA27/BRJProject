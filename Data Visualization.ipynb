{
 "cells": [
  {
   "cell_type": "markdown",
   "metadata": {},
   "source": [
    "Ideas: \n",
    "- What's the effect of excluding 30 days prev., 60 days prev. , ...?\n",
    "-> Corr-Plot of each variable\n",
    "- Sparsity in prior events\n",
    "- PCA analysis\n",
    "-> How much can be explained by 1, 2, 3 dimensions?\n",
    "- Demographics analysis\n",
    "-> Comparison with average in the US\n",
    "- Discussion of \"We found this bacterium on the hospital wall\" features\n",
    "- 10, 15, 20 features with the highest correlation with target variables\n",
    "- 10, 15, 20 features with the lowest correlation with target variables\n",
    "\n",
    "\n",
    "- Resistance data availability\n",
    "- Analysis of spread of resistance between uncomplicated and complicated cases"
   ]
  },
  {
   "cell_type": "code",
   "execution_count": 1,
   "metadata": {},
   "outputs": [],
   "source": [
    "import pandas as pd\n",
    "from sklearn.model_selection import train_test_split\n",
    "import seaborn as sns\n",
    "import matplotlib.pyplot as plt\n",
    "import numpy as np"
   ]
  },
  {
   "cell_type": "markdown",
   "metadata": {},
   "source": [
    "# Read data in"
   ]
  },
  {
   "cell_type": "code",
   "execution_count": 2,
   "metadata": {},
   "outputs": [],
   "source": [
    "features = pd.read_csv('all_uti_features.csv', index_col = 'example_id')\n",
    "prescrip = pd.read_csv('all_prescriptions.csv', index_col = 'example_id')\n",
    "resistance = pd.read_csv('all_uti_resist_labels.csv', index_col = 'example_id')"
   ]
  },
  {
   "cell_type": "code",
   "execution_count": 3,
   "metadata": {},
   "outputs": [],
   "source": [
    "# cip_df = resistance[resistance['CIP'].notna()][['CIP']].join(features)\n",
    "cip_df = resistance[['CIP']].join(features)"
   ]
  },
  {
   "cell_type": "code",
   "execution_count": 4,
   "metadata": {},
   "outputs": [],
   "source": [
    "#cip_df = cip_df.drop(cip_df.columns[cip_df.columns.str.contains('selected micro - ', regex=True, na=True)], axis = 1)"
   ]
  },
  {
   "cell_type": "markdown",
   "metadata": {},
   "source": [
    "### What's the effect of excluding \"occuring in 14, 30, 60, 90 Days prev\" of sth.?"
   ]
  },
  {
   "cell_type": "markdown",
   "metadata": {},
   "source": [
    "Would be interesting to see\n",
    "- How big the change in '1's is for the increasing horizon (on average, and std.)"
   ]
  },
  {
   "cell_type": "code",
   "execution_count": 5,
   "metadata": {},
   "outputs": [
    {
     "data": {
      "text/plain": [
       "Index(['micro - prev resistance CFZ ALL', 'micro - prev resistance ERY ALL',\n",
       "       'micro - prev resistance LVX ALL', 'micro - prev resistance OXA ALL',\n",
       "       'micro - prev resistance PEN ALL', 'micro - prev resistance TET ALL',\n",
       "       'micro - prev resistance AMP ALL', 'micro - prev resistance CIP ALL',\n",
       "       'micro - prev resistance SXT ALL', 'micro - prev resistance DOX ALL',\n",
       "       ...\n",
       "       'ab subtype ALL - penicillins', 'ab subtype ALL - cephalosporin_gen1',\n",
       "       'ab subtype ALL - cephalosporin_gen3',\n",
       "       'ab subtype ALL - beta_lactam_combo',\n",
       "       'ab subtype ALL - antistaphylococcal', 'ab subtype ALL - carbapenem',\n",
       "       'ab subtype ALL - cephalosporin_gen4', 'ab subtype ALL - echinocandin',\n",
       "       'ab subtype ALL - cephalosporin_gen2', 'ab subtype ALL - polyene'],\n",
       "      dtype='object', length=113)"
      ]
     },
     "execution_count": 5,
     "metadata": {},
     "output_type": "execute_result"
    }
   ],
   "source": [
    "cip_df.columns[cip_df.columns.str.contains('ALL', regex=True, na=True)]"
   ]
  },
  {
   "cell_type": "code",
   "execution_count": 6,
   "metadata": {},
   "outputs": [],
   "source": [
    "base = r'^{}'\n",
    "expr = '(?=.*{})'"
   ]
  },
  {
   "cell_type": "code",
   "execution_count": 7,
   "metadata": {},
   "outputs": [
    {
     "name": "stdout",
     "output_type": "stream",
     "text": [
      "micro - prev resistance CFZ \n",
      "Index(['micro - prev resistance CFZ 14'], dtype='object')\n",
      "Index(['micro - prev resistance CFZ 30'], dtype='object')\n",
      "Index(['micro - prev resistance CFZ 90'], dtype='object')\n",
      "Index(['micro - prev resistance CFZ 180'], dtype='object')\n",
      "micro - prev resistance ERY \n",
      "Index([], dtype='object')\n",
      "Index(['micro - prev resistance ERY 30'], dtype='object')\n",
      "Index(['micro - prev resistance ERY 90'], dtype='object')\n",
      "Index(['micro - prev resistance ERY 180'], dtype='object')\n",
      "micro - prev resistance LVX \n",
      "Index(['micro - prev resistance LVX 14'], dtype='object')\n",
      "Index(['micro - prev resistance LVX 30'], dtype='object')\n",
      "Index(['micro - prev resistance LVX 90'], dtype='object')\n",
      "Index(['micro - prev resistance LVX 180'], dtype='object')\n"
     ]
    },
    {
     "data": {
      "image/png": "[encoded data removed]",
      "text/plain": [
       "<Figure size 432x288 with 3 Axes>"
      ]
     },
     "metadata": {
      "needs_background": "light"
     },
     "output_type": "display_data"
    }
   ],
   "source": [
    "for feature_all in cip_df.columns[cip_df.columns.str.contains('ALL', regex=True, na=True)][0:3]:\n",
    "    feature = feature_all.split('ALL')[0]\n",
    "    print(feature)\n",
    "    \n",
    "    feature_14 = cip_df.columns[cip_df.columns.str.contains(base.format(''.join(expr.format(w) for w in [feature, '14'])), regex=True, na=True)]\n",
    "    print(feature_14)\n",
    "    feature_30 = cip_df.columns[cip_df.columns.str.contains(base.format(''.join(expr.format(w) for w in [feature, '30'])), regex=True, na=True)]\n",
    "    print(feature_30)\n",
    "    feature_90 = cip_df.columns[cip_df.columns.str.contains(base.format(''.join(expr.format(w) for w in [feature, '90'])), regex=True, na=True)]\n",
    "    print(feature_90)\n",
    "    feature_180 = cip_df.columns[cip_df.columns.str.contains(base.format(''.join(expr.format(w) for w in [feature, '180'])), regex=True, na=True)]\n",
    "    print(feature_180)\n",
    "    \n",
    "    if feature_14.shape[0] == 0 or feature_30.shape[0] == 0 or feature_90.shape[0] == 0 or feature_180.shape[0] == 0:\n",
    "        next;\n",
    "    else:\n",
    "        sns.heatmap(np.corrcoef(cip_df[[feature_all, feature_14[0], feature_30[0], feature_90[0], feature_180[0]]], rowvar = False))"
   ]
  },
  {
   "cell_type": "code",
   "execution_count": 8,
   "metadata": {},
   "outputs": [
    {
     "data": {
      "text/plain": [
       "'micro - prev resistance LVX 14'"
      ]
     },
     "execution_count": 8,
     "metadata": {},
     "output_type": "execute_result"
    }
   ],
   "source": [
    "cip_df.columns[cip_df.columns.str.contains(base.format(''.join(expr.format(w) for w in [feature, '14'])), regex=True, na=True)][0]"
   ]
  },
  {
   "cell_type": "code",
   "execution_count": 9,
   "metadata": {},
   "outputs": [
    {
     "data": {
      "text/plain": [
       "(119,)"
      ]
     },
     "execution_count": 9,
     "metadata": {},
     "output_type": "execute_result"
    }
   ],
   "source": [
    "cip_df.columns[cip_df.columns.str.contains('30', regex=True, na=True)].shape"
   ]
  },
  {
   "cell_type": "code",
   "execution_count": 10,
   "metadata": {},
   "outputs": [
    {
     "data": {
      "text/plain": [
       "(218,)"
      ]
     },
     "execution_count": 10,
     "metadata": {},
     "output_type": "execute_result"
    }
   ],
   "source": [
    "cip_df.columns[cip_df.columns.str.contains('90', regex=True, na=True)].shape"
   ]
  },
  {
   "cell_type": "code",
   "execution_count": 11,
   "metadata": {},
   "outputs": [
    {
     "data": {
      "text/plain": [
       "(162,)"
      ]
     },
     "execution_count": 11,
     "metadata": {},
     "output_type": "execute_result"
    }
   ],
   "source": [
    "cip_df.columns[cip_df.columns.str.contains('180', regex=True, na=True)].shape"
   ]
  },
  {
   "cell_type": "code",
   "execution_count": 12,
   "metadata": {},
   "outputs": [
    {
     "data": {
      "text/plain": [
       "'micro - prev resistance ERY '"
      ]
     },
     "execution_count": 12,
     "metadata": {},
     "output_type": "execute_result"
    }
   ],
   "source": [
    "cip_df.columns[cip_df.columns.str.contains('30', regex=True, na=True)][0].split('30')[0]"
   ]
  },
  {
   "cell_type": "code",
   "execution_count": 13,
   "metadata": {},
   "outputs": [
    {
     "data": {
      "text/plain": [
       "'micro - prev resistance AMC '"
      ]
     },
     "execution_count": 13,
     "metadata": {},
     "output_type": "execute_result"
    }
   ],
   "source": [
    "cip_df.columns[cip_df.columns.str.contains('90', regex=True, na=True)][0].split('90')[0]"
   ]
  },
  {
   "cell_type": "code",
   "execution_count": 14,
   "metadata": {},
   "outputs": [
    {
     "data": {
      "text/plain": [
       "'micro - prev resistance LVX '"
      ]
     },
     "execution_count": 14,
     "metadata": {},
     "output_type": "execute_result"
    }
   ],
   "source": [
    "cip_df.columns[cip_df.columns.str.contains('180', regex=True, na=True)][0].split('180')[0]"
   ]
  },
  {
   "cell_type": "markdown",
   "metadata": {},
   "source": [
    "## Effect of excluding main antibiotics prior resistance"
   ]
  },
  {
   "cell_type": "code",
   "execution_count": 97,
   "metadata": {},
   "outputs": [
    {
     "name": "stdout",
     "output_type": "stream",
     "text": [
      "micro - prev resistance CFZ ALL    0.377547\n",
      "micro - prev resistance CFZ 14     0.004859\n",
      "micro - prev resistance CFZ 30     0.039401\n",
      "micro - prev resistance CFZ 90     0.112282\n",
      "micro - prev resistance CFZ 180    0.169261\n",
      "Name: mean, dtype: float64\n",
      "micro - prev resistance ERY \n",
      "micro - prev resistance LVX ALL    0.209073\n",
      "micro - prev resistance LVX 14     0.007742\n",
      "micro - prev resistance LVX 30     0.034679\n",
      "micro - prev resistance LVX 90     0.083258\n",
      "micro - prev resistance LVX 180    0.114917\n",
      "Name: mean, dtype: float64\n",
      "micro - prev resistance OXA \n",
      "micro - prev resistance PEN \n",
      "micro - prev resistance TET ALL    0.249808\n",
      "micro - prev resistance TET 14     0.005244\n",
      "micro - prev resistance TET 30     0.030222\n",
      "micro - prev resistance TET 90     0.078510\n",
      "micro - prev resistance TET 180    0.114215\n",
      "Name: mean, dtype: float64\n",
      "micro - prev resistance AMP ALL    0.308609\n",
      "micro - prev resistance AMP 14     0.006185\n",
      "micro - prev resistance AMP 30     0.037809\n",
      "micro - prev resistance AMP 90     0.100050\n",
      "micro - prev resistance AMP 180    0.146276\n",
      "Name: mean, dtype: float64\n",
      "micro - prev resistance CIP ALL    0.185377\n",
      "micro - prev resistance CIP 14     0.005594\n",
      "micro - prev resistance CIP 30     0.029375\n",
      "micro - prev resistance CIP 90     0.073438\n",
      "micro - prev resistance CIP 180    0.102205\n",
      "Name: mean, dtype: float64\n",
      "micro - prev resistance SXT ALL    0.209748\n",
      "micro - prev resistance SXT 14     0.003302\n",
      "micro - prev resistance SXT 30     0.021787\n",
      "micro - prev resistance SXT 90     0.059152\n",
      "micro - prev resistance SXT 180    0.087638\n",
      "Name: mean, dtype: float64\n",
      "micro - prev resistance DOX \n",
      "micro - prev resistance RIF \n",
      "micro - prev resistance NIT ALL    0.202503\n",
      "micro - prev resistance NIT 14     0.004559\n",
      "micro - prev resistance NIT 30     0.023148\n",
      "micro - prev resistance NIT 90     0.060307\n",
      "micro - prev resistance NIT 180    0.089460\n",
      "Name: mean, dtype: float64\n",
      "micro - prev resistance VAN \n",
      "micro - prev resistance QUD \n",
      "micro - prev resistance CLI \n",
      "micro - prev resistance AMC ALL    0.132624\n",
      "micro - prev resistance AMC 14     0.001634\n",
      "micro - prev resistance AMC 30     0.011984\n",
      "micro - prev resistance AMC 90     0.034182\n",
      "micro - prev resistance AMC 180    0.052754\n",
      "Name: mean, dtype: float64\n",
      "micro - prev resistance ATM \n",
      "micro - prev resistance CAZ \n",
      "micro - prev resistance CRO \n",
      "micro - prev resistance FEP \n",
      "micro - prev resistance NAL \n",
      "micro - prev resistance PIP \n",
      "micro - prev resistance GEN ALL    0.094310\n",
      "micro - prev resistance GEN 14     0.001711\n",
      "micro - prev resistance GEN 30     0.010256\n",
      "micro - prev resistance GEN 90     0.027707\n",
      "micro - prev resistance GEN 180    0.040564\n",
      "Name: mean, dtype: float64\n",
      "micro - prev resistance ERT \n",
      "micro - prev resistance CHL \n",
      "micro - prev resistance AMK \n",
      "micro - prev resistance CTT \n",
      "micro - prev resistance IPM \n",
      "micro - prev resistance TOB \n",
      "micro - prev resistance TIC \n",
      "micro - prev resistance TZP \n",
      "micro - prev resistance LZD \n",
      "micro - prev resistance SAM ALL    0.073976\n",
      "micro - prev resistance SAM 14     0.000907\n",
      "micro - prev resistance SAM 30     0.008477\n",
      "micro - prev resistance SAM 90     0.023926\n",
      "micro - prev resistance SAM 180    0.035868\n",
      "Name: mean, dtype: float64\n",
      "micro - prev resistance GENS \n",
      "micro - prev resistance STRS \n",
      "micro - prev resistance MXF \n",
      "micro - prev resistance FOX \n"
     ]
    }
   ],
   "source": [
    "reduced_columns = cip_df.columns[cip_df.columns.str.contains('micro - prev resistance', regex=True, na=True)]\n",
    "\n",
    "for feature_all in reduced_columns[reduced_columns.str.contains('ALL', regex=True, na=True)]:\n",
    "    feature = feature_all.split('ALL')[0]\n",
    "    \n",
    "    feature_14 = cip_df.columns[cip_df.columns.str.contains(base.format(''.join(expr.format(w) for w in [feature, '14'])), regex=True, na=True)]\n",
    "    feature_30 = cip_df.columns[cip_df.columns.str.contains(base.format(''.join(expr.format(w) for w in [feature, '30'])), regex=True, na=True)]\n",
    "    feature_90 = cip_df.columns[cip_df.columns.str.contains(base.format(''.join(expr.format(w) for w in [feature, '90'])), regex=True, na=True)]\n",
    "    feature_180 = cip_df.columns[cip_df.columns.str.contains(base.format(''.join(expr.format(w) for w in [feature, '180'])), regex=True, na=True)]\n",
    "    \n",
    "    if feature_14.shape[0] == 0 or feature_30.shape[0] == 0 or feature_90.shape[0] == 0 or feature_180.shape[0] == 0:\n",
    "        print(feature)\n",
    "        next;\n",
    "    else:\n",
    "        print(cip_df[[feature_all, feature_14[0], feature_30[0], feature_90[0], feature_180[0]]].describe().loc['mean'])\n",
    "        #sns.heatmap(np.corrcoef(cip_df[[feature_all, feature_14[0], feature_30[0], feature_90[0], feature_180[0]]], rowvar = False))"
   ]
  },
  {
   "cell_type": "markdown",
   "metadata": {},
   "source": [
    "## Sparsity in Prior events"
   ]
  },
  {
   "cell_type": "code",
   "execution_count": 100,
   "metadata": {},
   "outputs": [
    {
     "data": {
      "image/png": "[encoded data removed]",
      "text/plain": [
       "<Figure size 432x288 with 1 Axes>"
      ]
     },
     "metadata": {
      "needs_background": "light"
     },
     "output_type": "display_data"
    }
   ],
   "source": [
    "histplot = cip_df[cip_df.columns[cip_df.columns.str.contains('90|30|14|180|ALL', regex=True, na=True)]].describe().T[['mean']].boxplot()\n",
    "histplot.set_title('Boxplot of the occurence of positive cases for binary features')\n",
    "histplot.tick_params(\n",
    "    axis='x',          # changes apply to the x-axis\n",
    "    which='both',      # both major and minor ticks are affected\n",
    "    bottom=False,      # ticks along the bottom edge are off\n",
    "    top=False,         # ticks along the top edge are off\n",
    "    labelbottom=False) # labels along the bottom edge are off)"
   ]
  },
  {
   "cell_type": "code",
   "execution_count": 74,
   "metadata": {},
   "outputs": [
    {
     "data": {
      "text/plain": [
       "Text(0.5, 1.0, 'Histogram of the occurence of positive cases for binary features')"
      ]
     },
     "execution_count": 74,
     "metadata": {},
     "output_type": "execute_result"
    },
    {
     "data": {
      "image/png": "[encoded data removed]",
      "text/plain": [
       "<Figure size 432x288 with 1 Axes>"
      ]
     },
     "metadata": {
      "needs_background": "light"
     },
     "output_type": "display_data"
    }
   ],
   "source": [
    "plotplot = cip_df[cip_df.columns[cip_df.columns.str.contains('90|30|14|180|ALL', regex=True, na=True)]].describe().T[['mean']].plot(kind = 'hist', bins = 200, legend = False)\n",
    "plotplot.set_xlabel('Positive rate')\n",
    "plotplot.set_title('Histogram of the occurence of positive cases for binary features')"
   ]
  },
  {
   "cell_type": "code",
   "execution_count": 17,
   "metadata": {},
   "outputs": [],
   "source": [
    "info_df = cip_df[cip_df.columns[cip_df.columns.str.contains('90|30|14|180|ALL', regex=True, na=True)]].describe().T[['mean', 'count']].sort_values(by = 'mean')"
   ]
  },
  {
   "cell_type": "code",
   "execution_count": 18,
   "metadata": {},
   "outputs": [
    {
     "data": {
      "text/html": [
       "<div>\n",
       "<style scoped>\n",
       "    .dataframe tbody tr th:only-of-type {\n",
       "        vertical-align: middle;\n",
       "    }\n",
       "\n",
       "    .dataframe tbody tr th {\n",
       "        vertical-align: top;\n",
       "    }\n",
       "\n",
       "    .dataframe thead th {\n",
       "        text-align: right;\n",
       "    }\n",
       "</style>\n",
       "<table border=\"1\" class=\"dataframe\">\n",
       "  <thead>\n",
       "    <tr style=\"text-align: right;\">\n",
       "      <th></th>\n",
       "      <th>mean</th>\n",
       "      <th>count</th>\n",
       "    </tr>\n",
       "  </thead>\n",
       "  <tbody>\n",
       "    <tr>\n",
       "      <th>comorbidity 180 - Rheumatic</th>\n",
       "      <td>0.050059</td>\n",
       "      <td>116902.0</td>\n",
       "    </tr>\n",
       "    <tr>\n",
       "      <th>micro - prev resistance VAN ALL</th>\n",
       "      <td>0.050093</td>\n",
       "      <td>116902.0</td>\n",
       "    </tr>\n",
       "    <tr>\n",
       "      <th>comorbidity 180 - Paralysis</th>\n",
       "      <td>0.050718</td>\n",
       "      <td>116902.0</td>\n",
       "    </tr>\n",
       "    <tr>\n",
       "      <th>comorbidity 14 - Mets</th>\n",
       "      <td>0.051624</td>\n",
       "      <td>116902.0</td>\n",
       "    </tr>\n",
       "    <tr>\n",
       "      <th>comorbidity 90 - WeightLoss</th>\n",
       "      <td>0.051838</td>\n",
       "      <td>116902.0</td>\n",
       "    </tr>\n",
       "    <tr>\n",
       "      <th>...</th>\n",
       "      <td>...</td>\n",
       "      <td>...</td>\n",
       "    </tr>\n",
       "    <tr>\n",
       "      <th>ab class ALL - beta_lactam</th>\n",
       "      <td>0.576509</td>\n",
       "      <td>116902.0</td>\n",
       "    </tr>\n",
       "    <tr>\n",
       "      <th>selected micro - colonization pressure ERY 90 - granular level</th>\n",
       "      <td>0.589821</td>\n",
       "      <td>116902.0</td>\n",
       "    </tr>\n",
       "    <tr>\n",
       "      <th>procedure 180 - had surgery</th>\n",
       "      <td>0.695993</td>\n",
       "      <td>116902.0</td>\n",
       "    </tr>\n",
       "    <tr>\n",
       "      <th>selected micro - colonization pressure ERY 90 - higher level</th>\n",
       "      <td>0.716154</td>\n",
       "      <td>116902.0</td>\n",
       "    </tr>\n",
       "    <tr>\n",
       "      <th>selected micro - colonization pressure ERY 90 - overall</th>\n",
       "      <td>0.737336</td>\n",
       "      <td>116902.0</td>\n",
       "    </tr>\n",
       "  </tbody>\n",
       "</table>\n",
       "<p>257 rows × 2 columns</p>\n",
       "</div>"
      ],
      "text/plain": [
       "                                                        mean     count\n",
       "comorbidity 180 - Rheumatic                         0.050059  116902.0\n",
       "micro - prev resistance VAN ALL                     0.050093  116902.0\n",
       "comorbidity 180 - Paralysis                         0.050718  116902.0\n",
       "comorbidity 14 - Mets                               0.051624  116902.0\n",
       "comorbidity 90 - WeightLoss                         0.051838  116902.0\n",
       "...                                                      ...       ...\n",
       "ab class ALL - beta_lactam                          0.576509  116902.0\n",
       "selected micro - colonization pressure ERY 90 -...  0.589821  116902.0\n",
       "procedure 180 - had surgery                         0.695993  116902.0\n",
       "selected micro - colonization pressure ERY 90 -...  0.716154  116902.0\n",
       "selected micro - colonization pressure ERY 90 -...  0.737336  116902.0\n",
       "\n",
       "[257 rows x 2 columns]"
      ]
     },
     "execution_count": 18,
     "metadata": {},
     "output_type": "execute_result"
    }
   ],
   "source": [
    "info_df[info_df['mean'] >= 0.05]"
   ]
  },
  {
   "cell_type": "markdown",
   "metadata": {},
   "source": [
    "## Demographics Analysis"
   ]
  },
  {
   "cell_type": "markdown",
   "metadata": {},
   "source": [
    "#### Where is the gender variable???"
   ]
  },
  {
   "cell_type": "code",
   "execution_count": 19,
   "metadata": {},
   "outputs": [
    {
     "data": {
      "text/plain": [
       "Index(['demographics - is_white', 'demographics - is_veteran', 'is_train'], dtype='object')"
      ]
     },
     "execution_count": 19,
     "metadata": {},
     "output_type": "execute_result"
    }
   ],
   "source": [
    "cip_df.columns[cip_df.columns.str.contains('is_', regex=True, na=True)]"
   ]
  },
  {
   "cell_type": "code",
   "execution_count": 20,
   "metadata": {},
   "outputs": [],
   "source": [
    "demographics_df = cip_df[cip_df.columns[cip_df.columns.str.contains('demographics', regex=True, na=True)]]"
   ]
  },
  {
   "cell_type": "code",
   "execution_count": 63,
   "metadata": {},
   "outputs": [
    {
     "data": {
      "text/plain": [
       "Text(0.5, 1.0, 'Boxplot of the age of patients')"
      ]
     },
     "execution_count": 63,
     "metadata": {},
     "output_type": "execute_result"
    },
    {
     "data": {
      "image/png": "[encoded data removed]",
      "text/plain": [
       "<Figure size 432x288 with 1 Axes>"
      ]
     },
     "metadata": {
      "needs_background": "light"
     },
     "output_type": "display_data"
    }
   ],
   "source": [
    "demographics_df[['demographics - age']].boxplot().set_title('Boxplot of the age of patients')"
   ]
  },
  {
   "cell_type": "code",
   "execution_count": 22,
   "metadata": {},
   "outputs": [
    {
     "data": {
      "text/plain": [
       "887"
      ]
     },
     "execution_count": 22,
     "metadata": {},
     "output_type": "execute_result"
    }
   ],
   "source": [
    "demographics_df[demographics_df['demographics - age'] == 0].shape[0]"
   ]
  },
  {
   "cell_type": "code",
   "execution_count": 23,
   "metadata": {},
   "outputs": [
    {
     "data": {
      "text/html": [
       "<div>\n",
       "<style scoped>\n",
       "    .dataframe tbody tr th:only-of-type {\n",
       "        vertical-align: middle;\n",
       "    }\n",
       "\n",
       "    .dataframe tbody tr th {\n",
       "        vertical-align: top;\n",
       "    }\n",
       "\n",
       "    .dataframe thead th {\n",
       "        text-align: right;\n",
       "    }\n",
       "</style>\n",
       "<table border=\"1\" class=\"dataframe\">\n",
       "  <thead>\n",
       "    <tr style=\"text-align: right;\">\n",
       "      <th></th>\n",
       "      <th>demographics - age</th>\n",
       "      <th>demographics - is_white</th>\n",
       "      <th>demographics - is_veteran</th>\n",
       "    </tr>\n",
       "  </thead>\n",
       "  <tbody>\n",
       "    <tr>\n",
       "      <th>mean</th>\n",
       "      <td>55.408034</td>\n",
       "      <td>0.716557</td>\n",
       "      <td>0.055072</td>\n",
       "    </tr>\n",
       "    <tr>\n",
       "      <th>std</th>\n",
       "      <td>22.725221</td>\n",
       "      <td>0.450671</td>\n",
       "      <td>0.228121</td>\n",
       "    </tr>\n",
       "    <tr>\n",
       "      <th>min</th>\n",
       "      <td>0.000000</td>\n",
       "      <td>0.000000</td>\n",
       "      <td>0.000000</td>\n",
       "    </tr>\n",
       "    <tr>\n",
       "      <th>max</th>\n",
       "      <td>90.000000</td>\n",
       "      <td>1.000000</td>\n",
       "      <td>1.000000</td>\n",
       "    </tr>\n",
       "  </tbody>\n",
       "</table>\n",
       "</div>"
      ],
      "text/plain": [
       "      demographics - age  demographics - is_white  demographics - is_veteran\n",
       "mean           55.408034                 0.716557                   0.055072\n",
       "std            22.725221                 0.450671                   0.228121\n",
       "min             0.000000                 0.000000                   0.000000\n",
       "max            90.000000                 1.000000                   1.000000"
      ]
     },
     "execution_count": 23,
     "metadata": {},
     "output_type": "execute_result"
    }
   ],
   "source": [
    "demographics_df.describe().loc[['mean', 'std', 'min', 'max']]"
   ]
  },
  {
   "cell_type": "markdown",
   "metadata": {},
   "source": [
    "## Highest - and lowest correlated features with target variable"
   ]
  },
  {
   "cell_type": "markdown",
   "metadata": {},
   "source": [
    "#### Follow-up question: Are if-then statements correct? E.g. If there was CIP resistance in the last 90 days, then the patient is still resistant to date?"
   ]
  },
  {
   "cell_type": "code",
   "execution_count": 24,
   "metadata": {},
   "outputs": [],
   "source": [
    "corr_df = pd.DataFrame(abs(np.corrcoef(cip_df.dropna(), rowvar = False)[0][1:]), index = cip_df.columns[1:], columns = ['Corr'])"
   ]
  },
  {
   "cell_type": "code",
   "execution_count": 90,
   "metadata": {},
   "outputs": [
    {
     "data": {
      "image/png": "[encoded data removed]",
      "text/plain": [
       "<Figure size 432x288 with 1 Axes>"
      ]
     },
     "metadata": {
      "needs_background": "light"
     },
     "output_type": "display_data"
    }
   ],
   "source": [
    "corr_plot = corr_df.sort_values(by = 'Corr').plot(legend = False)\n",
    "corr_plot.set_title('Ordered correlation of features with target variable CIP resistance')\n",
    "corr_plot.tick_params(\n",
    "    axis='x',          # changes apply to the x-axis\n",
    "    which='both',      # both major and minor ticks are affected\n",
    "    bottom=False,      # ticks along the bottom edge are off\n",
    "    top=False,         # ticks along the top edge are off\n",
    "    labelbottom=False) # labels along the bottom edge are off)"
   ]
  },
  {
   "cell_type": "code",
   "execution_count": 26,
   "metadata": {},
   "outputs": [
    {
     "data": {
      "text/html": [
       "<div>\n",
       "<style scoped>\n",
       "    .dataframe tbody tr th:only-of-type {\n",
       "        vertical-align: middle;\n",
       "    }\n",
       "\n",
       "    .dataframe tbody tr th {\n",
       "        vertical-align: top;\n",
       "    }\n",
       "\n",
       "    .dataframe thead th {\n",
       "        text-align: right;\n",
       "    }\n",
       "</style>\n",
       "<table border=\"1\" class=\"dataframe\">\n",
       "  <thead>\n",
       "    <tr style=\"text-align: right;\">\n",
       "      <th></th>\n",
       "      <th>Corr</th>\n",
       "    </tr>\n",
       "  </thead>\n",
       "  <tbody>\n",
       "    <tr>\n",
       "      <th>ab subtype 7 - cephalosporin_gen1</th>\n",
       "      <td>0.000003</td>\n",
       "    </tr>\n",
       "    <tr>\n",
       "      <th>medication 14 - penicillin</th>\n",
       "      <td>0.000029</td>\n",
       "    </tr>\n",
       "    <tr>\n",
       "      <th>ab subtype 7 - penicillins</th>\n",
       "      <td>0.000091</td>\n",
       "    </tr>\n",
       "    <tr>\n",
       "      <th>medication 180 - cefadroxil</th>\n",
       "      <td>0.000353</td>\n",
       "    </tr>\n",
       "    <tr>\n",
       "      <th>medication 30 - amoxicillin</th>\n",
       "      <td>0.000402</td>\n",
       "    </tr>\n",
       "    <tr>\n",
       "      <th>medication 14 - clarithromycin</th>\n",
       "      <td>0.000439</td>\n",
       "    </tr>\n",
       "    <tr>\n",
       "      <th>medication 7 - clarithromycin</th>\n",
       "      <td>0.000637</td>\n",
       "    </tr>\n",
       "    <tr>\n",
       "      <th>selected micro - colonization pressure SAM 90 - overall</th>\n",
       "      <td>0.000756</td>\n",
       "    </tr>\n",
       "    <tr>\n",
       "      <th>medication 7 - amoxicillin</th>\n",
       "      <td>0.000809</td>\n",
       "    </tr>\n",
       "    <tr>\n",
       "      <th>medication 30 - cefoxitin</th>\n",
       "      <td>0.000945</td>\n",
       "    </tr>\n",
       "    <tr>\n",
       "      <th>medication 90 - amoxicillin_clarithromycin</th>\n",
       "      <td>0.000994</td>\n",
       "    </tr>\n",
       "    <tr>\n",
       "      <th>ab class 90 - mixed</th>\n",
       "      <td>0.001201</td>\n",
       "    </tr>\n",
       "    <tr>\n",
       "      <th>medication 14 - minocycline</th>\n",
       "      <td>0.001210</td>\n",
       "    </tr>\n",
       "    <tr>\n",
       "      <th>ab subtype 14 - penicillins</th>\n",
       "      <td>0.001215</td>\n",
       "    </tr>\n",
       "    <tr>\n",
       "      <th>medication 14 - amoxicillin</th>\n",
       "      <td>0.001279</td>\n",
       "    </tr>\n",
       "    <tr>\n",
       "      <th>medication 30 - minocycline</th>\n",
       "      <td>0.001305</td>\n",
       "    </tr>\n",
       "    <tr>\n",
       "      <th>ab subtype 30 - penicillins</th>\n",
       "      <td>0.001337</td>\n",
       "    </tr>\n",
       "    <tr>\n",
       "      <th>medication 30 - penicillin</th>\n",
       "      <td>0.001422</td>\n",
       "    </tr>\n",
       "    <tr>\n",
       "      <th>medication 7 - penicillin</th>\n",
       "      <td>0.001624</td>\n",
       "    </tr>\n",
       "    <tr>\n",
       "      <th>medication 7 - dicloxacillin</th>\n",
       "      <td>0.001731</td>\n",
       "    </tr>\n",
       "    <tr>\n",
       "      <th>medication 90 - amoxicillin</th>\n",
       "      <td>0.001753</td>\n",
       "    </tr>\n",
       "    <tr>\n",
       "      <th>medication 30 - clarithromycin</th>\n",
       "      <td>0.002078</td>\n",
       "    </tr>\n",
       "    <tr>\n",
       "      <th>medication 14 - dicloxacillin</th>\n",
       "      <td>0.002313</td>\n",
       "    </tr>\n",
       "    <tr>\n",
       "      <th>medication 180 - minocycline</th>\n",
       "      <td>0.002446</td>\n",
       "    </tr>\n",
       "    <tr>\n",
       "      <th>medication 30 - dicloxacillin</th>\n",
       "      <td>0.002464</td>\n",
       "    </tr>\n",
       "    <tr>\n",
       "      <th>medication 90 - cefadroxil</th>\n",
       "      <td>0.002525</td>\n",
       "    </tr>\n",
       "    <tr>\n",
       "      <th>medication 180 - clarithromycin</th>\n",
       "      <td>0.002574</td>\n",
       "    </tr>\n",
       "    <tr>\n",
       "      <th>ab subtype 7 - cephalosporin_gen2</th>\n",
       "      <td>0.002773</td>\n",
       "    </tr>\n",
       "    <tr>\n",
       "      <th>medication 90 - clarithromycin</th>\n",
       "      <td>0.002982</td>\n",
       "    </tr>\n",
       "    <tr>\n",
       "      <th>ab subtype 90 - penicillins</th>\n",
       "      <td>0.003427</td>\n",
       "    </tr>\n",
       "  </tbody>\n",
       "</table>\n",
       "</div>"
      ],
      "text/plain": [
       "                                                        Corr\n",
       "ab subtype 7 - cephalosporin_gen1                   0.000003\n",
       "medication 14 - penicillin                          0.000029\n",
       "ab subtype 7 - penicillins                          0.000091\n",
       "medication 180 - cefadroxil                         0.000353\n",
       "medication 30 - amoxicillin                         0.000402\n",
       "medication 14 - clarithromycin                      0.000439\n",
       "medication 7 - clarithromycin                       0.000637\n",
       "selected micro - colonization pressure SAM 90 -...  0.000756\n",
       "medication 7 - amoxicillin                          0.000809\n",
       "medication 30 - cefoxitin                           0.000945\n",
       "medication 90 - amoxicillin_clarithromycin          0.000994\n",
       "ab class 90 - mixed                                 0.001201\n",
       "medication 14 - minocycline                         0.001210\n",
       "ab subtype 14 - penicillins                         0.001215\n",
       "medication 14 - amoxicillin                         0.001279\n",
       "medication 30 - minocycline                         0.001305\n",
       "ab subtype 30 - penicillins                         0.001337\n",
       "medication 30 - penicillin                          0.001422\n",
       "medication 7 - penicillin                           0.001624\n",
       "medication 7 - dicloxacillin                        0.001731\n",
       "medication 90 - amoxicillin                         0.001753\n",
       "medication 30 - clarithromycin                      0.002078\n",
       "medication 14 - dicloxacillin                       0.002313\n",
       "medication 180 - minocycline                        0.002446\n",
       "medication 30 - dicloxacillin                       0.002464\n",
       "medication 90 - cefadroxil                          0.002525\n",
       "medication 180 - clarithromycin                     0.002574\n",
       "ab subtype 7 - cephalosporin_gen2                   0.002773\n",
       "medication 90 - clarithromycin                      0.002982\n",
       "ab subtype 90 - penicillins                         0.003427"
      ]
     },
     "execution_count": 26,
     "metadata": {},
     "output_type": "execute_result"
    }
   ],
   "source": [
    "corr_df.sort_values(by = 'Corr').iloc[0:30]"
   ]
  },
  {
   "cell_type": "code",
   "execution_count": 27,
   "metadata": {},
   "outputs": [
    {
     "data": {
      "text/html": [
       "<div>\n",
       "<style scoped>\n",
       "    .dataframe tbody tr th:only-of-type {\n",
       "        vertical-align: middle;\n",
       "    }\n",
       "\n",
       "    .dataframe tbody tr th {\n",
       "        vertical-align: top;\n",
       "    }\n",
       "\n",
       "    .dataframe thead th {\n",
       "        text-align: right;\n",
       "    }\n",
       "</style>\n",
       "<table border=\"1\" class=\"dataframe\">\n",
       "  <thead>\n",
       "    <tr style=\"text-align: right;\">\n",
       "      <th></th>\n",
       "      <th>Corr</th>\n",
       "    </tr>\n",
       "  </thead>\n",
       "  <tbody>\n",
       "    <tr>\n",
       "      <th>medication 180 - vancomycin</th>\n",
       "      <td>0.241039</td>\n",
       "    </tr>\n",
       "    <tr>\n",
       "      <th>micro - prev resistance TET ALL</th>\n",
       "      <td>0.241039</td>\n",
       "    </tr>\n",
       "    <tr>\n",
       "      <th>micro - prev resistance AMP ALL</th>\n",
       "      <td>0.241222</td>\n",
       "    </tr>\n",
       "    <tr>\n",
       "      <th>medication 180 - ciprofloxacin</th>\n",
       "      <td>0.241933</td>\n",
       "    </tr>\n",
       "    <tr>\n",
       "      <th>micro - prev resistance ATM ALL</th>\n",
       "      <td>0.242160</td>\n",
       "    </tr>\n",
       "    <tr>\n",
       "      <th>medication 180 - levofloxacin</th>\n",
       "      <td>0.243543</td>\n",
       "    </tr>\n",
       "    <tr>\n",
       "      <th>ab subtype ALL - cephalosporin_gen3</th>\n",
       "      <td>0.244360</td>\n",
       "    </tr>\n",
       "    <tr>\n",
       "      <th>micro - prev resistance CRO ALL</th>\n",
       "      <td>0.245283</td>\n",
       "    </tr>\n",
       "    <tr>\n",
       "      <th>micro - prev resistance SXT ALL</th>\n",
       "      <td>0.245563</td>\n",
       "    </tr>\n",
       "    <tr>\n",
       "      <th>ab class ALL - fluoroquinolone</th>\n",
       "      <td>0.247856</td>\n",
       "    </tr>\n",
       "    <tr>\n",
       "      <th>micro - prev resistance ERY ALL</th>\n",
       "      <td>0.247924</td>\n",
       "    </tr>\n",
       "    <tr>\n",
       "      <th>micro - prev resistance AMP 90</th>\n",
       "      <td>0.247978</td>\n",
       "    </tr>\n",
       "    <tr>\n",
       "      <th>medication ALL - levofloxacin</th>\n",
       "      <td>0.252731</td>\n",
       "    </tr>\n",
       "    <tr>\n",
       "      <th>micro - prev resistance TET 180</th>\n",
       "      <td>0.252758</td>\n",
       "    </tr>\n",
       "    <tr>\n",
       "      <th>micro - prev resistance SXT 180</th>\n",
       "      <td>0.256619</td>\n",
       "    </tr>\n",
       "    <tr>\n",
       "      <th>micro - prev resistance GEN ALL</th>\n",
       "      <td>0.256994</td>\n",
       "    </tr>\n",
       "    <tr>\n",
       "      <th>micro - prev resistance AMP 180</th>\n",
       "      <td>0.268007</td>\n",
       "    </tr>\n",
       "    <tr>\n",
       "      <th>medication ALL - cefepime</th>\n",
       "      <td>0.268419</td>\n",
       "    </tr>\n",
       "    <tr>\n",
       "      <th>ab subtype ALL - cephalosporin_gen4</th>\n",
       "      <td>0.268419</td>\n",
       "    </tr>\n",
       "    <tr>\n",
       "      <th>ab class 30 - fluoroquinolone</th>\n",
       "      <td>0.272861</td>\n",
       "    </tr>\n",
       "    <tr>\n",
       "      <th>ab class ALL - glycopeptides</th>\n",
       "      <td>0.282547</td>\n",
       "    </tr>\n",
       "    <tr>\n",
       "      <th>medication ALL - vancomycin</th>\n",
       "      <td>0.282547</td>\n",
       "    </tr>\n",
       "    <tr>\n",
       "      <th>ab class 90 - fluoroquinolone</th>\n",
       "      <td>0.303889</td>\n",
       "    </tr>\n",
       "    <tr>\n",
       "      <th>ab class 180 - fluoroquinolone</th>\n",
       "      <td>0.306592</td>\n",
       "    </tr>\n",
       "    <tr>\n",
       "      <th>micro - prev resistance CIP 90</th>\n",
       "      <td>0.354870</td>\n",
       "    </tr>\n",
       "    <tr>\n",
       "      <th>micro - prev resistance LVX 90</th>\n",
       "      <td>0.355663</td>\n",
       "    </tr>\n",
       "    <tr>\n",
       "      <th>micro - prev resistance LVX 180</th>\n",
       "      <td>0.395578</td>\n",
       "    </tr>\n",
       "    <tr>\n",
       "      <th>micro - prev resistance CIP 180</th>\n",
       "      <td>0.395874</td>\n",
       "    </tr>\n",
       "    <tr>\n",
       "      <th>micro - prev resistance LVX ALL</th>\n",
       "      <td>0.404546</td>\n",
       "    </tr>\n",
       "    <tr>\n",
       "      <th>micro - prev resistance CIP ALL</th>\n",
       "      <td>0.406354</td>\n",
       "    </tr>\n",
       "  </tbody>\n",
       "</table>\n",
       "</div>"
      ],
      "text/plain": [
       "                                         Corr\n",
       "medication 180 - vancomycin          0.241039\n",
       "micro - prev resistance TET ALL      0.241039\n",
       "micro - prev resistance AMP ALL      0.241222\n",
       "medication 180 - ciprofloxacin       0.241933\n",
       "micro - prev resistance ATM ALL      0.242160\n",
       "medication 180 - levofloxacin        0.243543\n",
       "ab subtype ALL - cephalosporin_gen3  0.244360\n",
       "micro - prev resistance CRO ALL      0.245283\n",
       "micro - prev resistance SXT ALL      0.245563\n",
       "ab class ALL - fluoroquinolone       0.247856\n",
       "micro - prev resistance ERY ALL      0.247924\n",
       "micro - prev resistance AMP 90       0.247978\n",
       "medication ALL - levofloxacin        0.252731\n",
       "micro - prev resistance TET 180      0.252758\n",
       "micro - prev resistance SXT 180      0.256619\n",
       "micro - prev resistance GEN ALL      0.256994\n",
       "micro - prev resistance AMP 180      0.268007\n",
       "medication ALL - cefepime            0.268419\n",
       "ab subtype ALL - cephalosporin_gen4  0.268419\n",
       "ab class 30 - fluoroquinolone        0.272861\n",
       "ab class ALL - glycopeptides         0.282547\n",
       "medication ALL - vancomycin          0.282547\n",
       "ab class 90 - fluoroquinolone        0.303889\n",
       "ab class 180 - fluoroquinolone       0.306592\n",
       "micro - prev resistance CIP 90       0.354870\n",
       "micro - prev resistance LVX 90       0.355663\n",
       "micro - prev resistance LVX 180      0.395578\n",
       "micro - prev resistance CIP 180      0.395874\n",
       "micro - prev resistance LVX ALL      0.404546\n",
       "micro - prev resistance CIP ALL      0.406354"
      ]
     },
     "execution_count": 27,
     "metadata": {},
     "output_type": "execute_result"
    }
   ],
   "source": [
    "corr_df.sort_values(by = 'Corr').iloc[corr_df.shape[0]-30:]"
   ]
  },
  {
   "cell_type": "markdown",
   "metadata": {},
   "source": [
    "#### Follow-up question"
   ]
  },
  {
   "cell_type": "code",
   "execution_count": 122,
   "metadata": {},
   "outputs": [
    {
     "data": {
      "text/html": [
       "<div>\n",
       "<style scoped>\n",
       "    .dataframe tbody tr th:only-of-type {\n",
       "        vertical-align: middle;\n",
       "    }\n",
       "\n",
       "    .dataframe tbody tr th {\n",
       "        vertical-align: top;\n",
       "    }\n",
       "\n",
       "    .dataframe thead th {\n",
       "        text-align: right;\n",
       "    }\n",
       "</style>\n",
       "<table border=\"1\" class=\"dataframe\">\n",
       "  <thead>\n",
       "    <tr style=\"text-align: right;\">\n",
       "      <th></th>\n",
       "      <th>micro - prev resistance CIP ALL</th>\n",
       "      <th>micro - prev resistance CIP 180</th>\n",
       "      <th>micro - prev resistance CIP 90</th>\n",
       "      <th>micro - prev resistance CIP 30</th>\n",
       "      <th>micro - prev resistance CIP 14</th>\n",
       "      <th>CIP</th>\n",
       "    </tr>\n",
       "    <tr>\n",
       "      <th>example_id</th>\n",
       "      <th></th>\n",
       "      <th></th>\n",
       "      <th></th>\n",
       "      <th></th>\n",
       "      <th></th>\n",
       "      <th></th>\n",
       "    </tr>\n",
       "  </thead>\n",
       "  <tbody>\n",
       "    <tr>\n",
       "      <th>964</th>\n",
       "      <td>1.0</td>\n",
       "      <td>1.0</td>\n",
       "      <td>1.0</td>\n",
       "      <td>1.0</td>\n",
       "      <td>1.0</td>\n",
       "      <td>0.0</td>\n",
       "    </tr>\n",
       "    <tr>\n",
       "      <th>1053</th>\n",
       "      <td>1.0</td>\n",
       "      <td>1.0</td>\n",
       "      <td>1.0</td>\n",
       "      <td>1.0</td>\n",
       "      <td>1.0</td>\n",
       "      <td>0.0</td>\n",
       "    </tr>\n",
       "    <tr>\n",
       "      <th>1355</th>\n",
       "      <td>1.0</td>\n",
       "      <td>1.0</td>\n",
       "      <td>1.0</td>\n",
       "      <td>1.0</td>\n",
       "      <td>1.0</td>\n",
       "      <td>0.0</td>\n",
       "    </tr>\n",
       "    <tr>\n",
       "      <th>5138</th>\n",
       "      <td>1.0</td>\n",
       "      <td>1.0</td>\n",
       "      <td>1.0</td>\n",
       "      <td>1.0</td>\n",
       "      <td>1.0</td>\n",
       "      <td>0.0</td>\n",
       "    </tr>\n",
       "    <tr>\n",
       "      <th>7084</th>\n",
       "      <td>1.0</td>\n",
       "      <td>1.0</td>\n",
       "      <td>1.0</td>\n",
       "      <td>1.0</td>\n",
       "      <td>1.0</td>\n",
       "      <td>0.0</td>\n",
       "    </tr>\n",
       "    <tr>\n",
       "      <th>...</th>\n",
       "      <td>...</td>\n",
       "      <td>...</td>\n",
       "      <td>...</td>\n",
       "      <td>...</td>\n",
       "      <td>...</td>\n",
       "      <td>...</td>\n",
       "    </tr>\n",
       "    <tr>\n",
       "      <th>111450</th>\n",
       "      <td>1.0</td>\n",
       "      <td>1.0</td>\n",
       "      <td>1.0</td>\n",
       "      <td>1.0</td>\n",
       "      <td>1.0</td>\n",
       "      <td>0.0</td>\n",
       "    </tr>\n",
       "    <tr>\n",
       "      <th>111745</th>\n",
       "      <td>1.0</td>\n",
       "      <td>1.0</td>\n",
       "      <td>1.0</td>\n",
       "      <td>1.0</td>\n",
       "      <td>1.0</td>\n",
       "      <td>0.0</td>\n",
       "    </tr>\n",
       "    <tr>\n",
       "      <th>115271</th>\n",
       "      <td>1.0</td>\n",
       "      <td>1.0</td>\n",
       "      <td>1.0</td>\n",
       "      <td>1.0</td>\n",
       "      <td>1.0</td>\n",
       "      <td>0.0</td>\n",
       "    </tr>\n",
       "    <tr>\n",
       "      <th>115779</th>\n",
       "      <td>1.0</td>\n",
       "      <td>1.0</td>\n",
       "      <td>1.0</td>\n",
       "      <td>1.0</td>\n",
       "      <td>1.0</td>\n",
       "      <td>0.0</td>\n",
       "    </tr>\n",
       "    <tr>\n",
       "      <th>116665</th>\n",
       "      <td>1.0</td>\n",
       "      <td>1.0</td>\n",
       "      <td>1.0</td>\n",
       "      <td>1.0</td>\n",
       "      <td>1.0</td>\n",
       "      <td>0.0</td>\n",
       "    </tr>\n",
       "  </tbody>\n",
       "</table>\n",
       "<p>154 rows × 6 columns</p>\n",
       "</div>"
      ],
      "text/plain": [
       "            micro - prev resistance CIP ALL  micro - prev resistance CIP 180  \\\n",
       "example_id                                                                     \n",
       "964                                     1.0                              1.0   \n",
       "1053                                    1.0                              1.0   \n",
       "1355                                    1.0                              1.0   \n",
       "5138                                    1.0                              1.0   \n",
       "7084                                    1.0                              1.0   \n",
       "...                                     ...                              ...   \n",
       "111450                                  1.0                              1.0   \n",
       "111745                                  1.0                              1.0   \n",
       "115271                                  1.0                              1.0   \n",
       "115779                                  1.0                              1.0   \n",
       "116665                                  1.0                              1.0   \n",
       "\n",
       "            micro - prev resistance CIP 90  micro - prev resistance CIP 30  \\\n",
       "example_id                                                                   \n",
       "964                                    1.0                             1.0   \n",
       "1053                                   1.0                             1.0   \n",
       "1355                                   1.0                             1.0   \n",
       "5138                                   1.0                             1.0   \n",
       "7084                                   1.0                             1.0   \n",
       "...                                    ...                             ...   \n",
       "111450                                 1.0                             1.0   \n",
       "111745                                 1.0                             1.0   \n",
       "115271                                 1.0                             1.0   \n",
       "115779                                 1.0                             1.0   \n",
       "116665                                 1.0                             1.0   \n",
       "\n",
       "            micro - prev resistance CIP 14  CIP  \n",
       "example_id                                       \n",
       "964                                    1.0  0.0  \n",
       "1053                                   1.0  0.0  \n",
       "1355                                   1.0  0.0  \n",
       "5138                                   1.0  0.0  \n",
       "7084                                   1.0  0.0  \n",
       "...                                    ...  ...  \n",
       "111450                                 1.0  0.0  \n",
       "111745                                 1.0  0.0  \n",
       "115271                                 1.0  0.0  \n",
       "115779                                 1.0  0.0  \n",
       "116665                                 1.0  0.0  \n",
       "\n",
       "[154 rows x 6 columns]"
      ]
     },
     "execution_count": 122,
     "metadata": {},
     "output_type": "execute_result"
    }
   ],
   "source": [
    "followup_df = cip_df[['micro - prev resistance CIP ALL', 'micro - prev resistance CIP 180', 'micro - prev resistance CIP 90', 'micro - prev resistance CIP 30', 'micro - prev resistance CIP 14', 'CIP']]\n",
    "followup_df[((followup_df['micro - prev resistance CIP 14'] == 1) & (followup_df['CIP'] == 0))]"
   ]
  },
  {
   "cell_type": "markdown",
   "metadata": {},
   "source": [
    "-> How can the resistance vanish?"
   ]
  },
  {
   "cell_type": "markdown",
   "metadata": {},
   "source": [
    "## Explanations through PCA - How much can be explained in low dimensions?"
   ]
  },
  {
   "cell_type": "code",
   "execution_count": null,
   "metadata": {},
   "outputs": [],
   "source": []
  },
  {
   "cell_type": "markdown",
   "metadata": {},
   "source": [
    "## Resistance data availability"
   ]
  },
  {
   "cell_type": "code",
   "execution_count": 55,
   "metadata": {},
   "outputs": [],
   "source": [
    "data_availability_df = pd.DataFrame()"
   ]
  },
  {
   "cell_type": "code",
   "execution_count": 56,
   "metadata": {},
   "outputs": [],
   "source": [
    "data_availability_df['available'] = resistance.count()"
   ]
  },
  {
   "cell_type": "code",
   "execution_count": 57,
   "metadata": {},
   "outputs": [],
   "source": [
    "data_availability_df['positives'] = resistance.sum()"
   ]
  },
  {
   "cell_type": "code",
   "execution_count": 58,
   "metadata": {},
   "outputs": [],
   "source": [
    "data_availability_df['negatives'] = data_availability_df['available'] - data_availability_df['positives']"
   ]
  },
  {
   "cell_type": "code",
   "execution_count": 59,
   "metadata": {},
   "outputs": [],
   "source": [
    "data_availability_df['unavailable'] = resistance.shape[0] - data_availability_df['available']"
   ]
  },
  {
   "cell_type": "code",
   "execution_count": 79,
   "metadata": {},
   "outputs": [
    {
     "data": {
      "text/html": [
       "<div>\n",
       "<style scoped>\n",
       "    .dataframe tbody tr th:only-of-type {\n",
       "        vertical-align: middle;\n",
       "    }\n",
       "\n",
       "    .dataframe tbody tr th {\n",
       "        vertical-align: top;\n",
       "    }\n",
       "\n",
       "    .dataframe thead th {\n",
       "        text-align: right;\n",
       "    }\n",
       "</style>\n",
       "<table border=\"1\" class=\"dataframe\">\n",
       "  <thead>\n",
       "    <tr style=\"text-align: right;\">\n",
       "      <th></th>\n",
       "      <th>available</th>\n",
       "      <th>positives</th>\n",
       "      <th>negatives</th>\n",
       "      <th>unavailable</th>\n",
       "    </tr>\n",
       "  </thead>\n",
       "  <tbody>\n",
       "    <tr>\n",
       "      <th>NIT</th>\n",
       "      <td>111859</td>\n",
       "      <td>24333.0</td>\n",
       "      <td>87526.0</td>\n",
       "      <td>5043</td>\n",
       "    </tr>\n",
       "    <tr>\n",
       "      <th>SXT</th>\n",
       "      <td>103654</td>\n",
       "      <td>26043.0</td>\n",
       "      <td>77611.0</td>\n",
       "      <td>13248</td>\n",
       "    </tr>\n",
       "    <tr>\n",
       "      <th>CIP</th>\n",
       "      <td>110761</td>\n",
       "      <td>23509.0</td>\n",
       "      <td>87252.0</td>\n",
       "      <td>6141</td>\n",
       "    </tr>\n",
       "    <tr>\n",
       "      <th>LVX</th>\n",
       "      <td>115925</td>\n",
       "      <td>25607.0</td>\n",
       "      <td>90318.0</td>\n",
       "      <td>977</td>\n",
       "    </tr>\n",
       "    <tr>\n",
       "      <th>is_train</th>\n",
       "      <td>116902</td>\n",
       "      <td>80962.0</td>\n",
       "      <td>35940.0</td>\n",
       "      <td>0</td>\n",
       "    </tr>\n",
       "    <tr>\n",
       "      <th>uncomplicated</th>\n",
       "      <td>116902</td>\n",
       "      <td>15806.0</td>\n",
       "      <td>101096.0</td>\n",
       "      <td>0</td>\n",
       "    </tr>\n",
       "  </tbody>\n",
       "</table>\n",
       "</div>"
      ],
      "text/plain": [
       "               available  positives  negatives  unavailable\n",
       "NIT               111859    24333.0    87526.0         5043\n",
       "SXT               103654    26043.0    77611.0        13248\n",
       "CIP               110761    23509.0    87252.0         6141\n",
       "LVX               115925    25607.0    90318.0          977\n",
       "is_train          116902    80962.0    35940.0            0\n",
       "uncomplicated     116902    15806.0   101096.0            0"
      ]
     },
     "execution_count": 79,
     "metadata": {},
     "output_type": "execute_result"
    }
   ],
   "source": [
    "data_availability_df"
   ]
  },
  {
   "cell_type": "code",
   "execution_count": 81,
   "metadata": {},
   "outputs": [
    {
     "data": {
      "text/html": [
       "<div>\n",
       "<style scoped>\n",
       "    .dataframe tbody tr th:only-of-type {\n",
       "        vertical-align: middle;\n",
       "    }\n",
       "\n",
       "    .dataframe tbody tr th {\n",
       "        vertical-align: top;\n",
       "    }\n",
       "\n",
       "    .dataframe thead th {\n",
       "        text-align: right;\n",
       "    }\n",
       "</style>\n",
       "<table border=\"1\" class=\"dataframe\">\n",
       "  <thead>\n",
       "    <tr style=\"text-align: right;\">\n",
       "      <th></th>\n",
       "      <th>available</th>\n",
       "      <th>positives</th>\n",
       "      <th>negatives</th>\n",
       "      <th>unavailable</th>\n",
       "    </tr>\n",
       "  </thead>\n",
       "  <tbody>\n",
       "    <tr>\n",
       "      <th>NIT</th>\n",
       "      <td>15806</td>\n",
       "      <td>1756.0</td>\n",
       "      <td>14050.0</td>\n",
       "      <td>0</td>\n",
       "    </tr>\n",
       "    <tr>\n",
       "      <th>SXT</th>\n",
       "      <td>15806</td>\n",
       "      <td>3095.0</td>\n",
       "      <td>12711.0</td>\n",
       "      <td>0</td>\n",
       "    </tr>\n",
       "    <tr>\n",
       "      <th>CIP</th>\n",
       "      <td>15806</td>\n",
       "      <td>885.0</td>\n",
       "      <td>14921.0</td>\n",
       "      <td>0</td>\n",
       "    </tr>\n",
       "    <tr>\n",
       "      <th>LVX</th>\n",
       "      <td>15806</td>\n",
       "      <td>866.0</td>\n",
       "      <td>14940.0</td>\n",
       "      <td>0</td>\n",
       "    </tr>\n",
       "    <tr>\n",
       "      <th>is_train</th>\n",
       "      <td>15806</td>\n",
       "      <td>11865.0</td>\n",
       "      <td>3941.0</td>\n",
       "      <td>0</td>\n",
       "    </tr>\n",
       "    <tr>\n",
       "      <th>uncomplicated</th>\n",
       "      <td>15806</td>\n",
       "      <td>15806.0</td>\n",
       "      <td>0.0</td>\n",
       "      <td>0</td>\n",
       "    </tr>\n",
       "  </tbody>\n",
       "</table>\n",
       "</div>"
      ],
      "text/plain": [
       "               available  positives  negatives  unavailable\n",
       "NIT                15806     1756.0    14050.0            0\n",
       "SXT                15806     3095.0    12711.0            0\n",
       "CIP                15806      885.0    14921.0            0\n",
       "LVX                15806      866.0    14940.0            0\n",
       "is_train           15806    11865.0     3941.0            0\n",
       "uncomplicated      15806    15806.0        0.0            0"
      ]
     },
     "execution_count": 81,
     "metadata": {},
     "output_type": "execute_result"
    }
   ],
   "source": [
    "unc_data_availability_df = pd.DataFrame()\n",
    "unc_data_availability_df['available'] = resistance[resistance['uncomplicated'] == 1].count()\n",
    "unc_data_availability_df['positives'] = resistance[resistance['uncomplicated'] == 1].sum()\n",
    "unc_data_availability_df['negatives'] = unc_data_availability_df['available'] - unc_data_availability_df['positives']\n",
    "unc_data_availability_df['unavailable'] = resistance[resistance['uncomplicated'] == 1].shape[0] - unc_data_availability_df['available']\n",
    "unc_data_availability_df"
   ]
  },
  {
   "cell_type": "code",
   "execution_count": 61,
   "metadata": {},
   "outputs": [
    {
     "data": {
      "text/plain": [
       "Text(0.5, 1.0, 'Data Availability of Resistance Tests')"
      ]
     },
     "execution_count": 61,
     "metadata": {},
     "output_type": "execute_result"
    },
    {
     "data": {
      "image/png": "[encoded data removed]",
      "text/plain": [
       "<Figure size 432x288 with 1 Axes>"
      ]
     },
     "metadata": {
      "needs_background": "light"
     },
     "output_type": "display_data"
    }
   ],
   "source": [
    "data_availability_df.iloc[0:4, 1:].plot(kind = 'bar', stacked = True).set_title('Data Availability of Resistance Tests')"
   ]
  },
  {
   "cell_type": "code",
   "execution_count": 83,
   "metadata": {},
   "outputs": [
    {
     "data": {
      "text/plain": [
       "Text(0.5, 1.0, 'Data Availability of Resistance Tests for Uncomplicated cases')"
      ]
     },
     "execution_count": 83,
     "metadata": {},
     "output_type": "execute_result"
    },
    {
     "data": {
      "image/png": "[encoded data removed]",
      "text/plain": [
       "<Figure size 432x288 with 1 Axes>"
      ]
     },
     "metadata": {
      "needs_background": "light"
     },
     "output_type": "display_data"
    }
   ],
   "source": [
    "unc_data_availability_df.iloc[0:4, 1:].plot(kind = 'bar', stacked = True).set_title('Data Availability of Resistance Tests for Uncomplicated cases')"
   ]
  },
  {
   "cell_type": "code",
   "execution_count": null,
   "metadata": {},
   "outputs": [],
   "source": []
  }
 ],
 "metadata": {
  "kernelspec": {
   "display_name": "Python 3",
   "language": "python",
   "name": "python3"
  },
  "language_info": {
   "codemirror_mode": {
    "name": "ipython",
    "version": 3
   },
   "file_extension": ".py",
   "mimetype": "text/x-python",
   "name": "python",
   "nbconvert_exporter": "python",
   "pygments_lexer": "ipython3",
   "version": "3.7.6"
  }
 },
 "nbformat": 4,
 "nbformat_minor": 4
}
