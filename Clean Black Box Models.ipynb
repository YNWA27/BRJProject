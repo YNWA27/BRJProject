{
 "cells": [
  {
   "cell_type": "markdown",
   "metadata": {},
   "source": [
    "# Ideas & Stuff that needs to be done:\n",
    "- Good data splits\n",
    "- Feature Importance\n",
    "- Comparison of uncomplicated vs. complicated\n",
    "- Do result visualization (e.g. ROC/AUC)\n",
    "- Feature Selection comparison\n",
    "- Include recommendations based on predictions"
   ]
  },
  {
   "cell_type": "code",
   "execution_count": 110,
   "metadata": {},
   "outputs": [],
   "source": [
    "import pandas as pd\n",
    "from sklearn.model_selection import train_test_split\n",
    "import seaborn as sns\n",
    "import matplotlib.pyplot as plt\n",
    "import numpy as np"
   ]
  },
  {
   "cell_type": "code",
   "execution_count": 111,
   "metadata": {},
   "outputs": [],
   "source": [
    "features = pd.read_csv('all_uti_features.csv', index_col = 'example_id')\n",
    "prescrip = pd.read_csv('all_prescriptions.csv', index_col = 'example_id')\n",
    "resistance = pd.read_csv('all_uti_resist_labels.csv', index_col = 'example_id')"
   ]
  },
  {
   "cell_type": "markdown",
   "metadata": {},
   "source": [
    "### For us, resistance to SXT and CIP is the target variable to predict!"
   ]
  },
  {
   "cell_type": "code",
   "execution_count": 272,
   "metadata": {},
   "outputs": [],
   "source": [
    "cip_df = resistance[['CIP']].join(features)"
   ]
  },
  {
   "cell_type": "markdown",
   "metadata": {},
   "source": [
    "## Divide into train & test data\n",
    "\n",
    "- Don't touch the test data afterwards!\n",
    "- Avoid having the same person in train & test data -> data leakage "
   ]
  },
  {
   "cell_type": "code",
   "execution_count": 273,
   "metadata": {},
   "outputs": [],
   "source": [
    "from sklearn.model_selection import train_test_split"
   ]
  },
  {
   "cell_type": "code",
   "execution_count": 274,
   "metadata": {},
   "outputs": [],
   "source": [
    "cip_df = cip_df.drop(cip_df.columns[cip_df.columns.str.contains('selected micro - ', regex=True, na=True)], axis = 1)"
   ]
  },
  {
   "cell_type": "code",
   "execution_count": 277,
   "metadata": {},
   "outputs": [],
   "source": [
    "cip_df.drop('is_train', axis = 1, inplace = True)\n",
    "cip_df.drop('uncomplicated', axis = 1, inplace = True)"
   ]
  },
  {
   "cell_type": "code",
   "execution_count": 278,
   "metadata": {},
   "outputs": [],
   "source": [
    "cip_y = cip_df[['CIP']]\n",
    "cip_X = cip_df.drop('CIP', axis = 1)"
   ]
  },
  {
   "cell_type": "code",
   "execution_count": 279,
   "metadata": {},
   "outputs": [],
   "source": [
    "X_train, X_test, y_train, y_test = train_test_split(cip_X, cip_y, train_size = 0.7)"
   ]
  },
  {
   "cell_type": "code",
   "execution_count": 280,
   "metadata": {},
   "outputs": [
    {
     "name": "stderr",
     "output_type": "stream",
     "text": [
      "C:\\Users\\benne\\anaconda3\\lib\\site-packages\\ipykernel_launcher.py:1: SettingWithCopyWarning: \n",
      "A value is trying to be set on a copy of a slice from a DataFrame.\n",
      "Try using .loc[row_indexer,col_indexer] = value instead\n",
      "\n",
      "See the caveats in the documentation: https://pandas.pydata.org/pandas-docs/stable/user_guide/indexing.html#returning-a-view-versus-a-copy\n",
      "  \"\"\"Entry point for launching an IPython kernel.\n",
      "C:\\Users\\benne\\anaconda3\\lib\\site-packages\\ipykernel_launcher.py:2: SettingWithCopyWarning: \n",
      "A value is trying to be set on a copy of a slice from a DataFrame.\n",
      "Try using .loc[row_indexer,col_indexer] = value instead\n",
      "\n",
      "See the caveats in the documentation: https://pandas.pydata.org/pandas-docs/stable/user_guide/indexing.html#returning-a-view-versus-a-copy\n",
      "  \n"
     ]
    }
   ],
   "source": [
    "X_train['CIP'] = y_train['CIP']\n",
    "X_test['CIP'] = y_test['CIP']"
   ]
  },
  {
   "cell_type": "code",
   "execution_count": 281,
   "metadata": {},
   "outputs": [
    {
     "name": "stderr",
     "output_type": "stream",
     "text": [
      "C:\\Users\\benne\\anaconda3\\lib\\site-packages\\ipykernel_launcher.py:1: SettingWithCopyWarning: \n",
      "A value is trying to be set on a copy of a slice from a DataFrame\n",
      "\n",
      "See the caveats in the documentation: https://pandas.pydata.org/pandas-docs/stable/user_guide/indexing.html#returning-a-view-versus-a-copy\n",
      "  \"\"\"Entry point for launching an IPython kernel.\n",
      "C:\\Users\\benne\\anaconda3\\lib\\site-packages\\ipykernel_launcher.py:2: SettingWithCopyWarning: \n",
      "A value is trying to be set on a copy of a slice from a DataFrame\n",
      "\n",
      "See the caveats in the documentation: https://pandas.pydata.org/pandas-docs/stable/user_guide/indexing.html#returning-a-view-versus-a-copy\n",
      "  \n"
     ]
    }
   ],
   "source": [
    "X_train.dropna(inplace = True)\n",
    "X_test.dropna(inplace = True)"
   ]
  },
  {
   "cell_type": "code",
   "execution_count": 286,
   "metadata": {},
   "outputs": [],
   "source": [
    "y_train = X_train['CIP']\n",
    "X_train = X_train.drop('CIP', axis = 1)\n",
    "y_test = X_test['CIP']\n",
    "X_test = X_test.drop('CIP', axis = 1)"
   ]
  },
  {
   "cell_type": "markdown",
   "metadata": {},
   "source": [
    "## Feature Reduction"
   ]
  },
  {
   "cell_type": "markdown",
   "metadata": {},
   "source": [
    "#### Eliminate sparse binary features"
   ]
  },
  {
   "cell_type": "code",
   "execution_count": 287,
   "metadata": {},
   "outputs": [
    {
     "name": "stdout",
     "output_type": "stream",
     "text": [
      "micro - prev resistance SAM 14    73.0\n",
      "dtype: float64\n",
      "micro - prev resistance CTT 90    59.0\n",
      "dtype: float64\n",
      "ab class 7 - ansamycin    27.0\n",
      "dtype: float64\n",
      "medication 7 - ceftazidime    30.0\n",
      "dtype: float64\n",
      "medication 7 - tetracycline    14.0\n",
      "dtype: float64\n",
      "medication 7 - dicloxacillin    29.0\n",
      "dtype: float64\n",
      "medication 7 - cefuroxime    22.0\n",
      "dtype: float64\n",
      "medication 7 - minocycline    18.0\n",
      "dtype: float64\n",
      "medication 7 - rifampin    27.0\n",
      "dtype: float64\n",
      "medication 7 - clarithromycin    41.0\n",
      "dtype: float64\n",
      "medication 7 - nafcillin    57.0\n",
      "dtype: float64\n",
      "medication 7 - erythromycin    67.0\n",
      "dtype: float64\n",
      "medication 7 - cefadroxil    13.0\n",
      "dtype: float64\n",
      "ab class 14 - ansamycin    56.0\n",
      "dtype: float64\n",
      "medication 14 - tetracycline    30.0\n",
      "dtype: float64\n",
      "medication 14 - dicloxacillin    50.0\n",
      "dtype: float64\n",
      "medication 14 - clarithromycin    76.0\n",
      "dtype: float64\n",
      "medication 14 - moxifloxacin    59.0\n",
      "dtype: float64\n",
      "medication 14 - cefuroxime    61.0\n",
      "dtype: float64\n",
      "medication 14 - minocycline    31.0\n",
      "dtype: float64\n",
      "medication 14 - rifampin    56.0\n",
      "dtype: float64\n",
      "medication 14 - cefadroxil    23.0\n",
      "dtype: float64\n",
      "medication 30 - tetracycline    57.0\n",
      "dtype: float64\n",
      "medication 30 - minocycline    70.0\n",
      "dtype: float64\n",
      "medication 30 - cefadroxil    46.0\n",
      "dtype: float64\n",
      "ab class 90 - mixed    67.0\n",
      "dtype: float64\n",
      "medication 90 - cefprozil    18.0\n",
      "dtype: float64\n",
      "medication 90 - cefaclor    17.0\n",
      "dtype: float64\n",
      "medication 90 - amoxicillin_clarithromycin    58.0\n",
      "dtype: float64\n",
      "medication 180 - ofloxacin    23.0\n",
      "dtype: float64\n",
      "medication 180 - cefaclor    31.0\n",
      "dtype: float64\n",
      "medication 180 - cefprozil    25.0\n",
      "dtype: float64\n",
      "infection_sites - MUCOCUTANEOUS    23.0\n",
      "dtype: float64\n",
      "infection_sites - GENITOURINARY    51.0\n",
      "dtype: float64\n"
     ]
    }
   ],
   "source": [
    "for feature in X_train.columns:\n",
    "    if X_train[feature].unique().shape[0] == 2: # Check if variable is binary\n",
    "        if (X_train[feature].sum() / X_train.shape[0]) <= 0.001: # Check if positive patients are sparse\n",
    "            print(X_train[[feature]].sum())\n",
    "            X_train.drop(feature, axis = 1, inplace = True)\n",
    "            X_test.drop(feature, axis = 1, inplace = True)"
   ]
  },
  {
   "cell_type": "code",
   "execution_count": 288,
   "metadata": {},
   "outputs": [
    {
     "data": {
      "text/plain": [
       "Index(['demographics - age', 'demographics - is_white',\n",
       "       'demographics - is_veteran', 'micro - prev resistance LVX 14',\n",
       "       'micro - prev resistance AMP 14', 'micro - prev resistance CFZ 14',\n",
       "       'micro - prev resistance NIT 14', 'micro - prev resistance GEN 14',\n",
       "       'micro - prev resistance SXT 14', 'micro - prev resistance TET 14',\n",
       "       ...\n",
       "       'custom 30 - nursing home', 'custom 90 - nursing home',\n",
       "       'infection_sites - RESPIRATORY_TRACT', 'infection_sites - BLOOD',\n",
       "       'infection_sites - SKIN_SOFTTISSUE',\n",
       "       'infection_sites - ABSCESS_OR_FLUID_NOS', 'hosp ward - ER',\n",
       "       'hosp ward - ICU', 'hosp ward - IP', 'hosp ward - OP'],\n",
       "      dtype='object', length=680)"
      ]
     },
     "execution_count": 288,
     "metadata": {},
     "output_type": "execute_result"
    }
   ],
   "source": [
    "X_train.columns"
   ]
  },
  {
   "cell_type": "markdown",
   "metadata": {},
   "source": [
    "## Feature Selection"
   ]
  },
  {
   "cell_type": "code",
   "execution_count": 289,
   "metadata": {},
   "outputs": [
    {
     "data": {
      "text/plain": [
       "<matplotlib.axes._subplots.AxesSubplot at 0x2999a8b4608>"
      ]
     },
     "execution_count": 289,
     "metadata": {},
     "output_type": "execute_result"
    },
    {
     "data": {
      "image/png": "[encoded data removed]",
      "text/plain": [
       "<Figure size 432x288 with 2 Axes>"
      ]
     },
     "metadata": {
      "needs_background": "light"
     },
     "output_type": "display_data"
    }
   ],
   "source": [
    "sns.heatmap(np.corrcoef(X_train.join(y_train), rowvar = False))"
   ]
  },
  {
   "cell_type": "code",
   "execution_count": 290,
   "metadata": {},
   "outputs": [
    {
     "data": {
      "text/plain": [
       "array([ 2.05535335e-01,  1.79816038e-02,  8.66267813e-02,  1.01192772e-01,\n",
       "        7.63656216e-02,  5.83741420e-02,  5.94563789e-02,  4.96773404e-02,\n",
       "        5.97409461e-02,  6.70273794e-02,  4.54192750e-02,  9.24542622e-02,\n",
       "        1.22496190e-01,  8.32431599e-02,  5.32587420e-02,  5.04305035e-02,\n",
       "        1.68513995e-01,  1.33855595e-01,  9.83533810e-02,  2.32119137e-01,\n",
       "        6.59426846e-02,  4.43363023e-02,  1.26660254e-01,  1.51824077e-01,\n",
       "        2.30682991e-01,  1.29358183e-01,  1.26660525e-01,  1.41661652e-01,\n",
       "        1.14196875e-01,  1.14576298e-01,  6.17540708e-02,  7.16370425e-02,\n",
       "        8.05277687e-02,  8.69868941e-02,  3.30110123e-02,  6.54673010e-02,\n",
       "        4.59181815e-02,  1.69983851e-01,  2.47233370e-01,  1.75676897e-01,\n",
       "        1.08714176e-01,  3.51196103e-01,  1.95663883e-01,  5.86900660e-02,\n",
       "        9.93998104e-02,  2.25682818e-01,  2.22262413e-01,  1.92668327e-01,\n",
       "        3.52216541e-01,  1.89057960e-01,  1.41958593e-01,  1.59682329e-01,\n",
       "        1.89392149e-01,  5.11121963e-02,  9.24527293e-02,  6.02147096e-02,\n",
       "        8.49229836e-02,  1.08837826e-01,  2.02436650e-01,  1.11188086e-01,\n",
       "        8.17343726e-02,  1.09839962e-01,  1.50988151e-01,  1.21892158e-01,\n",
       "        8.39447320e-02,  4.51336906e-02,  1.37634105e-01,  5.76954735e-02,\n",
       "        8.40370536e-02,  1.14809134e-01,  6.92374722e-02,  3.92012140e-01,\n",
       "        2.68247226e-01,  2.06278862e-01,  3.92516066e-01,  2.28775230e-01,\n",
       "        1.15330288e-01,  2.02996053e-01,  1.26166641e-01,  9.60830982e-02,\n",
       "        1.26737988e-01,  2.17041414e-01,  1.67987750e-01,  1.87961428e-01,\n",
       "        1.28754934e-01,  7.05505328e-02,  7.22639386e-02,  1.14292383e-01,\n",
       "        1.02947233e-01,  2.49882058e-01,  1.95785558e-01,  9.65943367e-02,\n",
       "        1.25012808e-01,  6.13331007e-02,  2.18165532e-01,  3.57220681e-02,\n",
       "        1.70398487e-01,  2.10454879e-01,  2.53886491e-01,  1.68390450e-01,\n",
       "        1.38288955e-01,  7.62254374e-02,  5.10786504e-02,  1.51384690e-01,\n",
       "        7.20387139e-02,  1.03743562e-01,  1.36937925e-01,  8.11279607e-02,\n",
       "        1.74475223e-01,  2.45700722e-01,  4.04140923e-01,  2.15448539e-01,\n",
       "        2.25971666e-01,  2.39401927e-01,  2.40331347e-01,  4.06363815e-01,\n",
       "        2.44303947e-01,  9.93176709e-02,  1.45215215e-01,  2.25301586e-01,\n",
       "        2.17519376e-01,  1.57878335e-01,  1.80619367e-01,  2.13455905e-01,\n",
       "        2.41957924e-01,  1.58825251e-01,  2.43896725e-01,  2.14558562e-01,\n",
       "        1.06199061e-01,  1.44378162e-01,  2.57217900e-01,  1.12868801e-01,\n",
       "        1.03631054e-01,  1.30709310e-01,  6.59331488e-02,  1.62183292e-01,\n",
       "        1.65186281e-01,  1.40425972e-01,  1.69824976e-01,  8.18671400e-02,\n",
       "        1.56884382e-01,  1.40432750e-01,  1.10505471e-01,  1.85482836e-01,\n",
       "        1.01343434e-01,  1.64282582e-01,  3.96366869e-02,  4.66556890e-02,\n",
       "        1.97988131e-02,  2.62647001e-02,  4.56361089e-02,  4.07757051e-02,\n",
       "        4.17578533e-02,  1.68409796e-02,  1.38297355e-01,  9.23604556e-02,\n",
       "        3.96366869e-02,  4.66556890e-02,  8.80039265e-03,  1.52871540e-02,\n",
       "        2.62647001e-02,  4.49658064e-02, -5.89596258e-04,  1.88181386e-02,\n",
       "        3.61832966e-02,  3.40289459e-04,  2.39056660e-02,  1.55703025e-02,\n",
       "        2.77580325e-02, -3.47751861e-04, -2.00999897e-03,  3.96286829e-02,\n",
       "        2.98850744e-02,  5.40146335e-02,  8.70061292e-03,  3.04151873e-03,\n",
       "        2.78347858e-02,  2.21503562e-01,  4.84371812e-02,  7.16081225e-02,\n",
       "        7.46848438e-02,  2.85446699e-02,  6.85929643e-02,  7.73098825e-02,\n",
       "        5.80384427e-02,  2.50183357e-02,  1.78882444e-01,  4.84371812e-02,\n",
       "        1.35255678e-01,  7.16081225e-02,  7.46848438e-02,  1.55889025e-02,\n",
       "        1.86454393e-02,  2.52773135e-02,  6.69388601e-02,  2.97379464e-02,\n",
       "        4.92361264e-02,  2.74488217e-03,  2.34390541e-02, -2.81627509e-04,\n",
       "        3.88323743e-02,  4.22793368e-02,  1.83416971e-02,  1.23877737e-02,\n",
       "        2.50183357e-02,  4.45097406e-02,  5.37856173e-02,  2.35067569e-03,\n",
       "        7.16511613e-03,  1.15860853e-02,  7.90371061e-02,  9.33999689e-03,\n",
       "        3.81914962e-02,  3.57468568e-02,  2.74392141e-01,  6.28503463e-02,\n",
       "        1.28712730e-01,  1.07562754e-01,  1.34390279e-01,  8.64157623e-02,\n",
       "        7.54971679e-02,  4.81666865e-02,  4.55927145e-02,  3.61183963e-02,\n",
       "        1.21769493e-02,  2.23331939e-02,  3.11389849e-02,  2.16783871e-01,\n",
       "        6.28503463e-02,  1.80552264e-01,  1.28712730e-01,  1.07562754e-01,\n",
       "        3.76351023e-03,  2.51488450e-02,  3.36846795e-02,  1.58138290e-02,\n",
       "        8.34929937e-02,  3.74333135e-02,  2.28637983e-03,  6.48017009e-02,\n",
       "        4.81666865e-02,  3.11567978e-02,  3.59140153e-03,  9.88940625e-02,\n",
       "       -1.84722668e-04,  5.56386996e-02, -4.29093503e-05,  5.56661592e-02,\n",
       "        2.71010532e-02,  3.61183963e-02,  2.22555192e-02,  3.72589674e-02,\n",
       "        1.73188172e-02,  2.12643287e-02,  1.21769493e-02,  2.88409680e-02,\n",
       "        6.54344460e-02,  1.63961994e-03,  7.01933522e-02,  1.58214306e-02,\n",
       "        1.20752011e-01,  1.86594029e-02,  5.16231740e-02,  3.05845678e-01,\n",
       "        5.65330768e-02,  8.92602483e-02,  1.96293201e-01,  2.01138375e-01,\n",
       "        1.35429298e-01,  1.02040787e-01,  8.78594904e-02,  5.37269908e-02,\n",
       "        6.29618776e-02,  7.73690807e-02,  1.29398085e-01,  1.77386059e-02,\n",
       "        2.86790662e-02,  2.39175722e-01,  9.44644792e-03,  3.93159487e-02,\n",
       "        2.21292572e-01,  8.92602483e-02,  6.11532767e-02,  2.01138375e-01,\n",
       "        1.88024201e-01,  1.35429298e-01,  9.75263437e-02,  3.70966874e-02,\n",
       "        8.52371519e-02,  7.70428783e-02,  3.84375492e-03,  1.58519792e-01,\n",
       "        5.12364262e-02,  5.01654378e-02,  4.54623947e-02,  3.42433618e-02,\n",
       "       -1.29968117e-03,  5.37269908e-02,  6.29618776e-02,  1.92249430e-02,\n",
       "       -4.35321022e-03,  7.72253458e-04,  9.08372156e-02,  1.29398085e-01,\n",
       "        6.38785221e-02,  2.25338631e-02,  2.19620303e-02,  4.64954327e-02,\n",
       "        6.60232446e-03,  1.02875297e-01,  3.44150531e-02, -3.93376554e-03,\n",
       "        2.55911321e-02,  3.26523838e-03,  1.77386059e-02,  1.00522345e-01,\n",
       "        1.88024201e-01,  1.65168786e-01,  1.86408660e-01,  8.20629376e-02,\n",
       "        6.43297141e-02, -3.58814664e-03,  2.67534484e-02,  2.18136476e-02,\n",
       "        1.08329091e-01,  5.59879885e-02,  3.08730418e-01,  6.22934365e-02,\n",
       "        9.84962914e-02,  2.08697503e-01,  9.03127483e-02,  2.34957562e-01,\n",
       "        1.50779012e-01,  9.49605897e-02,  6.09826765e-02,  7.23212417e-02,\n",
       "        1.46482089e-01,  2.33196733e-02,  2.38227744e-02, -2.94227587e-03,\n",
       "        1.02870866e-01,  2.71498931e-02,  2.44530285e-01,  1.43167683e-02,\n",
       "        9.84962914e-02,  3.64385107e-02,  2.43902226e-01,  7.79250329e-02,\n",
       "        8.10504292e-02,  1.30236176e-01,  2.34957562e-01,  2.19421136e-01,\n",
       "        8.13796695e-02,  1.50779012e-01,  4.69540752e-02,  5.72815325e-02,\n",
       "        1.04912025e-01,  3.51112973e-03,  1.83713291e-01,  4.00440908e-02,\n",
       "        5.69839315e-02,  6.06464524e-02,  2.94265568e-02,  4.15839941e-02,\n",
       "       -4.55807707e-03,  6.09826765e-02,  7.23212417e-02,  2.22265651e-02,\n",
       "       -5.63694324e-03,  4.01418204e-03,  1.04721824e-01,  1.46482089e-01,\n",
       "        8.07562414e-02,  2.80686419e-02,  5.67671892e-02,  9.15618131e-03,\n",
       "        1.20280411e-01,  3.80813046e-02,  4.13024760e-02, -2.76204496e-03,\n",
       "        2.38227744e-02, -2.48097735e-03,  3.18497542e-02,  1.14999599e-03,\n",
       "        1.65971788e-02,  1.20751039e-01,  8.51364781e-02,  1.91269515e-01,\n",
       "        2.19421136e-01,  8.16808470e-02,  2.11753740e-01,  8.02052556e-02,\n",
       "       -6.82924191e-03,  3.43599104e-02,  2.76795375e-02,  3.80813046e-02,\n",
       "        2.46478779e-01,  2.77084455e-01,  4.75626284e-02,  1.03682062e-01,\n",
       "        1.07986593e-01,  5.65757394e-02,  8.63115207e-02,  1.54673902e-01,\n",
       "        1.69712759e-01,  1.40989922e-01,  7.55865936e-02,  1.13279568e-01,\n",
       "        4.91305727e-02,  1.91956752e-01,  5.26883661e-02, -3.22116878e-03,\n",
       "        2.53837342e-01,  2.77084455e-01,  2.07623433e-01,  5.62160587e-03,\n",
       "        9.78265788e-02,  1.07986593e-01,  3.30526004e-02,  4.22532125e-02,\n",
       "        7.80297578e-02, -1.15059553e-02,  8.18610059e-02,  1.65571688e-01,\n",
       "        5.23133190e-02,  5.61620062e-02,  2.24693099e-01,  1.01022932e-01,\n",
       "        1.85826587e-02,  1.66085532e-01,  2.66577514e-01,  1.13641957e-01,\n",
       "        1.69712759e-01,  8.08377292e-02, -8.75106954e-03,  1.30382144e-01,\n",
       "       -8.02167893e-03,  7.47968995e-03,  5.83008546e-02,  1.52622434e-01,\n",
       "        3.97648542e-02,  1.09312662e-01,  6.67239597e-02,  7.55865936e-02,\n",
       "        9.03042706e-02, -3.52562666e-02,  1.13279568e-01,  3.82889499e-02,\n",
       "        4.91305727e-02,  7.31758828e-02,  1.42323063e-01,  1.91956752e-01,\n",
       "        5.32087801e-02,  1.41631581e-02,  3.28147691e-02,  2.27156367e-02,\n",
       "        4.71681821e-02,  4.44366699e-02,  9.18137967e-03,  5.15704058e-03,\n",
       "       -5.53350253e-03,  8.00493276e-02, -2.35067246e-02,  1.14701191e-01,\n",
       "        2.45304540e-01,  1.36668087e-01,  5.77290587e-02,  2.29989679e-01,\n",
       "        2.66577514e-01,  1.17211610e-01,  5.48930810e-02,  4.44366699e-02,\n",
       "        4.77583358e-02,  3.06721377e-02,  1.02930650e-01,  1.05703144e-01,\n",
       "        6.76286043e-02,  7.15192485e-02,  4.01981122e-02,  4.92289622e-02,\n",
       "        3.44507969e-02,  3.10415882e-02,  1.21769493e-02,  1.01019227e-01,\n",
       "        2.01290776e-02,  1.56416875e-01,  9.02783588e-02,  4.93243318e-02,\n",
       "        1.11595860e-01,  7.51245285e-02,  1.61677376e-01,  1.39512296e-01,\n",
       "        4.16682941e-02,  5.09702640e-02,  1.64653371e-01,  1.66508409e-01,\n",
       "        1.38024653e-01,  1.91722291e-01,  6.30396214e-02,  3.77004849e-02,\n",
       "        1.09924561e-01,  2.76322774e-02,  6.18650401e-02,  5.12066061e-02,\n",
       "        1.14500516e-01,  9.51319968e-02,  5.10469994e-02,  5.66299565e-02,\n",
       "        1.20069380e-01,  1.05561878e-01,  3.95884645e-02,  1.03100237e-01,\n",
       "        1.25602420e-01,  5.13307303e-02,  1.32216039e-01,  4.06736357e-02,\n",
       "        6.51078543e-02,  3.58517524e-02,  1.30200239e-02,  1.18242165e-01,\n",
       "        1.43704416e-01,  5.84657181e-02,  9.37099850e-02,  1.01952068e-01,\n",
       "        4.69805935e-02,  5.28185458e-02,  3.76416587e-02,  2.97776683e-02,\n",
       "        1.21394501e-01,  7.07836548e-02,  6.69708353e-02,  7.23994751e-02,\n",
       "        5.37803992e-02,  7.13750624e-02,  2.02549498e-02,  4.96500176e-02,\n",
       "        1.51535101e-02,  5.52037428e-02,  1.38841607e-02,  1.27260328e-01,\n",
       "        1.15798503e-01,  4.23191189e-02,  1.06170489e-01,  1.35766392e-01,\n",
       "        1.32005514e-01,  5.38698709e-02,  4.07324666e-02,  6.94441379e-02,\n",
       "        3.64958136e-02,  1.70920392e-02,  1.24112043e-01,  1.48955112e-01,\n",
       "        5.96777000e-02,  9.77340573e-02,  1.02567548e-01,  5.45900039e-02,\n",
       "        5.97973605e-02,  7.49667370e-02,  4.34682745e-02,  3.19451337e-02,\n",
       "        1.23190716e-01,  7.44229328e-02,  5.53128280e-02,  7.23661260e-02,\n",
       "        7.51122636e-02,  5.96601325e-02,  2.23117524e-02,  5.27154642e-02,\n",
       "        2.13101639e-02,  1.61508880e-02,  1.44132155e-01,  1.35210473e-01,\n",
       "        4.66016957e-02,  1.16110538e-01,  1.44582583e-01,  1.54004565e-01,\n",
       "        5.52517946e-02,  4.28985033e-02,  7.84793348e-02,  3.95721409e-02,\n",
       "        2.21817093e-02,  1.33285642e-01,  1.61694979e-01,  6.58332428e-02,\n",
       "        1.09091310e-01,  1.11130653e-01,  7.12001609e-02,  7.40968462e-02,\n",
       "        8.65341301e-02,  4.72547347e-02,  3.50657147e-02,  1.33838524e-01,\n",
       "        8.26315218e-02,  6.39406466e-02,  8.15073787e-02,  8.14941539e-02,\n",
       "        6.89120288e-02,  2.61237698e-02,  5.98265629e-02,  2.88579825e-02,\n",
       "        1.67880354e-02,  1.68407345e-01,  1.56799038e-01,  5.60103514e-02,\n",
       "        1.22377251e-01,  1.61739875e-01,  1.90533702e-01,  5.85821196e-02,\n",
       "        4.64606268e-02,  1.44632960e-01,  9.70036008e-02,  4.30221564e-02,\n",
       "        3.56970029e-02,  7.50272430e-02,  1.79513308e-01,  1.29351092e-01,\n",
       "        1.26643070e-01,  9.68037554e-02,  1.51060762e-01,  9.50378493e-02,\n",
       "        1.01173820e-01,  5.98050634e-02,  4.39093790e-02,  9.01130065e-02,\n",
       "        8.29860972e-02,  9.54678773e-02,  8.86982746e-02,  8.85219684e-02,\n",
       "        3.85675142e-02,  6.85808713e-02,  3.73157522e-02,  1.62854824e-02,\n",
       "        1.82445395e-01,  1.65497173e-01,  5.32914517e-02,  1.22837511e-01,\n",
       "        8.07569133e-02,  1.72826654e-01,  2.10946210e-01,  6.20706761e-02,\n",
       "        4.21511250e-02,  1.48574015e-01,  1.09236817e-01,  4.52706177e-02,\n",
       "        7.53143294e-02,  4.62622731e-02,  1.87466093e-01,  1.41868583e-01,\n",
       "        1.40512983e-01,  1.16855793e-01,  1.59489668e-01,  1.08306044e-01,\n",
       "        1.08551985e-01,  5.01024517e-02,  9.45591204e-02,  9.68644014e-02,\n",
       "        1.04594112e-01,  9.37143340e-02,  9.86963429e-02,  5.12430192e-02,\n",
       "        7.64439137e-02,  4.02638206e-02,  1.63029845e-02,  1.85513207e-01,\n",
       "        1.12128163e-01,  1.04052506e-01,  8.70198311e-02,  5.27723326e-02,\n",
       "        7.72532082e-02,  8.40917122e-02,  9.58462441e-02,  1.06705056e-01,\n",
       "        4.93374523e-02,  6.09520727e-02,  4.21741023e-02,  2.02875309e-02,\n",
       "        1.13108256e-01,  7.17907140e-02,  1.28560449e-01, -2.12702467e-01,\n",
       "        1.00000000e+00])"
      ]
     },
     "execution_count": 290,
     "metadata": {},
     "output_type": "execute_result"
    }
   ],
   "source": [
    "np.corrcoef(X_train.join(y_train), rowvar = False)[X_train.shape[1]]"
   ]
  },
  {
   "cell_type": "code",
   "execution_count": 233,
   "metadata": {},
   "outputs": [],
   "source": [
    "from sklearn.decomposition import PCA"
   ]
  },
  {
   "cell_type": "code",
   "execution_count": 234,
   "metadata": {},
   "outputs": [
    {
     "ename": "KeyError",
     "evalue": "\"['CIP'] not found in axis\"",
     "output_type": "error",
     "traceback": [
      "\u001b[1;31m---------------------------------------------------------------------------\u001b[0m",
      "\u001b[1;31mKeyError\u001b[0m                                  Traceback (most recent call last)",
      "\u001b[1;32m<ipython-input-234-cbf1d75a90fe>\u001b[0m in \u001b[0;36m<module>\u001b[1;34m\u001b[0m\n\u001b[1;32m----> 1\u001b[1;33m \u001b[0mreduced\u001b[0m \u001b[1;33m=\u001b[0m \u001b[0mPCA\u001b[0m\u001b[1;33m(\u001b[0m\u001b[0mn_components\u001b[0m \u001b[1;33m=\u001b[0m \u001b[1;36m0.9\u001b[0m\u001b[1;33m)\u001b[0m\u001b[1;33m.\u001b[0m\u001b[0mfit_transform\u001b[0m\u001b[1;33m(\u001b[0m\u001b[0mX\u001b[0m \u001b[1;33m=\u001b[0m \u001b[0mcip_df\u001b[0m\u001b[1;33m.\u001b[0m\u001b[0mdrop\u001b[0m\u001b[1;33m(\u001b[0m\u001b[1;34m'CIP'\u001b[0m\u001b[1;33m,\u001b[0m \u001b[0maxis\u001b[0m \u001b[1;33m=\u001b[0m \u001b[1;36m1\u001b[0m\u001b[1;33m)\u001b[0m\u001b[1;33m)\u001b[0m\u001b[1;33m\u001b[0m\u001b[1;33m\u001b[0m\u001b[0m\n\u001b[0m",
      "\u001b[1;32m~\\anaconda3\\lib\\site-packages\\pandas\\core\\frame.py\u001b[0m in \u001b[0;36mdrop\u001b[1;34m(self, labels, axis, index, columns, level, inplace, errors)\u001b[0m\n\u001b[0;32m   3995\u001b[0m             \u001b[0mlevel\u001b[0m\u001b[1;33m=\u001b[0m\u001b[0mlevel\u001b[0m\u001b[1;33m,\u001b[0m\u001b[1;33m\u001b[0m\u001b[1;33m\u001b[0m\u001b[0m\n\u001b[0;32m   3996\u001b[0m             \u001b[0minplace\u001b[0m\u001b[1;33m=\u001b[0m\u001b[0minplace\u001b[0m\u001b[1;33m,\u001b[0m\u001b[1;33m\u001b[0m\u001b[1;33m\u001b[0m\u001b[0m\n\u001b[1;32m-> 3997\u001b[1;33m             \u001b[0merrors\u001b[0m\u001b[1;33m=\u001b[0m\u001b[0merrors\u001b[0m\u001b[1;33m,\u001b[0m\u001b[1;33m\u001b[0m\u001b[1;33m\u001b[0m\u001b[0m\n\u001b[0m\u001b[0;32m   3998\u001b[0m         )\n\u001b[0;32m   3999\u001b[0m \u001b[1;33m\u001b[0m\u001b[0m\n",
      "\u001b[1;32m~\\anaconda3\\lib\\site-packages\\pandas\\core\\generic.py\u001b[0m in \u001b[0;36mdrop\u001b[1;34m(self, labels, axis, index, columns, level, inplace, errors)\u001b[0m\n\u001b[0;32m   3934\u001b[0m         \u001b[1;32mfor\u001b[0m \u001b[0maxis\u001b[0m\u001b[1;33m,\u001b[0m \u001b[0mlabels\u001b[0m \u001b[1;32min\u001b[0m \u001b[0maxes\u001b[0m\u001b[1;33m.\u001b[0m\u001b[0mitems\u001b[0m\u001b[1;33m(\u001b[0m\u001b[1;33m)\u001b[0m\u001b[1;33m:\u001b[0m\u001b[1;33m\u001b[0m\u001b[1;33m\u001b[0m\u001b[0m\n\u001b[0;32m   3935\u001b[0m             \u001b[1;32mif\u001b[0m \u001b[0mlabels\u001b[0m \u001b[1;32mis\u001b[0m \u001b[1;32mnot\u001b[0m \u001b[1;32mNone\u001b[0m\u001b[1;33m:\u001b[0m\u001b[1;33m\u001b[0m\u001b[1;33m\u001b[0m\u001b[0m\n\u001b[1;32m-> 3936\u001b[1;33m                 \u001b[0mobj\u001b[0m \u001b[1;33m=\u001b[0m \u001b[0mobj\u001b[0m\u001b[1;33m.\u001b[0m\u001b[0m_drop_axis\u001b[0m\u001b[1;33m(\u001b[0m\u001b[0mlabels\u001b[0m\u001b[1;33m,\u001b[0m \u001b[0maxis\u001b[0m\u001b[1;33m,\u001b[0m \u001b[0mlevel\u001b[0m\u001b[1;33m=\u001b[0m\u001b[0mlevel\u001b[0m\u001b[1;33m,\u001b[0m \u001b[0merrors\u001b[0m\u001b[1;33m=\u001b[0m\u001b[0merrors\u001b[0m\u001b[1;33m)\u001b[0m\u001b[1;33m\u001b[0m\u001b[1;33m\u001b[0m\u001b[0m\n\u001b[0m\u001b[0;32m   3937\u001b[0m \u001b[1;33m\u001b[0m\u001b[0m\n\u001b[0;32m   3938\u001b[0m         \u001b[1;32mif\u001b[0m \u001b[0minplace\u001b[0m\u001b[1;33m:\u001b[0m\u001b[1;33m\u001b[0m\u001b[1;33m\u001b[0m\u001b[0m\n",
      "\u001b[1;32m~\\anaconda3\\lib\\site-packages\\pandas\\core\\generic.py\u001b[0m in \u001b[0;36m_drop_axis\u001b[1;34m(self, labels, axis, level, errors)\u001b[0m\n\u001b[0;32m   3968\u001b[0m                 \u001b[0mnew_axis\u001b[0m \u001b[1;33m=\u001b[0m \u001b[0maxis\u001b[0m\u001b[1;33m.\u001b[0m\u001b[0mdrop\u001b[0m\u001b[1;33m(\u001b[0m\u001b[0mlabels\u001b[0m\u001b[1;33m,\u001b[0m \u001b[0mlevel\u001b[0m\u001b[1;33m=\u001b[0m\u001b[0mlevel\u001b[0m\u001b[1;33m,\u001b[0m \u001b[0merrors\u001b[0m\u001b[1;33m=\u001b[0m\u001b[0merrors\u001b[0m\u001b[1;33m)\u001b[0m\u001b[1;33m\u001b[0m\u001b[1;33m\u001b[0m\u001b[0m\n\u001b[0;32m   3969\u001b[0m             \u001b[1;32melse\u001b[0m\u001b[1;33m:\u001b[0m\u001b[1;33m\u001b[0m\u001b[1;33m\u001b[0m\u001b[0m\n\u001b[1;32m-> 3970\u001b[1;33m                 \u001b[0mnew_axis\u001b[0m \u001b[1;33m=\u001b[0m \u001b[0maxis\u001b[0m\u001b[1;33m.\u001b[0m\u001b[0mdrop\u001b[0m\u001b[1;33m(\u001b[0m\u001b[0mlabels\u001b[0m\u001b[1;33m,\u001b[0m \u001b[0merrors\u001b[0m\u001b[1;33m=\u001b[0m\u001b[0merrors\u001b[0m\u001b[1;33m)\u001b[0m\u001b[1;33m\u001b[0m\u001b[1;33m\u001b[0m\u001b[0m\n\u001b[0m\u001b[0;32m   3971\u001b[0m             \u001b[0mresult\u001b[0m \u001b[1;33m=\u001b[0m \u001b[0mself\u001b[0m\u001b[1;33m.\u001b[0m\u001b[0mreindex\u001b[0m\u001b[1;33m(\u001b[0m\u001b[1;33m**\u001b[0m\u001b[1;33m{\u001b[0m\u001b[0maxis_name\u001b[0m\u001b[1;33m:\u001b[0m \u001b[0mnew_axis\u001b[0m\u001b[1;33m}\u001b[0m\u001b[1;33m)\u001b[0m\u001b[1;33m\u001b[0m\u001b[1;33m\u001b[0m\u001b[0m\n\u001b[0;32m   3972\u001b[0m \u001b[1;33m\u001b[0m\u001b[0m\n",
      "\u001b[1;32m~\\anaconda3\\lib\\site-packages\\pandas\\core\\indexes\\base.py\u001b[0m in \u001b[0;36mdrop\u001b[1;34m(self, labels, errors)\u001b[0m\n\u001b[0;32m   5016\u001b[0m         \u001b[1;32mif\u001b[0m \u001b[0mmask\u001b[0m\u001b[1;33m.\u001b[0m\u001b[0many\u001b[0m\u001b[1;33m(\u001b[0m\u001b[1;33m)\u001b[0m\u001b[1;33m:\u001b[0m\u001b[1;33m\u001b[0m\u001b[1;33m\u001b[0m\u001b[0m\n\u001b[0;32m   5017\u001b[0m             \u001b[1;32mif\u001b[0m \u001b[0merrors\u001b[0m \u001b[1;33m!=\u001b[0m \u001b[1;34m\"ignore\"\u001b[0m\u001b[1;33m:\u001b[0m\u001b[1;33m\u001b[0m\u001b[1;33m\u001b[0m\u001b[0m\n\u001b[1;32m-> 5018\u001b[1;33m                 \u001b[1;32mraise\u001b[0m \u001b[0mKeyError\u001b[0m\u001b[1;33m(\u001b[0m\u001b[1;34mf\"{labels[mask]} not found in axis\"\u001b[0m\u001b[1;33m)\u001b[0m\u001b[1;33m\u001b[0m\u001b[1;33m\u001b[0m\u001b[0m\n\u001b[0m\u001b[0;32m   5019\u001b[0m             \u001b[0mindexer\u001b[0m \u001b[1;33m=\u001b[0m \u001b[0mindexer\u001b[0m\u001b[1;33m[\u001b[0m\u001b[1;33m~\u001b[0m\u001b[0mmask\u001b[0m\u001b[1;33m]\u001b[0m\u001b[1;33m\u001b[0m\u001b[1;33m\u001b[0m\u001b[0m\n\u001b[0;32m   5020\u001b[0m         \u001b[1;32mreturn\u001b[0m \u001b[0mself\u001b[0m\u001b[1;33m.\u001b[0m\u001b[0mdelete\u001b[0m\u001b[1;33m(\u001b[0m\u001b[0mindexer\u001b[0m\u001b[1;33m)\u001b[0m\u001b[1;33m\u001b[0m\u001b[1;33m\u001b[0m\u001b[0m\n",
      "\u001b[1;31mKeyError\u001b[0m: \"['CIP'] not found in axis\""
     ]
    }
   ],
   "source": [
    "reduced = PCA(n_components = 0.9).fit_transform(X = cip_df.drop('CIP', axis = 1))"
   ]
  },
  {
   "cell_type": "code",
   "execution_count": null,
   "metadata": {},
   "outputs": [],
   "source": [
    "pd.DataFrame(reduced, index = cip_df.index)"
   ]
  },
  {
   "cell_type": "markdown",
   "metadata": {},
   "source": [
    "## Construct \"Blackbox\" Models\n",
    "\n",
    "Models to test & tune: \n",
    "- XGBoost\n",
    "- Neural Net\n",
    "- Random Forest\n",
    "- Ensembles of all of them"
   ]
  },
  {
   "cell_type": "code",
   "execution_count": 291,
   "metadata": {},
   "outputs": [],
   "source": [
    "def report_best_scores(results, n_top=3):\n",
    "    for i in range(1, n_top + 1):\n",
    "        candidates = np.flatnonzero(results['rank_test_score'] == i)\n",
    "        for candidate in candidates:\n",
    "            print(\"Model with rank: {0}\".format(i))\n",
    "            print(\"Mean validation score: {0:.3f} (std: {1:.3f})\".format(\n",
    "                  results['mean_test_score'][candidate],\n",
    "                  results['std_test_score'][candidate]))\n",
    "            print(\"Parameters: {0}\".format(results['params'][candidate]))\n",
    "            print(\"\")"
   ]
  },
  {
   "cell_type": "code",
   "execution_count": 292,
   "metadata": {},
   "outputs": [],
   "source": [
    "import xgboost as xgb\n",
    "from scipy.stats import uniform, randint\n",
    "from sklearn.model_selection import cross_val_score, GridSearchCV, KFold, RandomizedSearchCV, train_test_split"
   ]
  },
  {
   "cell_type": "code",
   "execution_count": 293,
   "metadata": {},
   "outputs": [],
   "source": [
    "xgb_mod = xgb.XGBClassifier(objective = 'binary:logistic')"
   ]
  },
  {
   "cell_type": "code",
   "execution_count": 294,
   "metadata": {},
   "outputs": [
    {
     "name": "stdout",
     "output_type": "stream",
     "text": [
      "Fitting 3 folds for each of 5 candidates, totalling 15 fits\n"
     ]
    },
    {
     "name": "stderr",
     "output_type": "stream",
     "text": [
      "[Parallel(n_jobs=7)]: Using backend LokyBackend with 7 concurrent workers.\n",
      "[Parallel(n_jobs=7)]: Done  15 out of  15 | elapsed:  6.1min finished\n",
      "C:\\Users\\benne\\anaconda3\\lib\\site-packages\\xgboost\\sklearn.py:1146: UserWarning: The use of label encoder in XGBClassifier is deprecated and will be removed in a future release. To remove this warning, do the following: 1) Pass option use_label_encoder=False when constructing XGBClassifier object; and 2) Encode your labels (y) as integers starting with 0, i.e. 0, 1, 2, ..., [num_class - 1].\n",
      "  warnings.warn(label_encoder_deprecation_msg, UserWarning)\n"
     ]
    },
    {
     "name": "stdout",
     "output_type": "stream",
     "text": [
      "[12:45:04] WARNING: C:/Users/Administrator/workspace/xgboost-win64_release_1.4.0/src/learner.cc:1095: Starting in XGBoost 1.3.0, the default evaluation metric used with the objective 'binary:logistic' was changed from 'error' to 'logloss'. Explicitly set eval_metric if you'd like to restore the old behavior.\n",
      "Model with rank: 1\n",
      "Mean validation score: 0.835 (std: 0.005)\n",
      "Parameters: {'colsample_bytree': 0.8835558684167137, 'gamma': 0.06974693032602092, 'learning_rate': 0.11764339456056544, 'max_depth': 5, 'n_estimators': 114, 'subsample': 0.7824279936868144}\n",
      "\n"
     ]
    }
   ],
   "source": [
    "params = {\n",
    "    \"colsample_bytree\": uniform(0.7, 0.3),\n",
    "    \"gamma\": uniform(0, 0.5),\n",
    "    \"learning_rate\": uniform(0.03, 0.3), # default 0.1 \n",
    "    \"max_depth\": randint(2, 6), # default 3\n",
    "    \"n_estimators\": randint(100, 150), # default 100\n",
    "    \"subsample\": uniform(0.6, 0.4)\n",
    "}\n",
    "\n",
    "search_first = RandomizedSearchCV(xgb_mod, param_distributions=params, scoring = 'roc_auc', random_state=42, n_iter=5, cv=3, verbose=1, n_jobs=7, return_train_score=True)\n",
    "\n",
    "search_first.fit(X_train, y_train)\n",
    "\n",
    "report_best_scores(search_first.cv_results_, 1)"
   ]
  },
  {
   "cell_type": "code",
   "execution_count": 295,
   "metadata": {},
   "outputs": [
    {
     "data": {
      "text/plain": [
       "0.8354670355113258"
      ]
     },
     "execution_count": 295,
     "metadata": {},
     "output_type": "execute_result"
    }
   ],
   "source": [
    "search_first.best_score_"
   ]
  },
  {
   "cell_type": "code",
   "execution_count": 296,
   "metadata": {},
   "outputs": [],
   "source": [
    "from sklearn.metrics import f1_score, confusion_matrix, accuracy_score, roc_auc_score"
   ]
  },
  {
   "cell_type": "code",
   "execution_count": 297,
   "metadata": {},
   "outputs": [
    {
     "data": {
      "text/plain": [
       "0.8405940891735065"
      ]
     },
     "execution_count": 297,
     "metadata": {},
     "output_type": "execute_result"
    }
   ],
   "source": [
    "accuracy_score(y_test, pd.DataFrame(search_first.predict(X_test)))"
   ]
  },
  {
   "cell_type": "code",
   "execution_count": 316,
   "metadata": {},
   "outputs": [
    {
     "data": {
      "text/plain": [
       "0.8352987962938614"
      ]
     },
     "execution_count": 316,
     "metadata": {},
     "output_type": "execute_result"
    }
   ],
   "source": [
    "roc_auc_score(y_test, pd.DataFrame(search_first.predict_proba(X_test))[1])"
   ]
  },
  {
   "cell_type": "code",
   "execution_count": 299,
   "metadata": {},
   "outputs": [
    {
     "data": {
      "text/plain": [
       "0.5499151103565365"
      ]
     },
     "execution_count": 299,
     "metadata": {},
     "output_type": "execute_result"
    }
   ],
   "source": [
    "f1_score(y_test, search_first.predict(X_test))"
   ]
  },
  {
   "cell_type": "code",
   "execution_count": 300,
   "metadata": {},
   "outputs": [
    {
     "data": {
      "text/plain": [
       "array([[24720,  1313],\n",
       "       [ 3989,  3239]], dtype=int64)"
      ]
     },
     "execution_count": 300,
     "metadata": {},
     "output_type": "execute_result"
    }
   ],
   "source": [
    "confusion_matrix(y_test, search_first.predict(X_test))"
   ]
  },
  {
   "cell_type": "code",
   "execution_count": 301,
   "metadata": {},
   "outputs": [],
   "source": [
    "from sklearn.linear_model import LogisticRegression\n"
   ]
  },
  {
   "cell_type": "code",
   "execution_count": 302,
   "metadata": {},
   "outputs": [
    {
     "name": "stderr",
     "output_type": "stream",
     "text": [
      "C:\\Users\\benne\\anaconda3\\lib\\site-packages\\sklearn\\linear_model\\_logistic.py:764: ConvergenceWarning: lbfgs failed to converge (status=1):\n",
      "STOP: TOTAL NO. of ITERATIONS REACHED LIMIT.\n",
      "\n",
      "Increase the number of iterations (max_iter) or scale the data as shown in:\n",
      "    https://scikit-learn.org/stable/modules/preprocessing.html\n",
      "Please also refer to the documentation for alternative solver options:\n",
      "    https://scikit-learn.org/stable/modules/linear_model.html#logistic-regression\n",
      "  extra_warning_msg=_LOGISTIC_SOLVER_CONVERGENCE_MSG)\n"
     ]
    }
   ],
   "source": [
    "lr = LogisticRegression().fit(X_train, y_train)"
   ]
  },
  {
   "cell_type": "code",
   "execution_count": 303,
   "metadata": {},
   "outputs": [
    {
     "data": {
      "text/plain": [
       "0.8355731938306125"
      ]
     },
     "execution_count": 303,
     "metadata": {},
     "output_type": "execute_result"
    }
   ],
   "source": [
    "accuracy_score(y_test, lr.predict(X_test))"
   ]
  },
  {
   "cell_type": "code",
   "execution_count": 317,
   "metadata": {},
   "outputs": [
    {
     "data": {
      "text/plain": [
       "example_id\n",
       "58391     0.0\n",
       "109609    0.0\n",
       "91233     0.0\n",
       "34843     1.0\n",
       "56601     0.0\n",
       "         ... \n",
       "26826     0.0\n",
       "105792    0.0\n",
       "32126     0.0\n",
       "55555     1.0\n",
       "96920     0.0\n",
       "Name: CIP, Length: 33261, dtype: float64"
      ]
     },
     "execution_count": 317,
     "metadata": {},
     "output_type": "execute_result"
    }
   ],
   "source": [
    "y_test"
   ]
  },
  {
   "cell_type": "code",
   "execution_count": 318,
   "metadata": {},
   "outputs": [
    {
     "data": {
      "text/html": [
       "<div>\n",
       "<style scoped>\n",
       "    .dataframe tbody tr th:only-of-type {\n",
       "        vertical-align: middle;\n",
       "    }\n",
       "\n",
       "    .dataframe tbody tr th {\n",
       "        vertical-align: top;\n",
       "    }\n",
       "\n",
       "    .dataframe thead th {\n",
       "        text-align: right;\n",
       "    }\n",
       "</style>\n",
       "<table border=\"1\" class=\"dataframe\">\n",
       "  <thead>\n",
       "    <tr style=\"text-align: right;\">\n",
       "      <th></th>\n",
       "      <th>demographics - age</th>\n",
       "      <th>demographics - is_white</th>\n",
       "      <th>demographics - is_veteran</th>\n",
       "      <th>micro - prev resistance LVX 14</th>\n",
       "      <th>micro - prev resistance AMP 14</th>\n",
       "      <th>micro - prev resistance CFZ 14</th>\n",
       "      <th>micro - prev resistance NIT 14</th>\n",
       "      <th>micro - prev resistance GEN 14</th>\n",
       "      <th>micro - prev resistance SXT 14</th>\n",
       "      <th>micro - prev resistance TET 14</th>\n",
       "      <th>...</th>\n",
       "      <th>custom 30 - nursing home</th>\n",
       "      <th>custom 90 - nursing home</th>\n",
       "      <th>infection_sites - RESPIRATORY_TRACT</th>\n",
       "      <th>infection_sites - BLOOD</th>\n",
       "      <th>infection_sites - SKIN_SOFTTISSUE</th>\n",
       "      <th>infection_sites - ABSCESS_OR_FLUID_NOS</th>\n",
       "      <th>hosp ward - ER</th>\n",
       "      <th>hosp ward - ICU</th>\n",
       "      <th>hosp ward - IP</th>\n",
       "      <th>hosp ward - OP</th>\n",
       "    </tr>\n",
       "    <tr>\n",
       "      <th>example_id</th>\n",
       "      <th></th>\n",
       "      <th></th>\n",
       "      <th></th>\n",
       "      <th></th>\n",
       "      <th></th>\n",
       "      <th></th>\n",
       "      <th></th>\n",
       "      <th></th>\n",
       "      <th></th>\n",
       "      <th></th>\n",
       "      <th></th>\n",
       "      <th></th>\n",
       "      <th></th>\n",
       "      <th></th>\n",
       "      <th></th>\n",
       "      <th></th>\n",
       "      <th></th>\n",
       "      <th></th>\n",
       "      <th></th>\n",
       "      <th></th>\n",
       "      <th></th>\n",
       "    </tr>\n",
       "  </thead>\n",
       "  <tbody>\n",
       "    <tr>\n",
       "      <th>58391</th>\n",
       "      <td>56</td>\n",
       "      <td>0.0</td>\n",
       "      <td>0.0</td>\n",
       "      <td>0.0</td>\n",
       "      <td>0.0</td>\n",
       "      <td>0.0</td>\n",
       "      <td>0.0</td>\n",
       "      <td>0.0</td>\n",
       "      <td>0.0</td>\n",
       "      <td>0.0</td>\n",
       "      <td>...</td>\n",
       "      <td>0.0</td>\n",
       "      <td>0.0</td>\n",
       "      <td>0.0</td>\n",
       "      <td>0.0</td>\n",
       "      <td>0.0</td>\n",
       "      <td>0.0</td>\n",
       "      <td>1.0</td>\n",
       "      <td>0.0</td>\n",
       "      <td>0.0</td>\n",
       "      <td>0.0</td>\n",
       "    </tr>\n",
       "    <tr>\n",
       "      <th>109609</th>\n",
       "      <td>31</td>\n",
       "      <td>1.0</td>\n",
       "      <td>0.0</td>\n",
       "      <td>0.0</td>\n",
       "      <td>0.0</td>\n",
       "      <td>0.0</td>\n",
       "      <td>0.0</td>\n",
       "      <td>0.0</td>\n",
       "      <td>0.0</td>\n",
       "      <td>0.0</td>\n",
       "      <td>...</td>\n",
       "      <td>0.0</td>\n",
       "      <td>0.0</td>\n",
       "      <td>0.0</td>\n",
       "      <td>0.0</td>\n",
       "      <td>0.0</td>\n",
       "      <td>0.0</td>\n",
       "      <td>1.0</td>\n",
       "      <td>0.0</td>\n",
       "      <td>0.0</td>\n",
       "      <td>0.0</td>\n",
       "    </tr>\n",
       "    <tr>\n",
       "      <th>91233</th>\n",
       "      <td>64</td>\n",
       "      <td>0.0</td>\n",
       "      <td>0.0</td>\n",
       "      <td>0.0</td>\n",
       "      <td>0.0</td>\n",
       "      <td>0.0</td>\n",
       "      <td>0.0</td>\n",
       "      <td>0.0</td>\n",
       "      <td>0.0</td>\n",
       "      <td>0.0</td>\n",
       "      <td>...</td>\n",
       "      <td>0.0</td>\n",
       "      <td>0.0</td>\n",
       "      <td>0.0</td>\n",
       "      <td>0.0</td>\n",
       "      <td>0.0</td>\n",
       "      <td>0.0</td>\n",
       "      <td>0.0</td>\n",
       "      <td>0.0</td>\n",
       "      <td>0.0</td>\n",
       "      <td>1.0</td>\n",
       "    </tr>\n",
       "    <tr>\n",
       "      <th>34843</th>\n",
       "      <td>63</td>\n",
       "      <td>1.0</td>\n",
       "      <td>0.0</td>\n",
       "      <td>0.0</td>\n",
       "      <td>0.0</td>\n",
       "      <td>0.0</td>\n",
       "      <td>0.0</td>\n",
       "      <td>0.0</td>\n",
       "      <td>0.0</td>\n",
       "      <td>0.0</td>\n",
       "      <td>...</td>\n",
       "      <td>0.0</td>\n",
       "      <td>0.0</td>\n",
       "      <td>0.0</td>\n",
       "      <td>1.0</td>\n",
       "      <td>0.0</td>\n",
       "      <td>0.0</td>\n",
       "      <td>1.0</td>\n",
       "      <td>0.0</td>\n",
       "      <td>0.0</td>\n",
       "      <td>0.0</td>\n",
       "    </tr>\n",
       "    <tr>\n",
       "      <th>56601</th>\n",
       "      <td>25</td>\n",
       "      <td>0.0</td>\n",
       "      <td>0.0</td>\n",
       "      <td>0.0</td>\n",
       "      <td>0.0</td>\n",
       "      <td>0.0</td>\n",
       "      <td>0.0</td>\n",
       "      <td>0.0</td>\n",
       "      <td>0.0</td>\n",
       "      <td>0.0</td>\n",
       "      <td>...</td>\n",
       "      <td>0.0</td>\n",
       "      <td>0.0</td>\n",
       "      <td>0.0</td>\n",
       "      <td>0.0</td>\n",
       "      <td>0.0</td>\n",
       "      <td>0.0</td>\n",
       "      <td>0.0</td>\n",
       "      <td>0.0</td>\n",
       "      <td>0.0</td>\n",
       "      <td>1.0</td>\n",
       "    </tr>\n",
       "    <tr>\n",
       "      <th>...</th>\n",
       "      <td>...</td>\n",
       "      <td>...</td>\n",
       "      <td>...</td>\n",
       "      <td>...</td>\n",
       "      <td>...</td>\n",
       "      <td>...</td>\n",
       "      <td>...</td>\n",
       "      <td>...</td>\n",
       "      <td>...</td>\n",
       "      <td>...</td>\n",
       "      <td>...</td>\n",
       "      <td>...</td>\n",
       "      <td>...</td>\n",
       "      <td>...</td>\n",
       "      <td>...</td>\n",
       "      <td>...</td>\n",
       "      <td>...</td>\n",
       "      <td>...</td>\n",
       "      <td>...</td>\n",
       "      <td>...</td>\n",
       "      <td>...</td>\n",
       "    </tr>\n",
       "    <tr>\n",
       "      <th>26826</th>\n",
       "      <td>60</td>\n",
       "      <td>1.0</td>\n",
       "      <td>0.0</td>\n",
       "      <td>0.0</td>\n",
       "      <td>0.0</td>\n",
       "      <td>0.0</td>\n",
       "      <td>0.0</td>\n",
       "      <td>0.0</td>\n",
       "      <td>0.0</td>\n",
       "      <td>0.0</td>\n",
       "      <td>...</td>\n",
       "      <td>0.0</td>\n",
       "      <td>0.0</td>\n",
       "      <td>0.0</td>\n",
       "      <td>0.0</td>\n",
       "      <td>0.0</td>\n",
       "      <td>0.0</td>\n",
       "      <td>0.0</td>\n",
       "      <td>0.0</td>\n",
       "      <td>0.0</td>\n",
       "      <td>1.0</td>\n",
       "    </tr>\n",
       "    <tr>\n",
       "      <th>105792</th>\n",
       "      <td>20</td>\n",
       "      <td>1.0</td>\n",
       "      <td>0.0</td>\n",
       "      <td>0.0</td>\n",
       "      <td>0.0</td>\n",
       "      <td>0.0</td>\n",
       "      <td>0.0</td>\n",
       "      <td>0.0</td>\n",
       "      <td>0.0</td>\n",
       "      <td>0.0</td>\n",
       "      <td>...</td>\n",
       "      <td>0.0</td>\n",
       "      <td>0.0</td>\n",
       "      <td>0.0</td>\n",
       "      <td>0.0</td>\n",
       "      <td>0.0</td>\n",
       "      <td>0.0</td>\n",
       "      <td>0.0</td>\n",
       "      <td>0.0</td>\n",
       "      <td>0.0</td>\n",
       "      <td>1.0</td>\n",
       "    </tr>\n",
       "    <tr>\n",
       "      <th>32126</th>\n",
       "      <td>83</td>\n",
       "      <td>1.0</td>\n",
       "      <td>0.0</td>\n",
       "      <td>0.0</td>\n",
       "      <td>0.0</td>\n",
       "      <td>0.0</td>\n",
       "      <td>0.0</td>\n",
       "      <td>0.0</td>\n",
       "      <td>0.0</td>\n",
       "      <td>0.0</td>\n",
       "      <td>...</td>\n",
       "      <td>0.0</td>\n",
       "      <td>0.0</td>\n",
       "      <td>0.0</td>\n",
       "      <td>0.0</td>\n",
       "      <td>0.0</td>\n",
       "      <td>0.0</td>\n",
       "      <td>0.0</td>\n",
       "      <td>1.0</td>\n",
       "      <td>0.0</td>\n",
       "      <td>0.0</td>\n",
       "    </tr>\n",
       "    <tr>\n",
       "      <th>55555</th>\n",
       "      <td>36</td>\n",
       "      <td>0.0</td>\n",
       "      <td>0.0</td>\n",
       "      <td>0.0</td>\n",
       "      <td>0.0</td>\n",
       "      <td>0.0</td>\n",
       "      <td>0.0</td>\n",
       "      <td>0.0</td>\n",
       "      <td>0.0</td>\n",
       "      <td>0.0</td>\n",
       "      <td>...</td>\n",
       "      <td>0.0</td>\n",
       "      <td>0.0</td>\n",
       "      <td>0.0</td>\n",
       "      <td>0.0</td>\n",
       "      <td>0.0</td>\n",
       "      <td>0.0</td>\n",
       "      <td>0.0</td>\n",
       "      <td>0.0</td>\n",
       "      <td>0.0</td>\n",
       "      <td>1.0</td>\n",
       "    </tr>\n",
       "    <tr>\n",
       "      <th>96920</th>\n",
       "      <td>81</td>\n",
       "      <td>0.0</td>\n",
       "      <td>0.0</td>\n",
       "      <td>0.0</td>\n",
       "      <td>0.0</td>\n",
       "      <td>0.0</td>\n",
       "      <td>0.0</td>\n",
       "      <td>0.0</td>\n",
       "      <td>0.0</td>\n",
       "      <td>0.0</td>\n",
       "      <td>...</td>\n",
       "      <td>0.0</td>\n",
       "      <td>0.0</td>\n",
       "      <td>0.0</td>\n",
       "      <td>0.0</td>\n",
       "      <td>0.0</td>\n",
       "      <td>0.0</td>\n",
       "      <td>0.0</td>\n",
       "      <td>0.0</td>\n",
       "      <td>0.0</td>\n",
       "      <td>1.0</td>\n",
       "    </tr>\n",
       "  </tbody>\n",
       "</table>\n",
       "<p>33261 rows × 680 columns</p>\n",
       "</div>"
      ],
      "text/plain": [
       "            demographics - age  demographics - is_white  \\\n",
       "example_id                                                \n",
       "58391                       56                      0.0   \n",
       "109609                      31                      1.0   \n",
       "91233                       64                      0.0   \n",
       "34843                       63                      1.0   \n",
       "56601                       25                      0.0   \n",
       "...                        ...                      ...   \n",
       "26826                       60                      1.0   \n",
       "105792                      20                      1.0   \n",
       "32126                       83                      1.0   \n",
       "55555                       36                      0.0   \n",
       "96920                       81                      0.0   \n",
       "\n",
       "            demographics - is_veteran  micro - prev resistance LVX 14  \\\n",
       "example_id                                                              \n",
       "58391                             0.0                             0.0   \n",
       "109609                            0.0                             0.0   \n",
       "91233                             0.0                             0.0   \n",
       "34843                             0.0                             0.0   \n",
       "56601                             0.0                             0.0   \n",
       "...                               ...                             ...   \n",
       "26826                             0.0                             0.0   \n",
       "105792                            0.0                             0.0   \n",
       "32126                             0.0                             0.0   \n",
       "55555                             0.0                             0.0   \n",
       "96920                             0.0                             0.0   \n",
       "\n",
       "            micro - prev resistance AMP 14  micro - prev resistance CFZ 14  \\\n",
       "example_id                                                                   \n",
       "58391                                  0.0                             0.0   \n",
       "109609                                 0.0                             0.0   \n",
       "91233                                  0.0                             0.0   \n",
       "34843                                  0.0                             0.0   \n",
       "56601                                  0.0                             0.0   \n",
       "...                                    ...                             ...   \n",
       "26826                                  0.0                             0.0   \n",
       "105792                                 0.0                             0.0   \n",
       "32126                                  0.0                             0.0   \n",
       "55555                                  0.0                             0.0   \n",
       "96920                                  0.0                             0.0   \n",
       "\n",
       "            micro - prev resistance NIT 14  micro - prev resistance GEN 14  \\\n",
       "example_id                                                                   \n",
       "58391                                  0.0                             0.0   \n",
       "109609                                 0.0                             0.0   \n",
       "91233                                  0.0                             0.0   \n",
       "34843                                  0.0                             0.0   \n",
       "56601                                  0.0                             0.0   \n",
       "...                                    ...                             ...   \n",
       "26826                                  0.0                             0.0   \n",
       "105792                                 0.0                             0.0   \n",
       "32126                                  0.0                             0.0   \n",
       "55555                                  0.0                             0.0   \n",
       "96920                                  0.0                             0.0   \n",
       "\n",
       "            micro - prev resistance SXT 14  micro - prev resistance TET 14  \\\n",
       "example_id                                                                   \n",
       "58391                                  0.0                             0.0   \n",
       "109609                                 0.0                             0.0   \n",
       "91233                                  0.0                             0.0   \n",
       "34843                                  0.0                             0.0   \n",
       "56601                                  0.0                             0.0   \n",
       "...                                    ...                             ...   \n",
       "26826                                  0.0                             0.0   \n",
       "105792                                 0.0                             0.0   \n",
       "32126                                  0.0                             0.0   \n",
       "55555                                  0.0                             0.0   \n",
       "96920                                  0.0                             0.0   \n",
       "\n",
       "            ...  custom 30 - nursing home  custom 90 - nursing home  \\\n",
       "example_id  ...                                                       \n",
       "58391       ...                       0.0                       0.0   \n",
       "109609      ...                       0.0                       0.0   \n",
       "91233       ...                       0.0                       0.0   \n",
       "34843       ...                       0.0                       0.0   \n",
       "56601       ...                       0.0                       0.0   \n",
       "...         ...                       ...                       ...   \n",
       "26826       ...                       0.0                       0.0   \n",
       "105792      ...                       0.0                       0.0   \n",
       "32126       ...                       0.0                       0.0   \n",
       "55555       ...                       0.0                       0.0   \n",
       "96920       ...                       0.0                       0.0   \n",
       "\n",
       "            infection_sites - RESPIRATORY_TRACT  infection_sites - BLOOD  \\\n",
       "example_id                                                                 \n",
       "58391                                       0.0                      0.0   \n",
       "109609                                      0.0                      0.0   \n",
       "91233                                       0.0                      0.0   \n",
       "34843                                       0.0                      1.0   \n",
       "56601                                       0.0                      0.0   \n",
       "...                                         ...                      ...   \n",
       "26826                                       0.0                      0.0   \n",
       "105792                                      0.0                      0.0   \n",
       "32126                                       0.0                      0.0   \n",
       "55555                                       0.0                      0.0   \n",
       "96920                                       0.0                      0.0   \n",
       "\n",
       "            infection_sites - SKIN_SOFTTISSUE  \\\n",
       "example_id                                      \n",
       "58391                                     0.0   \n",
       "109609                                    0.0   \n",
       "91233                                     0.0   \n",
       "34843                                     0.0   \n",
       "56601                                     0.0   \n",
       "...                                       ...   \n",
       "26826                                     0.0   \n",
       "105792                                    0.0   \n",
       "32126                                     0.0   \n",
       "55555                                     0.0   \n",
       "96920                                     0.0   \n",
       "\n",
       "            infection_sites - ABSCESS_OR_FLUID_NOS  hosp ward - ER  \\\n",
       "example_id                                                           \n",
       "58391                                          0.0             1.0   \n",
       "109609                                         0.0             1.0   \n",
       "91233                                          0.0             0.0   \n",
       "34843                                          0.0             1.0   \n",
       "56601                                          0.0             0.0   \n",
       "...                                            ...             ...   \n",
       "26826                                          0.0             0.0   \n",
       "105792                                         0.0             0.0   \n",
       "32126                                          0.0             0.0   \n",
       "55555                                          0.0             0.0   \n",
       "96920                                          0.0             0.0   \n",
       "\n",
       "            hosp ward - ICU  hosp ward - IP  hosp ward - OP  \n",
       "example_id                                                   \n",
       "58391                   0.0             0.0             0.0  \n",
       "109609                  0.0             0.0             0.0  \n",
       "91233                   0.0             0.0             1.0  \n",
       "34843                   0.0             0.0             0.0  \n",
       "56601                   0.0             0.0             1.0  \n",
       "...                     ...             ...             ...  \n",
       "26826                   0.0             0.0             1.0  \n",
       "105792                  0.0             0.0             1.0  \n",
       "32126                   1.0             0.0             0.0  \n",
       "55555                   0.0             0.0             1.0  \n",
       "96920                   0.0             0.0             1.0  \n",
       "\n",
       "[33261 rows x 680 columns]"
      ]
     },
     "execution_count": 318,
     "metadata": {},
     "output_type": "execute_result"
    }
   ],
   "source": [
    "X_test"
   ]
  },
  {
   "cell_type": "code",
   "execution_count": 312,
   "metadata": {},
   "outputs": [
    {
     "data": {
      "text/plain": [
       "0.8290861104496993"
      ]
     },
     "execution_count": 312,
     "metadata": {},
     "output_type": "execute_result"
    }
   ],
   "source": [
    "roc_auc_score(y_test, pd.DataFrame(lr.predict_proba(X_test)).iloc[:,1])"
   ]
  },
  {
   "cell_type": "code",
   "execution_count": 305,
   "metadata": {},
   "outputs": [
    {
     "data": {
      "text/plain": [
       "0.5269440359830465"
      ]
     },
     "execution_count": 305,
     "metadata": {},
     "output_type": "execute_result"
    }
   ],
   "source": [
    "f1_score(y_test, lr.predict(X_test))"
   ]
  },
  {
   "cell_type": "code",
   "execution_count": 306,
   "metadata": {},
   "outputs": [
    {
     "data": {
      "text/plain": [
       "array([[24746,  1287],\n",
       "       [ 4182,  3046]], dtype=int64)"
      ]
     },
     "execution_count": 306,
     "metadata": {},
     "output_type": "execute_result"
    }
   ],
   "source": [
    "confusion_matrix(y_test, lr.predict(X_test))"
   ]
  },
  {
   "cell_type": "code",
   "execution_count": 307,
   "metadata": {},
   "outputs": [
    {
     "data": {
      "image/png": "[encoded data removed]",
      "text/plain": [
       "<Figure size 432x288 with 1 Axes>"
      ]
     },
     "metadata": {
      "needs_background": "light"
     },
     "output_type": "display_data"
    }
   ],
   "source": [
    "cm = confusion_matrix(lr.predict(X_test), y_test)\n",
    "\n",
    "plt.clf()\n",
    "plt.imshow(cm, interpolation='nearest', cmap=plt.cm.Wistia)\n",
    "classNames = ['Negative','Positive']\n",
    "plt.title('CIP Resistant or Not Confusion Matrix - Test Data for Logistic Regression')\n",
    "plt.ylabel('True label')\n",
    "plt.xlabel('Predicted label')\n",
    "tick_marks = np.arange(len(classNames))\n",
    "plt.xticks(tick_marks, classNames, rotation=45)\n",
    "plt.yticks(tick_marks, classNames)\n",
    "s = [['TN','FP'], ['FN', 'TP']]\n",
    "for i in range(2):\n",
    "    for j in range(2):\n",
    "        plt.text(j-0.25,i, str(s[i][j])+\" = \"+str(cm[i][j]))\n",
    "plt.show()"
   ]
  },
  {
   "cell_type": "code",
   "execution_count": 252,
   "metadata": {},
   "outputs": [],
   "source": [
    "from sklearn.ensemble import RandomForestClassifier"
   ]
  },
  {
   "cell_type": "code",
   "execution_count": 253,
   "metadata": {},
   "outputs": [],
   "source": [
    "rf = RandomForestClassifier().fit(X_train, y_train)"
   ]
  },
  {
   "cell_type": "code",
   "execution_count": 265,
   "metadata": {},
   "outputs": [
    {
     "data": {
      "text/plain": [
       "0.770566668810703"
      ]
     },
     "execution_count": 265,
     "metadata": {},
     "output_type": "execute_result"
    }
   ],
   "source": [
    "accuracy_score(y_test, rf.predict(X_test))"
   ]
  },
  {
   "cell_type": "code",
   "execution_count": 266,
   "metadata": {},
   "outputs": [
    {
     "data": {
      "text/plain": [
       "0.36383092562867847"
      ]
     },
     "execution_count": 266,
     "metadata": {},
     "output_type": "execute_result"
    }
   ],
   "source": [
    "f1_score(y_test, rf.predict(X_test))"
   ]
  },
  {
   "cell_type": "code",
   "execution_count": 267,
   "metadata": {},
   "outputs": [
    {
     "data": {
      "text/plain": [
       "0.6017234123009031"
      ]
     },
     "execution_count": 267,
     "metadata": {},
     "output_type": "execute_result"
    }
   ],
   "source": [
    "roc_auc_score(y_test, rf.predict(X_test))"
   ]
  },
  {
   "cell_type": "code",
   "execution_count": 269,
   "metadata": {},
   "outputs": [
    {
     "data": {
      "text/plain": [
       "array([[21920,  1256],\n",
       "       [ 5878,  2040]], dtype=int64)"
      ]
     },
     "execution_count": 269,
     "metadata": {},
     "output_type": "execute_result"
    }
   ],
   "source": [
    "confusion_matrix(y_test, rf.predict(X_test))"
   ]
  }
 ],
 "metadata": {
  "kernelspec": {
   "display_name": "Python 3",
   "language": "python",
   "name": "python3"
  },
  "language_info": {
   "codemirror_mode": {
    "name": "ipython",
    "version": 3
   },
   "file_extension": ".py",
   "mimetype": "text/x-python",
   "name": "python",
   "nbconvert_exporter": "python",
   "pygments_lexer": "ipython3",
   "version": "3.7.6"
  }
 },
 "nbformat": 4,
 "nbformat_minor": 4
}
