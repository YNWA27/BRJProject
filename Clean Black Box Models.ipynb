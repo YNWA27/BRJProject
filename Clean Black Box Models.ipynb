{
 "cells": [
  {
   "cell_type": "markdown",
   "metadata": {},
   "source": [
    "# Ideas & Stuff that needs to be done:\n",
    "- Good data splits\n",
    "- Feature Importance\n",
    "- Comparison of uncomplicated vs. complicated\n",
    "- Do result visualization (e.g. ROC/AUC)\n",
    "- Feature Selection comparison\n",
    "- Include recommendations based on predictions"
   ]
  },
  {
   "cell_type": "code",
   "execution_count": 110,
   "metadata": {},
   "outputs": [],
   "source": [
    "import pandas as pd\n",
    "from sklearn.model_selection import train_test_split\n",
    "import seaborn as sns\n",
    "import matplotlib.pyplot as plt\n",
    "import numpy as np"
   ]
  },
  {
   "cell_type": "code",
   "execution_count": 111,
   "metadata": {},
   "outputs": [],
   "source": [
    "features = pd.read_csv('all_uti_features.csv', index_col = 'example_id')\n",
    "prescrip = pd.read_csv('all_prescriptions.csv', index_col = 'example_id')\n",
    "resistance = pd.read_csv('all_uti_resist_labels.csv', index_col = 'example_id')"
   ]
  },
  {
   "cell_type": "markdown",
   "metadata": {},
   "source": [
    "### For us, resistance to SXT and CIP is the target variable to predict!"
   ]
  },
  {
   "cell_type": "code",
   "execution_count": 183,
   "metadata": {},
   "outputs": [],
   "source": [
    "cip_df = resistance[['SXT']].join(features)"
   ]
  },
  {
   "cell_type": "markdown",
   "metadata": {},
   "source": [
    "## Divide into train & test data\n",
    "\n",
    "- Don't touch the test data afterwards!\n",
    "- Avoid having the same person in train & test data -> data leakage "
   ]
  },
  {
   "cell_type": "code",
   "execution_count": 184,
   "metadata": {},
   "outputs": [],
   "source": [
    "from sklearn.model_selection import train_test_split"
   ]
  },
  {
   "cell_type": "code",
   "execution_count": 185,
   "metadata": {},
   "outputs": [],
   "source": [
    "cip_df = cip_df.drop(cip_df.columns[cip_df.columns.str.contains('selected micro - ', regex=True, na=True)], axis = 1)"
   ]
  },
  {
   "cell_type": "code",
   "execution_count": 186,
   "metadata": {},
   "outputs": [],
   "source": [
    "cip_y = cip_df[['SXT']]\n",
    "cip_X = cip_df.drop('SXT', axis = 1)"
   ]
  },
  {
   "cell_type": "code",
   "execution_count": 225,
   "metadata": {},
   "outputs": [],
   "source": [
    "X_train, X_test, y_train, y_test = train_test_split(cip_X, cip_y, train_size = 0.7)"
   ]
  },
  {
   "cell_type": "code",
   "execution_count": 226,
   "metadata": {},
   "outputs": [
    {
     "name": "stderr",
     "output_type": "stream",
     "text": [
      "C:\\Users\\benne\\anaconda3\\lib\\site-packages\\ipykernel_launcher.py:1: SettingWithCopyWarning: \n",
      "A value is trying to be set on a copy of a slice from a DataFrame.\n",
      "Try using .loc[row_indexer,col_indexer] = value instead\n",
      "\n",
      "See the caveats in the documentation: https://pandas.pydata.org/pandas-docs/stable/user_guide/indexing.html#returning-a-view-versus-a-copy\n",
      "  \"\"\"Entry point for launching an IPython kernel.\n",
      "C:\\Users\\benne\\anaconda3\\lib\\site-packages\\ipykernel_launcher.py:2: SettingWithCopyWarning: \n",
      "A value is trying to be set on a copy of a slice from a DataFrame.\n",
      "Try using .loc[row_indexer,col_indexer] = value instead\n",
      "\n",
      "See the caveats in the documentation: https://pandas.pydata.org/pandas-docs/stable/user_guide/indexing.html#returning-a-view-versus-a-copy\n",
      "  \n"
     ]
    }
   ],
   "source": [
    "X_train['SXT'] = y_train['SXT']\n",
    "X_test['SXT'] = y_test['SXT']"
   ]
  },
  {
   "cell_type": "code",
   "execution_count": 227,
   "metadata": {},
   "outputs": [
    {
     "name": "stderr",
     "output_type": "stream",
     "text": [
      "C:\\Users\\benne\\anaconda3\\lib\\site-packages\\ipykernel_launcher.py:1: SettingWithCopyWarning: \n",
      "A value is trying to be set on a copy of a slice from a DataFrame\n",
      "\n",
      "See the caveats in the documentation: https://pandas.pydata.org/pandas-docs/stable/user_guide/indexing.html#returning-a-view-versus-a-copy\n",
      "  \"\"\"Entry point for launching an IPython kernel.\n",
      "C:\\Users\\benne\\anaconda3\\lib\\site-packages\\ipykernel_launcher.py:2: SettingWithCopyWarning: \n",
      "A value is trying to be set on a copy of a slice from a DataFrame\n",
      "\n",
      "See the caveats in the documentation: https://pandas.pydata.org/pandas-docs/stable/user_guide/indexing.html#returning-a-view-versus-a-copy\n",
      "  \n"
     ]
    }
   ],
   "source": [
    "X_train.dropna(inplace = True)\n",
    "X_test.dropna(inplace = True)"
   ]
  },
  {
   "cell_type": "code",
   "execution_count": 228,
   "metadata": {},
   "outputs": [],
   "source": [
    "y_train = X_train['SXT']\n",
    "X_train = X_train.drop('SXT', axis = 1)\n",
    "y_test = X_test['SXT']\n",
    "X_test = X_test.drop('SXT', axis = 1)"
   ]
  },
  {
   "cell_type": "markdown",
   "metadata": {},
   "source": [
    "## Feature Reduction"
   ]
  },
  {
   "cell_type": "markdown",
   "metadata": {},
   "source": [
    "#### Eliminate sparse binary features"
   ]
  },
  {
   "cell_type": "code",
   "execution_count": 229,
   "metadata": {},
   "outputs": [
    {
     "name": "stdout",
     "output_type": "stream",
     "text": [
      "micro - prev resistance SAM 14    59.0\n",
      "dtype: float64\n",
      "micro - prev resistance STRS 30    69.0\n",
      "dtype: float64\n",
      "micro - prev resistance CTT 90    47.0\n",
      "dtype: float64\n",
      "ab class 7 - ansamycin    21.0\n",
      "dtype: float64\n",
      "medication 7 - ceftazidime    21.0\n",
      "dtype: float64\n",
      "medication 7 - cefpodoxime    65.0\n",
      "dtype: float64\n",
      "medication 7 - tetracycline    12.0\n",
      "dtype: float64\n",
      "medication 7 - dicloxacillin    31.0\n",
      "dtype: float64\n",
      "medication 7 - cefuroxime    18.0\n",
      "dtype: float64\n",
      "medication 7 - minocycline    15.0\n",
      "dtype: float64\n",
      "medication 7 - rifampin    21.0\n",
      "dtype: float64\n",
      "medication 7 - clarithromycin    29.0\n",
      "dtype: float64\n",
      "medication 7 - nafcillin    47.0\n",
      "dtype: float64\n",
      "medication 7 - erythromycin    61.0\n",
      "dtype: float64\n",
      "medication 7 - cefadroxil    11.0\n",
      "dtype: float64\n",
      "ab class 14 - fosfomycin    70.0\n",
      "dtype: float64\n",
      "ab class 14 - ansamycin    45.0\n",
      "dtype: float64\n",
      "medication 14 - tetracycline    20.0\n",
      "dtype: float64\n",
      "medication 14 - dicloxacillin    55.0\n",
      "dtype: float64\n",
      "medication 14 - clarithromycin    52.0\n",
      "dtype: float64\n",
      "medication 14 - moxifloxacin    46.0\n",
      "dtype: float64\n",
      "medication 14 - fosfomycin    70.0\n",
      "dtype: float64\n",
      "medication 14 - cefuroxime    47.0\n",
      "dtype: float64\n",
      "medication 14 - minocycline    22.0\n",
      "dtype: float64\n",
      "medication 14 - rifampin    45.0\n",
      "dtype: float64\n",
      "medication 14 - cefadroxil    27.0\n",
      "dtype: float64\n",
      "medication 30 - tetracycline    49.0\n",
      "dtype: float64\n",
      "medication 30 - minocycline    57.0\n",
      "dtype: float64\n",
      "medication 30 - cefadroxil    48.0\n",
      "dtype: float64\n",
      "ab class 90 - mixed    71.0\n",
      "dtype: float64\n",
      "medication 90 - cefprozil    18.0\n",
      "dtype: float64\n",
      "medication 90 - cefaclor    19.0\n",
      "dtype: float64\n",
      "medication 90 - amoxicillin_clarithromycin    64.0\n",
      "dtype: float64\n",
      "medication 180 - ofloxacin    24.0\n",
      "dtype: float64\n",
      "medication 180 - cefaclor    37.0\n",
      "dtype: float64\n",
      "medication 180 - cefprozil    25.0\n",
      "dtype: float64\n",
      "infection_sites - MUCOCUTANEOUS    26.0\n",
      "dtype: float64\n",
      "infection_sites - GENITOURINARY    53.0\n",
      "dtype: float64\n"
     ]
    }
   ],
   "source": [
    "for feature in X_train.columns:\n",
    "    if X_train[feature].unique().shape[0] == 2: # Check if variable is binary\n",
    "        if (X_train[feature].sum() / X_train.shape[0]) <= 0.001: # Check if positive patients are sparse\n",
    "            print(X_train[[feature]].sum())\n",
    "            X_train.drop(feature, axis = 1, inplace = True)\n",
    "            X_test.drop(feature, axis = 1, inplace = True)"
   ]
  },
  {
   "cell_type": "code",
   "execution_count": 230,
   "metadata": {},
   "outputs": [
    {
     "data": {
      "text/plain": [
       "Index(['demographics - age', 'demographics - is_white',\n",
       "       'demographics - is_veteran', 'micro - prev resistance LVX 14',\n",
       "       'micro - prev resistance AMP 14', 'micro - prev resistance CFZ 14',\n",
       "       'micro - prev resistance NIT 14', 'micro - prev resistance GEN 14',\n",
       "       'micro - prev resistance SXT 14', 'micro - prev resistance TET 14',\n",
       "       ...\n",
       "       'infection_sites - RESPIRATORY_TRACT', 'infection_sites - BLOOD',\n",
       "       'infection_sites - SKIN_SOFTTISSUE',\n",
       "       'infection_sites - ABSCESS_OR_FLUID_NOS', 'hosp ward - ER',\n",
       "       'hosp ward - ICU', 'hosp ward - IP', 'hosp ward - OP', 'is_train',\n",
       "       'uncomplicated'],\n",
       "      dtype='object', length=678)"
      ]
     },
     "execution_count": 230,
     "metadata": {},
     "output_type": "execute_result"
    }
   ],
   "source": [
    "X_train.columns"
   ]
  },
  {
   "cell_type": "markdown",
   "metadata": {},
   "source": [
    "## Feature Selection"
   ]
  },
  {
   "cell_type": "code",
   "execution_count": 231,
   "metadata": {},
   "outputs": [
    {
     "data": {
      "text/plain": [
       "<matplotlib.axes._subplots.AxesSubplot at 0x29996b9d4c8>"
      ]
     },
     "execution_count": 231,
     "metadata": {},
     "output_type": "execute_result"
    },
    {
     "data": {
      "image/png": "[encoded data removed]",
      "text/plain": [
       "<Figure size 432x288 with 2 Axes>"
      ]
     },
     "metadata": {
      "needs_background": "light"
     },
     "output_type": "display_data"
    }
   ],
   "source": [
    "sns.heatmap(np.corrcoef(X_train.join(y_train), rowvar = False))"
   ]
  },
  {
   "cell_type": "code",
   "execution_count": 232,
   "metadata": {},
   "outputs": [
    {
     "data": {
      "text/plain": [
       "array([-9.02481997e-03, -8.87923638e-02,  8.76627102e-03,  3.73675277e-02,\n",
       "        3.47094367e-02,  2.33418106e-02,  2.22113854e-02,  2.71669181e-02,\n",
       "        5.42938468e-02,  3.83593257e-02,  2.62306884e-02,  3.47013716e-02,\n",
       "        5.14855492e-02,  3.44990548e-02,  2.96395171e-02,  2.59943781e-02,\n",
       "        1.08825223e-01,  8.25556196e-02,  3.66587100e-02,  1.05750678e-01,\n",
       "        2.81849971e-02,  1.91859711e-02,  6.38981716e-02,  1.11537785e-01,\n",
       "        1.08172901e-01,  8.63157057e-02,  8.78570763e-02,  1.70924346e-01,\n",
       "        7.33469388e-02,  6.62547904e-02,  4.01500698e-02,  5.21435471e-02,\n",
       "        5.30345684e-02,  7.00576226e-02,  2.56961035e-02,  2.23818827e-02,\n",
       "        1.07936804e-01,  1.56283227e-01,  9.36868632e-02,  5.83417472e-02,\n",
       "        1.59805626e-01,  1.24337741e-01,  2.57626424e-02,  6.13735895e-02,\n",
       "        2.54563213e-01,  1.61640875e-01,  1.07146809e-01,  1.58291662e-01,\n",
       "        8.92217511e-02,  5.15423103e-02,  6.00221222e-02,  7.74231001e-02,\n",
       "        2.56546235e-02,  4.37758260e-02,  2.73718736e-02,  4.04738219e-02,\n",
       "        3.63336048e-02,  1.31620702e-01,  5.70394638e-02,  3.37942869e-02,\n",
       "        6.65664621e-02,  9.10536022e-02,  7.39672398e-02,  5.13373975e-02,\n",
       "        1.90466626e-02,  9.95950470e-02,  2.88323170e-02,  3.84737202e-02,\n",
       "        3.92398537e-02,  3.83225567e-02,  1.75754529e-01,  1.66937976e-01,\n",
       "        1.12792150e-01,  1.77943145e-01,  1.50244856e-01,  7.21577160e-02,\n",
       "        1.05447046e-01,  6.39634062e-02,  4.35657163e-02,  7.59912301e-02,\n",
       "        9.19351619e-02,  6.58023831e-02,  7.63475541e-02,  5.00485376e-02,\n",
       "        3.70908366e-02,  3.39090997e-02,  5.18116347e-02,  4.62081445e-02,\n",
       "        1.76569413e-01,  1.20875793e-01,  5.15272160e-02,  6.45628910e-02,\n",
       "        3.82863821e-02,  1.33908980e-01,  1.88454148e-02,  9.83780181e-02,\n",
       "        9.75576833e-02,  2.77882497e-01,  7.52462812e-02,  8.26513502e-02,\n",
       "        4.74094689e-02,  2.27045929e-02,  1.10587915e-01,  3.12082220e-02,\n",
       "        4.50525949e-02,  4.98520679e-02,  4.76003801e-02,  8.91269483e-02,\n",
       "        1.02502159e-01,  1.71342256e-01,  8.61075182e-02,  8.83937623e-02,\n",
       "        1.55976547e-01,  1.45998661e-01,  1.75540911e-01,  2.34744027e-01,\n",
       "        4.31967195e-02,  6.36705435e-02,  9.67059845e-02,  9.83206929e-02,\n",
       "        6.82938692e-02,  6.67742911e-02,  1.19101748e-01,  1.21991117e-01,\n",
       "        7.76730364e-02,  1.35351191e-01,  1.16979446e-01,  4.95321858e-02,\n",
       "        9.78288339e-02,  1.56177216e-01,  6.53082037e-02,  5.58211792e-02,\n",
       "        6.08874393e-02,  2.94621044e-02,  6.62586126e-02,  8.41260668e-02,\n",
       "        6.31939503e-02,  9.77505428e-02,  4.18604523e-02,  1.06402424e-01,\n",
       "        5.43347730e-02,  4.37413740e-02,  6.98862433e-02,  4.65415765e-02,\n",
       "        5.46593843e-02, -2.34129245e-04,  9.85425131e-03,  4.32087302e-03,\n",
       "        1.35369795e-02,  1.13588246e-01,  2.26490743e-02,  2.51622912e-02,\n",
       "        2.36964988e-02,  4.88689386e-02,  2.56756038e-02, -2.34129245e-04,\n",
       "        9.85425131e-03, -3.67481444e-03,  6.41171473e-03,  1.35369795e-02,\n",
       "        1.13709358e-01,  1.39028584e-02,  1.20323891e-02,  1.98142993e-02,\n",
       "        1.73717416e-02,  1.47717305e-02,  2.26563326e-02,  2.07539426e-02,\n",
       "       -6.21176632e-04,  2.44920749e-02,  1.73451402e-02,  2.63596263e-02,\n",
       "       -2.57391673e-03,  7.31006713e-04,  2.67804460e-02,  7.64005615e-02,\n",
       "        3.05841874e-02,  1.54947847e-02,  1.47525252e-02,  1.16735975e-02,\n",
       "        1.34349635e-01,  3.98867918e-02,  3.93424947e-02,  6.08520807e-02,\n",
       "        3.05841874e-02,  4.38988603e-02,  1.54947847e-02,  1.47525252e-02,\n",
       "       -5.33841835e-04,  1.25369337e-02,  2.57450345e-02,  1.33932107e-01,\n",
       "        2.19012720e-02,  3.37267308e-02,  1.70674836e-02,  1.85835027e-02,\n",
       "        2.35028684e-02,  1.18147068e-02,  2.18964209e-02,  7.10349580e-03,\n",
       "        6.84480677e-04,  2.60237008e-02,  3.84509275e-02,  2.63319778e-02,\n",
       "        8.30589945e-04,  2.08420513e-03,  4.02523060e-02, -2.26397393e-03,\n",
       "        2.08047843e-02,  3.27070604e-02,  1.01315505e-01,  4.39515142e-02,\n",
       "        4.41687186e-02,  2.68432599e-02,  7.16834703e-02,  1.46977283e-01,\n",
       "        4.85795212e-02,  1.57377392e-02,  2.58159305e-02,  1.99482131e-02,\n",
       "        1.21716855e-02,  1.98397310e-02,  1.49414293e-02,  7.99027183e-02,\n",
       "        4.39515142e-02,  6.40830104e-02,  4.41687186e-02,  2.68432599e-02,\n",
       "        1.34824390e-02,  5.57714253e-03,  2.98279632e-02, -5.17619337e-04,\n",
       "        1.46050405e-01,  3.16558332e-02,  2.40829595e-02,  4.11755454e-02,\n",
       "        1.57377392e-02,  2.05009322e-02,  2.04089582e-03,  4.48563997e-02,\n",
       "       -7.55560281e-03,  3.23219493e-02,  2.50508976e-02,  1.62983559e-02,\n",
       "        1.32080250e-02,  1.99482131e-02,  3.86375816e-03,  2.27977838e-02,\n",
       "        3.40758366e-03,  6.65538416e-03,  1.21716855e-02,  1.06466520e-02,\n",
       "        3.75192888e-02,  3.22004476e-02,  4.65579647e-02,  3.18345275e-03,\n",
       "        5.75724085e-02,  2.31476804e-03,  3.49272458e-02,  1.11824706e-01,\n",
       "        4.07261654e-02,  6.56127747e-02,  1.05588020e-01,  7.96504708e-02,\n",
       "        4.56921561e-02,  1.47445054e-01,  6.30882254e-02,  3.09399067e-02,\n",
       "        2.54478424e-02,  3.76414630e-02,  6.49982824e-02,  1.81715718e-02,\n",
       "        3.14427095e-02,  8.96580647e-02,  1.29567963e-02,  1.99039423e-02,\n",
       "        7.81489296e-02,  6.56127747e-02,  4.75264892e-02,  7.96504708e-02,\n",
       "        8.37216134e-02,  4.56921561e-02,  1.45510951e-01,  9.62267602e-03,\n",
       "        5.15221369e-02,  5.68706459e-02,  2.29437877e-02,  7.78585935e-02,\n",
       "        3.61935091e-02,  3.14700928e-02,  1.21244304e-02,  2.34723428e-02,\n",
       "        3.05861741e-02,  3.09399067e-02,  2.54478424e-02,  5.43638282e-03,\n",
       "        2.23797217e-02,  2.67259831e-03,  3.02583632e-02,  6.49982824e-02,\n",
       "        3.23379221e-02,  2.28755135e-02,  8.01187057e-03,  1.73060448e-02,\n",
       "       -4.30820882e-03,  5.93953279e-02,  5.60020393e-03, -1.60313444e-03,\n",
       "        2.32207732e-03,  3.36220750e-03,  1.81715718e-02,  5.97861010e-02,\n",
       "        8.37216134e-02,  8.81766882e-02,  9.21166619e-02,  6.11672779e-02,\n",
       "        2.77501906e-02,  3.68872321e-02,  5.52363424e-03,  3.03068773e-03,\n",
       "        1.47959319e-01,  3.90631319e-02,  1.14891635e-01,  4.40482188e-02,\n",
       "        7.45283753e-02,  1.12309512e-01,  6.48932888e-02,  9.67191120e-02,\n",
       "        5.92903748e-02,  4.54700186e-02,  3.45323137e-02,  3.04991054e-02,\n",
       "        7.32042461e-02,  1.06120741e-02,  2.31692814e-02,  5.46857138e-03,\n",
       "        1.46083960e-01,  3.23712383e-02,  9.25410734e-02,  1.63885709e-02,\n",
       "        7.45283753e-02,  1.34950654e-02,  8.94466058e-02,  5.74204136e-02,\n",
       "        6.08299619e-02,  6.71451672e-02,  9.67191120e-02,  9.58208695e-02,\n",
       "        3.90262985e-02,  5.92903748e-02,  1.10550472e-02,  3.86925360e-02,\n",
       "        6.54009139e-02,  2.43617831e-02,  9.42926643e-02,  1.65651822e-02,\n",
       "        3.70056333e-02,  1.78969563e-02,  2.89687878e-02,  2.56945931e-02,\n",
       "        3.02203278e-02,  3.45323137e-02,  3.04991054e-02,  8.43720621e-03,\n",
       "        2.18801499e-02,  5.91405514e-03,  3.84500242e-02,  7.32042461e-02,\n",
       "        3.91068680e-02,  1.17668584e-02,  2.14473903e-02, -1.06775595e-04,\n",
       "        7.06182944e-02,  1.66971290e-02,  9.78916396e-03, -2.83537128e-04,\n",
       "        2.31692814e-02,  6.02488422e-03,  7.96910677e-03,  3.94127132e-03,\n",
       "        7.61374384e-03,  7.12530658e-02,  6.39979788e-02,  1.01246916e-01,\n",
       "        9.58208695e-02,  3.98921723e-02,  1.07805066e-01,  3.64549018e-02,\n",
       "        3.71685232e-02,  1.19873484e-02,  9.05292138e-03,  1.66971290e-02,\n",
       "        9.67820659e-02,  1.08102817e-01,  3.79135009e-02,  1.17032814e-01,\n",
       "        7.46121803e-02,  4.22632311e-02,  6.38017750e-02,  8.87384129e-02,\n",
       "        7.55297897e-02,  6.58071335e-02,  4.08657523e-02,  4.30775948e-02,\n",
       "        3.45154875e-02,  9.10523856e-02,  2.18238337e-02,  6.16240691e-03,\n",
       "        9.29534200e-02,  1.08102817e-01,  8.48831701e-02,  1.78107078e-02,\n",
       "        1.16188278e-01,  7.46121803e-02,  1.37908310e-02,  1.91169436e-02,\n",
       "        6.14759604e-02,  3.21439148e-02,  5.30129052e-02,  8.00967755e-02,\n",
       "        4.13199434e-02,  4.25400820e-02,  1.14943838e-01,  6.46684631e-02,\n",
       "        4.21565268e-03,  8.36667160e-02,  1.21855265e-01,  5.23411453e-02,\n",
       "        7.55297897e-02,  3.12843251e-02, -5.86878056e-03,  6.14453474e-02,\n",
       "        1.87474964e-03,  3.98580763e-02,  2.43815982e-02,  8.76994099e-02,\n",
       "        1.40979952e-02,  3.49013534e-02,  2.93190723e-02,  4.08657523e-02,\n",
       "        4.02010302e-02,  1.77574182e-02,  4.30775948e-02,  1.10388712e-02,\n",
       "        3.45154875e-02,  2.31898436e-02,  5.66334482e-02,  9.10523856e-02,\n",
       "        2.15394806e-02,  6.83276981e-03,  5.50104482e-03,  7.58170365e-03,\n",
       "        1.86790840e-02,  2.47539852e-02,  8.60865726e-03,  9.85892894e-03,\n",
       "        4.19224681e-03,  6.35214991e-02,  3.40666919e-02,  5.27341713e-02,\n",
       "        1.21976290e-01,  7.75265557e-02,  1.61556567e-02,  1.18624106e-01,\n",
       "        1.21855265e-01,  5.39029568e-02,  1.81585147e-02,  2.47539852e-02,\n",
       "        2.32318444e-02,  1.12510136e-02,  4.73366469e-02,  7.76580136e-02,\n",
       "        1.61396504e-02,  3.15291451e-02,  2.65688788e-02,  2.60427191e-02,\n",
       "        7.60680743e-03,  1.11267366e-02,  2.62924368e-02,  3.65228376e-02,\n",
       "        3.04702290e-02,  1.04253081e-01,  3.74578101e-02,  2.03654372e-02,\n",
       "        3.32095367e-02,  4.58956118e-02,  7.11341093e-02,  4.91995436e-02,\n",
       "        1.38013880e-02,  3.34012488e-02,  5.91243000e-02,  1.10727575e-01,\n",
       "        4.25290011e-02,  8.39423612e-02,  2.55587679e-02,  1.81615713e-02,\n",
       "        5.23835999e-02,  3.44569882e-02,  3.60914640e-02,  1.46923211e-02,\n",
       "        4.10780025e-02,  5.57070884e-02,  1.93795934e-02,  2.72828148e-02,\n",
       "        9.03761478e-03,  3.58743433e-03, -1.33529164e-03,  2.83015985e-02,\n",
       "        2.13946231e-02,  4.34894621e-02,  1.95997440e-02,  9.45629471e-03,\n",
       "       -7.34107300e-04,  1.53066658e-02,  2.43042141e-03,  3.11633614e-02,\n",
       "        4.73265380e-02,  2.02345131e-02,  1.96920498e-02,  3.59713061e-02,\n",
       "       -1.09965003e-02,  8.10208711e-03,  6.33418256e-03, -4.80558198e-03,\n",
       "        3.17275783e-02,  2.85205385e-03,  1.05804856e-02,  2.60310766e-02,\n",
       "        1.68625782e-02,  2.14606612e-02,  1.35077311e-02,  2.19329639e-04,\n",
       "       -2.87741652e-03,  1.19104928e-02,  1.95383508e-02,  9.82149110e-03,\n",
       "        7.13921187e-03, -3.48086446e-03,  3.13420380e-02,  1.91081527e-02,\n",
       "        2.26412705e-02,  4.52045438e-02,  1.02136093e-02,  9.91601246e-04,\n",
       "        1.62097409e-02,  4.05579125e-03,  3.23329078e-02,  4.90371308e-02,\n",
       "        2.25544019e-02,  2.30197014e-02,  3.78583643e-02, -8.79935295e-03,\n",
       "        1.10473611e-02,  2.11627961e-02,  7.81584516e-03, -3.77134654e-03,\n",
       "        3.19156398e-02,  3.29715247e-03,  1.83090921e-02,  1.20036797e-02,\n",
       "        2.60981413e-02,  1.39665071e-02,  1.21862558e-02,  2.52654628e-03,\n",
       "        1.18707972e-03,  2.25747889e-02,  1.82768549e-02,  1.42434654e-02,\n",
       "       -4.64156313e-05,  3.59860638e-02,  2.42881396e-02,  3.47071509e-02,\n",
       "        4.47685688e-02,  1.34839981e-02,  5.02540148e-03,  1.94446548e-02,\n",
       "        4.99223041e-03,  3.71222367e-02,  5.41616040e-02,  3.06441588e-02,\n",
       "        2.62439188e-02,  4.05819341e-02, -6.61927021e-04,  1.97666838e-02,\n",
       "        2.86064213e-02,  7.50281243e-03, -2.13442830e-03,  3.93908955e-02,\n",
       "        7.21297321e-03,  2.20664510e-02,  1.70069817e-02,  2.75420977e-02,\n",
       "        1.88670011e-02,  1.79006065e-02,  4.18522798e-03,  4.22836009e-03,\n",
       "        2.43352937e-02,  2.84650836e-02,  2.09075315e-02,  1.93829656e-03,\n",
       "        3.88343508e-02,  3.48459154e-02,  5.47998663e-02,  4.17042567e-02,\n",
       "        1.39489075e-02,  4.51989328e-02,  1.04243583e-02,  2.26451722e-02,\n",
       "        1.15715035e-02,  3.56279627e-02,  6.13703389e-02,  5.22012951e-02,\n",
       "        3.46019403e-02,  1.23376251e-02,  4.86917708e-02,  3.00346489e-02,\n",
       "        3.65372647e-02,  1.89374975e-02,  3.19314025e-03,  1.10928024e-02,\n",
       "        2.96587944e-02,  2.31774785e-02,  3.27355825e-02,  2.99905949e-02,\n",
       "        2.09763130e-02,  7.56450998e-03,  9.26995914e-03,  2.40811414e-02,\n",
       "        3.72970281e-02,  2.33284466e-02,  2.71102899e-03,  4.06140886e-02,\n",
       "        4.14990353e-02,  3.88494362e-02,  6.35638945e-02,  4.15253740e-02,\n",
       "        1.70339962e-02,  4.73419031e-02,  1.77288663e-02,  2.20765209e-02,\n",
       "        2.80388896e-02,  1.67426474e-02,  6.61324423e-02,  5.92086111e-02,\n",
       "        4.37916929e-02,  2.06946844e-02,  5.35581919e-02,  3.57483006e-02,\n",
       "        3.98046432e-02,  6.73033082e-03,  1.12256838e-02,  3.69752927e-02,\n",
       "        2.77757612e-02,  3.81092980e-02,  3.62591326e-02,  2.67547846e-02,\n",
       "        1.04807979e-02,  1.21107212e-02,  2.46376206e-02,  7.51941911e-02,\n",
       "        3.52866943e-02,  2.51365377e-02,  3.68486253e-02,  1.45198978e-02,\n",
       "        2.63534137e-02,  2.52664825e-02,  2.69544958e-02,  3.63167327e-02,\n",
       "        3.95216694e-03,  2.54080182e-02,  1.39934264e-02,  1.01367902e-02,\n",
       "        5.19793078e-02,  1.31411333e-02,  1.59913203e-02, -5.42493172e-02,\n",
       "       -1.22279598e-02, -5.47036009e-02,  1.00000000e+00])"
      ]
     },
     "execution_count": 232,
     "metadata": {},
     "output_type": "execute_result"
    }
   ],
   "source": [
    "np.corrcoef(X_train.join(y_train), rowvar = False)[X_train.shape[1]]"
   ]
  },
  {
   "cell_type": "code",
   "execution_count": 233,
   "metadata": {},
   "outputs": [],
   "source": [
    "from sklearn.decomposition import PCA"
   ]
  },
  {
   "cell_type": "code",
   "execution_count": 234,
   "metadata": {},
   "outputs": [
    {
     "ename": "KeyError",
     "evalue": "\"['CIP'] not found in axis\"",
     "output_type": "error",
     "traceback": [
      "\u001b[1;31m---------------------------------------------------------------------------\u001b[0m",
      "\u001b[1;31mKeyError\u001b[0m                                  Traceback (most recent call last)",
      "\u001b[1;32m<ipython-input-234-cbf1d75a90fe>\u001b[0m in \u001b[0;36m<module>\u001b[1;34m\u001b[0m\n\u001b[1;32m----> 1\u001b[1;33m \u001b[0mreduced\u001b[0m \u001b[1;33m=\u001b[0m \u001b[0mPCA\u001b[0m\u001b[1;33m(\u001b[0m\u001b[0mn_components\u001b[0m \u001b[1;33m=\u001b[0m \u001b[1;36m0.9\u001b[0m\u001b[1;33m)\u001b[0m\u001b[1;33m.\u001b[0m\u001b[0mfit_transform\u001b[0m\u001b[1;33m(\u001b[0m\u001b[0mX\u001b[0m \u001b[1;33m=\u001b[0m \u001b[0mcip_df\u001b[0m\u001b[1;33m.\u001b[0m\u001b[0mdrop\u001b[0m\u001b[1;33m(\u001b[0m\u001b[1;34m'CIP'\u001b[0m\u001b[1;33m,\u001b[0m \u001b[0maxis\u001b[0m \u001b[1;33m=\u001b[0m \u001b[1;36m1\u001b[0m\u001b[1;33m)\u001b[0m\u001b[1;33m)\u001b[0m\u001b[1;33m\u001b[0m\u001b[1;33m\u001b[0m\u001b[0m\n\u001b[0m",
      "\u001b[1;32m~\\anaconda3\\lib\\site-packages\\pandas\\core\\frame.py\u001b[0m in \u001b[0;36mdrop\u001b[1;34m(self, labels, axis, index, columns, level, inplace, errors)\u001b[0m\n\u001b[0;32m   3995\u001b[0m             \u001b[0mlevel\u001b[0m\u001b[1;33m=\u001b[0m\u001b[0mlevel\u001b[0m\u001b[1;33m,\u001b[0m\u001b[1;33m\u001b[0m\u001b[1;33m\u001b[0m\u001b[0m\n\u001b[0;32m   3996\u001b[0m             \u001b[0minplace\u001b[0m\u001b[1;33m=\u001b[0m\u001b[0minplace\u001b[0m\u001b[1;33m,\u001b[0m\u001b[1;33m\u001b[0m\u001b[1;33m\u001b[0m\u001b[0m\n\u001b[1;32m-> 3997\u001b[1;33m             \u001b[0merrors\u001b[0m\u001b[1;33m=\u001b[0m\u001b[0merrors\u001b[0m\u001b[1;33m,\u001b[0m\u001b[1;33m\u001b[0m\u001b[1;33m\u001b[0m\u001b[0m\n\u001b[0m\u001b[0;32m   3998\u001b[0m         )\n\u001b[0;32m   3999\u001b[0m \u001b[1;33m\u001b[0m\u001b[0m\n",
      "\u001b[1;32m~\\anaconda3\\lib\\site-packages\\pandas\\core\\generic.py\u001b[0m in \u001b[0;36mdrop\u001b[1;34m(self, labels, axis, index, columns, level, inplace, errors)\u001b[0m\n\u001b[0;32m   3934\u001b[0m         \u001b[1;32mfor\u001b[0m \u001b[0maxis\u001b[0m\u001b[1;33m,\u001b[0m \u001b[0mlabels\u001b[0m \u001b[1;32min\u001b[0m \u001b[0maxes\u001b[0m\u001b[1;33m.\u001b[0m\u001b[0mitems\u001b[0m\u001b[1;33m(\u001b[0m\u001b[1;33m)\u001b[0m\u001b[1;33m:\u001b[0m\u001b[1;33m\u001b[0m\u001b[1;33m\u001b[0m\u001b[0m\n\u001b[0;32m   3935\u001b[0m             \u001b[1;32mif\u001b[0m \u001b[0mlabels\u001b[0m \u001b[1;32mis\u001b[0m \u001b[1;32mnot\u001b[0m \u001b[1;32mNone\u001b[0m\u001b[1;33m:\u001b[0m\u001b[1;33m\u001b[0m\u001b[1;33m\u001b[0m\u001b[0m\n\u001b[1;32m-> 3936\u001b[1;33m                 \u001b[0mobj\u001b[0m \u001b[1;33m=\u001b[0m \u001b[0mobj\u001b[0m\u001b[1;33m.\u001b[0m\u001b[0m_drop_axis\u001b[0m\u001b[1;33m(\u001b[0m\u001b[0mlabels\u001b[0m\u001b[1;33m,\u001b[0m \u001b[0maxis\u001b[0m\u001b[1;33m,\u001b[0m \u001b[0mlevel\u001b[0m\u001b[1;33m=\u001b[0m\u001b[0mlevel\u001b[0m\u001b[1;33m,\u001b[0m \u001b[0merrors\u001b[0m\u001b[1;33m=\u001b[0m\u001b[0merrors\u001b[0m\u001b[1;33m)\u001b[0m\u001b[1;33m\u001b[0m\u001b[1;33m\u001b[0m\u001b[0m\n\u001b[0m\u001b[0;32m   3937\u001b[0m \u001b[1;33m\u001b[0m\u001b[0m\n\u001b[0;32m   3938\u001b[0m         \u001b[1;32mif\u001b[0m \u001b[0minplace\u001b[0m\u001b[1;33m:\u001b[0m\u001b[1;33m\u001b[0m\u001b[1;33m\u001b[0m\u001b[0m\n",
      "\u001b[1;32m~\\anaconda3\\lib\\site-packages\\pandas\\core\\generic.py\u001b[0m in \u001b[0;36m_drop_axis\u001b[1;34m(self, labels, axis, level, errors)\u001b[0m\n\u001b[0;32m   3968\u001b[0m                 \u001b[0mnew_axis\u001b[0m \u001b[1;33m=\u001b[0m \u001b[0maxis\u001b[0m\u001b[1;33m.\u001b[0m\u001b[0mdrop\u001b[0m\u001b[1;33m(\u001b[0m\u001b[0mlabels\u001b[0m\u001b[1;33m,\u001b[0m \u001b[0mlevel\u001b[0m\u001b[1;33m=\u001b[0m\u001b[0mlevel\u001b[0m\u001b[1;33m,\u001b[0m \u001b[0merrors\u001b[0m\u001b[1;33m=\u001b[0m\u001b[0merrors\u001b[0m\u001b[1;33m)\u001b[0m\u001b[1;33m\u001b[0m\u001b[1;33m\u001b[0m\u001b[0m\n\u001b[0;32m   3969\u001b[0m             \u001b[1;32melse\u001b[0m\u001b[1;33m:\u001b[0m\u001b[1;33m\u001b[0m\u001b[1;33m\u001b[0m\u001b[0m\n\u001b[1;32m-> 3970\u001b[1;33m                 \u001b[0mnew_axis\u001b[0m \u001b[1;33m=\u001b[0m \u001b[0maxis\u001b[0m\u001b[1;33m.\u001b[0m\u001b[0mdrop\u001b[0m\u001b[1;33m(\u001b[0m\u001b[0mlabels\u001b[0m\u001b[1;33m,\u001b[0m \u001b[0merrors\u001b[0m\u001b[1;33m=\u001b[0m\u001b[0merrors\u001b[0m\u001b[1;33m)\u001b[0m\u001b[1;33m\u001b[0m\u001b[1;33m\u001b[0m\u001b[0m\n\u001b[0m\u001b[0;32m   3971\u001b[0m             \u001b[0mresult\u001b[0m \u001b[1;33m=\u001b[0m \u001b[0mself\u001b[0m\u001b[1;33m.\u001b[0m\u001b[0mreindex\u001b[0m\u001b[1;33m(\u001b[0m\u001b[1;33m**\u001b[0m\u001b[1;33m{\u001b[0m\u001b[0maxis_name\u001b[0m\u001b[1;33m:\u001b[0m \u001b[0mnew_axis\u001b[0m\u001b[1;33m}\u001b[0m\u001b[1;33m)\u001b[0m\u001b[1;33m\u001b[0m\u001b[1;33m\u001b[0m\u001b[0m\n\u001b[0;32m   3972\u001b[0m \u001b[1;33m\u001b[0m\u001b[0m\n",
      "\u001b[1;32m~\\anaconda3\\lib\\site-packages\\pandas\\core\\indexes\\base.py\u001b[0m in \u001b[0;36mdrop\u001b[1;34m(self, labels, errors)\u001b[0m\n\u001b[0;32m   5016\u001b[0m         \u001b[1;32mif\u001b[0m \u001b[0mmask\u001b[0m\u001b[1;33m.\u001b[0m\u001b[0many\u001b[0m\u001b[1;33m(\u001b[0m\u001b[1;33m)\u001b[0m\u001b[1;33m:\u001b[0m\u001b[1;33m\u001b[0m\u001b[1;33m\u001b[0m\u001b[0m\n\u001b[0;32m   5017\u001b[0m             \u001b[1;32mif\u001b[0m \u001b[0merrors\u001b[0m \u001b[1;33m!=\u001b[0m \u001b[1;34m\"ignore\"\u001b[0m\u001b[1;33m:\u001b[0m\u001b[1;33m\u001b[0m\u001b[1;33m\u001b[0m\u001b[0m\n\u001b[1;32m-> 5018\u001b[1;33m                 \u001b[1;32mraise\u001b[0m \u001b[0mKeyError\u001b[0m\u001b[1;33m(\u001b[0m\u001b[1;34mf\"{labels[mask]} not found in axis\"\u001b[0m\u001b[1;33m)\u001b[0m\u001b[1;33m\u001b[0m\u001b[1;33m\u001b[0m\u001b[0m\n\u001b[0m\u001b[0;32m   5019\u001b[0m             \u001b[0mindexer\u001b[0m \u001b[1;33m=\u001b[0m \u001b[0mindexer\u001b[0m\u001b[1;33m[\u001b[0m\u001b[1;33m~\u001b[0m\u001b[0mmask\u001b[0m\u001b[1;33m]\u001b[0m\u001b[1;33m\u001b[0m\u001b[1;33m\u001b[0m\u001b[0m\n\u001b[0;32m   5020\u001b[0m         \u001b[1;32mreturn\u001b[0m \u001b[0mself\u001b[0m\u001b[1;33m.\u001b[0m\u001b[0mdelete\u001b[0m\u001b[1;33m(\u001b[0m\u001b[0mindexer\u001b[0m\u001b[1;33m)\u001b[0m\u001b[1;33m\u001b[0m\u001b[1;33m\u001b[0m\u001b[0m\n",
      "\u001b[1;31mKeyError\u001b[0m: \"['CIP'] not found in axis\""
     ]
    }
   ],
   "source": [
    "reduced = PCA(n_components = 0.9).fit_transform(X = cip_df.drop('CIP', axis = 1))"
   ]
  },
  {
   "cell_type": "code",
   "execution_count": null,
   "metadata": {},
   "outputs": [],
   "source": [
    "pd.DataFrame(reduced, index = cip_df.index)"
   ]
  },
  {
   "cell_type": "markdown",
   "metadata": {},
   "source": [
    "## Construct \"Blackbox\" Models\n",
    "\n",
    "Models to test & tune: \n",
    "- XGBoost\n",
    "- Neural Net\n",
    "- Random Forest\n",
    "- Ensembles of all of them"
   ]
  },
  {
   "cell_type": "code",
   "execution_count": 235,
   "metadata": {},
   "outputs": [],
   "source": [
    "def report_best_scores(results, n_top=3):\n",
    "    for i in range(1, n_top + 1):\n",
    "        candidates = np.flatnonzero(results['rank_test_score'] == i)\n",
    "        for candidate in candidates:\n",
    "            print(\"Model with rank: {0}\".format(i))\n",
    "            print(\"Mean validation score: {0:.3f} (std: {1:.3f})\".format(\n",
    "                  results['mean_test_score'][candidate],\n",
    "                  results['std_test_score'][candidate]))\n",
    "            print(\"Parameters: {0}\".format(results['params'][candidate]))\n",
    "            print(\"\")"
   ]
  },
  {
   "cell_type": "code",
   "execution_count": 236,
   "metadata": {},
   "outputs": [],
   "source": [
    "import xgboost as xgb\n",
    "from scipy.stats import uniform, randint\n",
    "from sklearn.model_selection import cross_val_score, GridSearchCV, KFold, RandomizedSearchCV, train_test_split"
   ]
  },
  {
   "cell_type": "code",
   "execution_count": 237,
   "metadata": {},
   "outputs": [],
   "source": [
    "xgb_mod = xgb.XGBClassifier(objective = 'binary:logistic')"
   ]
  },
  {
   "cell_type": "code",
   "execution_count": 238,
   "metadata": {},
   "outputs": [
    {
     "name": "stdout",
     "output_type": "stream",
     "text": [
      "Fitting 3 folds for each of 5 candidates, totalling 15 fits\n"
     ]
    },
    {
     "name": "stderr",
     "output_type": "stream",
     "text": [
      "[Parallel(n_jobs=7)]: Using backend LokyBackend with 7 concurrent workers.\n",
      "[Parallel(n_jobs=7)]: Done  15 out of  15 | elapsed:  6.2min finished\n",
      "C:\\Users\\benne\\anaconda3\\lib\\site-packages\\xgboost\\sklearn.py:1146: UserWarning: The use of label encoder in XGBClassifier is deprecated and will be removed in a future release. To remove this warning, do the following: 1) Pass option use_label_encoder=False when constructing XGBClassifier object; and 2) Encode your labels (y) as integers starting with 0, i.e. 0, 1, 2, ..., [num_class - 1].\n",
      "  warnings.warn(label_encoder_deprecation_msg, UserWarning)\n"
     ]
    },
    {
     "name": "stdout",
     "output_type": "stream",
     "text": [
      "[17:07:36] WARNING: C:/Users/Administrator/workspace/xgboost-win64_release_1.4.0/src/learner.cc:1095: Starting in XGBoost 1.3.0, the default evaluation metric used with the objective 'binary:logistic' was changed from 'error' to 'logloss'. Explicitly set eval_metric if you'd like to restore the old behavior.\n",
      "Model with rank: 1\n",
      "Mean validation score: 0.706 (std: 0.000)\n",
      "Parameters: {'colsample_bytree': 0.8835558684167137, 'gamma': 0.06974693032602092, 'learning_rate': 0.11764339456056544, 'max_depth': 5, 'n_estimators': 114, 'subsample': 0.7824279936868144}\n",
      "\n"
     ]
    }
   ],
   "source": [
    "params = {\n",
    "    \"colsample_bytree\": uniform(0.7, 0.3),\n",
    "    \"gamma\": uniform(0, 0.5),\n",
    "    \"learning_rate\": uniform(0.03, 0.3), # default 0.1 \n",
    "    \"max_depth\": randint(2, 6), # default 3\n",
    "    \"n_estimators\": randint(100, 150), # default 100\n",
    "    \"subsample\": uniform(0.6, 0.4)\n",
    "}\n",
    "\n",
    "search_first = RandomizedSearchCV(xgb_mod, param_distributions=params, scoring = 'roc_auc', random_state=42, n_iter=5, cv=3, verbose=1, n_jobs=7, return_train_score=True)\n",
    "\n",
    "search_first.fit(X_train, y_train)\n",
    "\n",
    "report_best_scores(search_first.cv_results_, 1)"
   ]
  },
  {
   "cell_type": "code",
   "execution_count": 239,
   "metadata": {},
   "outputs": [
    {
     "data": {
      "text/plain": [
       "0.7056637087588481"
      ]
     },
     "execution_count": 239,
     "metadata": {},
     "output_type": "execute_result"
    }
   ],
   "source": [
    "search_first.best_score_"
   ]
  },
  {
   "cell_type": "code",
   "execution_count": 240,
   "metadata": {},
   "outputs": [],
   "source": [
    "from sklearn.metrics import f1_score, confusion_matrix, accuracy_score, roc_auc_score"
   ]
  },
  {
   "cell_type": "code",
   "execution_count": 241,
   "metadata": {},
   "outputs": [
    {
     "data": {
      "text/plain": [
       "0.7827876760789862"
      ]
     },
     "execution_count": 241,
     "metadata": {},
     "output_type": "execute_result"
    }
   ],
   "source": [
    "accuracy_score(pd.DataFrame(search_first.predict(X_test)), y_test)"
   ]
  },
  {
   "cell_type": "code",
   "execution_count": 242,
   "metadata": {},
   "outputs": [
    {
     "data": {
      "text/plain": [
       "0.7472799481716336"
      ]
     },
     "execution_count": 242,
     "metadata": {},
     "output_type": "execute_result"
    }
   ],
   "source": [
    "roc_auc_score(search_first.predict(X_test), y_test)"
   ]
  },
  {
   "cell_type": "code",
   "execution_count": 243,
   "metadata": {},
   "outputs": [
    {
     "data": {
      "text/plain": [
       "0.37312047521811764"
      ]
     },
     "execution_count": 243,
     "metadata": {},
     "output_type": "execute_result"
    }
   ],
   "source": [
    "f1_score(search_first.predict(X_test), y_test)"
   ]
  },
  {
   "cell_type": "code",
   "execution_count": 244,
   "metadata": {},
   "outputs": [
    {
     "data": {
      "text/plain": [
       "array([[22330,  5908],\n",
       "       [  846,  2010]], dtype=int64)"
      ]
     },
     "execution_count": 244,
     "metadata": {},
     "output_type": "execute_result"
    }
   ],
   "source": [
    "confusion_matrix(search_first.predict(X_test), y_test)"
   ]
  },
  {
   "cell_type": "code",
   "execution_count": 245,
   "metadata": {},
   "outputs": [],
   "source": [
    "from sklearn.linear_model import LogisticRegression\n"
   ]
  },
  {
   "cell_type": "code",
   "execution_count": 246,
   "metadata": {},
   "outputs": [
    {
     "name": "stderr",
     "output_type": "stream",
     "text": [
      "C:\\Users\\benne\\anaconda3\\lib\\site-packages\\sklearn\\linear_model\\_logistic.py:764: ConvergenceWarning: lbfgs failed to converge (status=1):\n",
      "STOP: TOTAL NO. of ITERATIONS REACHED LIMIT.\n",
      "\n",
      "Increase the number of iterations (max_iter) or scale the data as shown in:\n",
      "    https://scikit-learn.org/stable/modules/preprocessing.html\n",
      "Please also refer to the documentation for alternative solver options:\n",
      "    https://scikit-learn.org/stable/modules/linear_model.html#logistic-regression\n",
      "  extra_warning_msg=_LOGISTIC_SOLVER_CONVERGENCE_MSG)\n"
     ]
    }
   ],
   "source": [
    "lr = LogisticRegression().fit(X_train, y_train)"
   ]
  },
  {
   "cell_type": "code",
   "execution_count": 247,
   "metadata": {},
   "outputs": [
    {
     "data": {
      "text/plain": [
       "0.7789284106258442"
      ]
     },
     "execution_count": 247,
     "metadata": {},
     "output_type": "execute_result"
    }
   ],
   "source": [
    "accuracy_score(lr.predict(X_test), y_test)"
   ]
  },
  {
   "cell_type": "code",
   "execution_count": 248,
   "metadata": {},
   "outputs": [
    {
     "data": {
      "text/plain": [
       "0.7353923368673707"
      ]
     },
     "execution_count": 248,
     "metadata": {},
     "output_type": "execute_result"
    }
   ],
   "source": [
    "roc_auc_score(lr.predict(X_test), y_test)"
   ]
  },
  {
   "cell_type": "code",
   "execution_count": 249,
   "metadata": {},
   "outputs": [
    {
     "data": {
      "text/plain": [
       "0.36269237900982754"
      ]
     },
     "execution_count": 249,
     "metadata": {},
     "output_type": "execute_result"
    }
   ],
   "source": [
    "f1_score(lr.predict(X_test), y_test)"
   ]
  },
  {
   "cell_type": "code",
   "execution_count": 250,
   "metadata": {},
   "outputs": [
    {
     "data": {
      "text/plain": [
       "array([[22264,  5962],\n",
       "       [  912,  1956]], dtype=int64)"
      ]
     },
     "execution_count": 250,
     "metadata": {},
     "output_type": "execute_result"
    }
   ],
   "source": [
    "confusion_matrix(lr.predict(X_test), y_test)"
   ]
  },
  {
   "cell_type": "code",
   "execution_count": 251,
   "metadata": {},
   "outputs": [
    {
     "data": {
      "image/png": "[encoded data removed]",
      "text/plain": [
       "<Figure size 432x288 with 1 Axes>"
      ]
     },
     "metadata": {
      "needs_background": "light"
     },
     "output_type": "display_data"
    }
   ],
   "source": [
    "cm = confusion_matrix(lr.predict(X_test), y_test)\n",
    "\n",
    "plt.clf()\n",
    "plt.imshow(cm, interpolation='nearest', cmap=plt.cm.Wistia)\n",
    "classNames = ['Negative','Positive']\n",
    "plt.title('CIP Resistant or Not Confusion Matrix - Test Data for Logistic Regression')\n",
    "plt.ylabel('True label')\n",
    "plt.xlabel('Predicted label')\n",
    "tick_marks = np.arange(len(classNames))\n",
    "plt.xticks(tick_marks, classNames, rotation=45)\n",
    "plt.yticks(tick_marks, classNames)\n",
    "s = [['TN','FP'], ['FN', 'TP']]\n",
    "for i in range(2):\n",
    "    for j in range(2):\n",
    "        plt.text(j-0.25,i, str(s[i][j])+\" = \"+str(cm[i][j]))\n",
    "plt.show()"
   ]
  },
  {
   "cell_type": "code",
   "execution_count": 252,
   "metadata": {},
   "outputs": [],
   "source": [
    "from sklearn.ensemble import RandomForestClassifier"
   ]
  },
  {
   "cell_type": "code",
   "execution_count": 253,
   "metadata": {},
   "outputs": [],
   "source": [
    "rf = RandomForestClassifier().fit(X_train, y_train)"
   ]
  },
  {
   "cell_type": "code",
   "execution_count": 254,
   "metadata": {},
   "outputs": [
    {
     "data": {
      "text/plain": [
       "0.770566668810703"
      ]
     },
     "execution_count": 254,
     "metadata": {},
     "output_type": "execute_result"
    }
   ],
   "source": [
    "accuracy_score(rf.predict(X_test), y_test)"
   ]
  },
  {
   "cell_type": "code",
   "execution_count": 255,
   "metadata": {},
   "outputs": [
    {
     "data": {
      "text/plain": [
       "0.36383092562867847"
      ]
     },
     "execution_count": 255,
     "metadata": {},
     "output_type": "execute_result"
    }
   ],
   "source": [
    "f1_score(rf.predict(X_test), y_test)"
   ]
  },
  {
   "cell_type": "code",
   "execution_count": 256,
   "metadata": {},
   "outputs": [
    {
     "data": {
      "text/plain": [
       "array([[21920,  5878],\n",
       "       [ 1256,  2040]], dtype=int64)"
      ]
     },
     "execution_count": 256,
     "metadata": {},
     "output_type": "execute_result"
    }
   ],
   "source": [
    "confusion_matrix(rf.predict(X_test), y_test)"
   ]
  },
  {
   "cell_type": "code",
   "execution_count": null,
   "metadata": {},
   "outputs": [],
   "source": [
    "\n"
   ]
  },
  {
   "cell_type": "code",
   "execution_count": null,
   "metadata": {},
   "outputs": [],
   "source": []
  }
 ],
 "metadata": {
  "kernelspec": {
   "display_name": "Python 3",
   "language": "python",
   "name": "python3"
  },
  "language_info": {
   "codemirror_mode": {
    "name": "ipython",
    "version": 3
   },
   "file_extension": ".py",
   "mimetype": "text/x-python",
   "name": "python",
   "nbconvert_exporter": "python",
   "pygments_lexer": "ipython3",
   "version": "3.7.6"
  }
 },
 "nbformat": 4,
 "nbformat_minor": 4
}
